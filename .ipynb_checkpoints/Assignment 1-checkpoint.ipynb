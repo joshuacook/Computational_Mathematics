{
 "metadata": {
  "name": "",
  "signature": "sha256:4a33503491ace0290edaa72482cb3420ab4f76026a23a0db75d759310cc62fce"
 },
 "nbformat": 3,
 "nbformat_minor": 0,
 "worksheets": [
  {
   "cells": [
    {
     "cell_type": "code",
     "collapsed": false,
     "input": [
      "import numpy as np\n",
      "import numpy.linalg as nla\n",
      "import scipy.linalg as sla\n",
      "import scipy.sparse as sprs\n",
      "\n",
      "def KTBC(type='K',n=10,sparse=False):\n",
      "    # KTBC Create finite difference model matrix.\n",
      "    # K=KTBC(TYPE,N,SPARSE) creates model matrix TYPE of size N-by-N.\n",
      "    # TYPE is one of the characters 'K', 'T', 'B', or 'C'.\n",
      "    # The command K = KTBC('K', 100, 1) gives a sparse representation\n",
      "    # K=KTBC uses the defaults TYPE='K', n=10, and SPARSE=False.\n",
      "    # Change the 3rd argument from 1 to 0 for dense representation!\n",
      "    # If no 3rd argument is given, the default is dense\n",
      "    # If no argument at all, KTBC will give 10 by 10 matrix K\n",
      "    e = np.ones(n)\n",
      "    e_off = np.ones(n-1)\n",
      "    K = sprs.diags([-e_off,2*e,-e_off],[-1,0,1])\n",
      "\n",
      "    if type == 'K': \n",
      "        K = K\n",
      "    if type == 'T':\n",
      "        K = sprs.csr_matrix(K)\n",
      "        K[0,0] = 1\n",
      "    if type == 'B': \n",
      "        K = sprs.csr_matrix(K)\n",
      "        K[0,0] = 1\n",
      "        K[n-1,n-1] = 1\n",
      "    if type == 'C':\n",
      "        K = sprs.csr_matrix(K)\n",
      "        K[0,n-1] = -1\n",
      "        K[n-1,0] = -1\n",
      "\n",
      "\n",
      "    if sparse == False:\n",
      "        return K.todense()\n",
      "    else:\n",
      "        return K"
     ],
     "language": "python",
     "metadata": {},
     "outputs": [],
     "prompt_number": 2
    },
    {
     "cell_type": "markdown",
     "metadata": {},
     "source": [
      "# CSE Compuatational Assignment 1\n",
      "This homework is about convection-diffusion, an important equation. There\n",
      "will be a boundary layer of rapid change at one endpoint when the conditions are $u(0) = u(1) = 0$ and the $u'$ convection term dominates. The exact solution to $\u2212Du'' + u' = 1$ is \n",
      "\n",
      "$$u = x \u2212 (\\exp(x/D) \u2212 1)/(\\exp(1/D) \u2212 1)$$\n",
      "\n",
      "1) Graph that exact solution for $D = 1/25$\n",
      "\n",
      "2) Approximate $\u2212Du'\"$ as usual by $DK/h^2$ (try 3 different values of $h$)\n",
      "\n",
      "3) Approximate $u'$ by centered and forward and backward differences (same $h$)\n",
      "\n",
      "4) With `f = ones(n,1)` solve the matrix equations and label graphs of $u$\n",
      "\n",
      "5) Write a SHORT conclusion from your tests\u2014which method(s) to use ?"
     ]
    },
    {
     "cell_type": "markdown",
     "metadata": {},
     "source": [
      "# CSE Book Assignment 1\n",
      "\n",
      "## Section 1.1\n",
      "\n",
      "### Section 1.1.2\n",
      "\n",
      "Compute $T^{-1}_3$ in three steps using $U$ and $U^{-1}$ in equation (2):\n",
      "\n",
      "#### 1.1.2.1 \n",
      "Check that $T_3=U^TU$, where $U$ had 1s on the main diagonal and $-1$'s along the diagonal above. Its transpose $U^T$ is lower triangular\n",
      "\n",
      "\\begin{align*}\n",
      "T_3&=\\left[\\begin{matrix}\n",
      "1  & -1 &  0 \\\\ \n",
      "-1 &  2 & -1 \\\\\n",
      "0  & -1 &  2\n",
      "\\end{matrix}\\right]\\implies\n",
      "\\left[\\begin{matrix}\n",
      "1 & -1 &  0 \\\\ \n",
      "0 &  1 & -1 \\\\\n",
      "0 & -1 &  2\n",
      "\\end{matrix}\\right]\\implies\n",
      "\\left[\\begin{matrix}\n",
      "1 & -1 &  0 \\\\ \n",
      "0 &  1 & -1 \\\\\n",
      "0 &  0 &  1\n",
      "\\end{matrix}\\right]=U\\\\\n",
      "U^T&=\\left[\\begin{matrix}\n",
      "1 & 0 &  0 \\\\ \n",
      "-1 &  1 & 0 \\\\\n",
      "0 &  -1 &  1\n",
      "\\end{matrix}\\right]\\\\\n",
      "U^TU&=\\left[\\begin{matrix}\n",
      "1  &  0 & 0 \\\\ \n",
      "-1 &  1 & 0 \\\\\n",
      "0  & -1 & 1\n",
      "\\end{matrix}\\right]\n",
      "\\left[\\begin{matrix}\n",
      "1 & -1 &  0 \\\\ \n",
      "0 &  1 & -1 \\\\\n",
      "0 &  0 &  1\n",
      "\\end{matrix}\\right]=\n",
      "\\left[\\begin{matrix}\n",
      "1  & -1 &  0 \\\\ \n",
      "-1 &  2 & -1 \\\\\n",
      "0  & -1 &  2\n",
      "\\end{matrix}\\right]=T\n",
      "\\end{align*}"
     ]
    },
    {
     "cell_type": "code",
     "collapsed": false,
     "input": [
      "T3=KTBC('T',3)\n",
      "T3"
     ],
     "language": "python",
     "metadata": {},
     "outputs": [
      {
       "metadata": {},
       "output_type": "pyout",
       "prompt_number": 3,
       "text": [
        "matrix([[ 1., -1.,  0.],\n",
        "        [-1.,  2., -1.],\n",
        "        [ 0., -1.,  2.]])"
       ]
      }
     ],
     "prompt_number": 3
    },
    {
     "cell_type": "code",
     "collapsed": false,
     "input": [
      "# cholesky factorization of a matrix (chol(a) \n",
      "# in matlab returns an upper triangular matrix, \n",
      "# but linalg.cholesky(a) returns a lower triangular matrix)\n",
      "\n",
      "U = nla.cholesky(T3).T \n",
      "U"
     ],
     "language": "python",
     "metadata": {},
     "outputs": [
      {
       "metadata": {},
       "output_type": "pyout",
       "prompt_number": 24,
       "text": [
        "matrix([[ 1., -1.,  0.],\n",
        "        [ 0.,  1., -1.],\n",
        "        [ 0.,  0.,  1.]])"
       ]
      }
     ],
     "prompt_number": 24
    },
    {
     "cell_type": "code",
     "collapsed": false,
     "input": [
      "U.T"
     ],
     "language": "python",
     "metadata": {},
     "outputs": [
      {
       "metadata": {},
       "output_type": "pyout",
       "prompt_number": 7,
       "text": [
        "matrix([[ 1.,  0.,  0.],\n",
        "        [-1.,  1.,  0.],\n",
        "        [ 0., -1.,  1.]])"
       ]
      }
     ],
     "prompt_number": 7
    },
    {
     "cell_type": "code",
     "collapsed": false,
     "input": [
      "U.T.dot(U)"
     ],
     "language": "python",
     "metadata": {},
     "outputs": [
      {
       "metadata": {},
       "output_type": "pyout",
       "prompt_number": 8,
       "text": [
        "matrix([[ 1., -1.,  0.],\n",
        "        [-1.,  2., -1.],\n",
        "        [ 0., -1.,  2.]])"
       ]
      }
     ],
     "prompt_number": 8
    },
    {
     "cell_type": "markdown",
     "metadata": {},
     "source": [
      "#### 1.1.2.2 \n",
      "Check that $UU^{-1}=I$ when $U^{-1}$ has 1s on  and above the main diagonal. "
     ]
    },
    {
     "cell_type": "code",
     "collapsed": false,
     "input": [
      "U.I"
     ],
     "language": "python",
     "metadata": {},
     "outputs": [
      {
       "metadata": {},
       "output_type": "pyout",
       "prompt_number": 9,
       "text": [
        "matrix([[ 1.,  1.,  1.],\n",
        "        [ 0.,  1.,  1.],\n",
        "        [ 0.,  0.,  1.]])"
       ]
      }
     ],
     "prompt_number": 9
    },
    {
     "cell_type": "code",
     "collapsed": false,
     "input": [
      "U*U.I"
     ],
     "language": "python",
     "metadata": {},
     "outputs": [
      {
       "metadata": {},
       "output_type": "pyout",
       "prompt_number": 11,
       "text": [
        "matrix([[ 1.,  0.,  0.],\n",
        "        [ 0.,  1.,  0.],\n",
        "        [ 0.,  0.,  1.]])"
       ]
      }
     ],
     "prompt_number": 11
    },
    {
     "cell_type": "markdown",
     "metadata": {},
     "source": [
      "#### 1.1.2.3 \n",
      "Invert $U^TU$ to find $T^{-1}_3=(U^{-1})(U^{-1})^T$. *Inverses come in reverse order!*\n",
      "\n",
      "\\begin{align*}\n",
      "U^TU&=\\left[\\begin{matrix}\n",
      "1  &  0 & 0 \\\\ \n",
      "-1 &  1 & 0 \\\\\n",
      "0  & -1 & 1\n",
      "\\end{matrix}\\right]\n",
      "\\left[\\begin{matrix}\n",
      "1 & -1 &  0 \\\\ \n",
      "0 &  1 & -1 \\\\\n",
      "0 &  0 &  1\n",
      "\\end{matrix}\\right]\\\\\n",
      "(U^TU)^{-1}&=\\left(\\left[\\begin{matrix}\n",
      "1  &  0 & 0 \\\\ \n",
      "-1 &  1 & 0 \\\\\n",
      "0  & -1 & 1\n",
      "\\end{matrix}\\right]\n",
      "\\left[\\begin{matrix}\n",
      "1 & -1 &  0 \\\\ \n",
      "0 &  1 & -1 \\\\\n",
      "0 &  0 &  1\n",
      "\\end{matrix}\\right]\\right)^{-1}\\\\\n",
      "U^{-1}(U^T)^{-1}&=\n",
      "\\left(\\left[\\begin{matrix}\n",
      "1 & -1 &  0 \\\\ \n",
      "0 &  1 & -1 \\\\\n",
      "0 &  0 &  1\n",
      "\\end{matrix}\\right]\\right)^{-1}\n",
      "\\left(\\left[\\begin{matrix}\n",
      "1  &  0 & 0 \\\\ \n",
      "-1 &  1 & 0 \\\\\n",
      "0  & -1 & 1\n",
      "\\end{matrix}\\right]\\right)^{-1}\\\\\n",
      "&=\n",
      "\\left[\\begin{matrix}\n",
      "1 & 1 & 1 \\\\ \n",
      "0 & 1 & 1 \\\\\n",
      "0 & 0 & 1\n",
      "\\end{matrix}\\right]\n",
      "\\left[\\begin{matrix}\n",
      "1 & 0 & 0 \\\\ \n",
      "1 & 1 & 0 \\\\\n",
      "1 & 1 & 1\n",
      "\\end{matrix}\\right]\\\\\n",
      "&=\n",
      "\\left[\\begin{matrix}\n",
      "3 & 2 & 1 \\\\ \n",
      "2 & 2 & 1 \\\\\n",
      "1 & 1 & 1\n",
      "\\end{matrix}\\right]=T_3^{-1}\n",
      "\\end{align*}\n"
     ]
    },
    {
     "cell_type": "code",
     "collapsed": false,
     "input": [
      "U.I.T"
     ],
     "language": "python",
     "metadata": {},
     "outputs": [
      {
       "metadata": {},
       "output_type": "pyout",
       "prompt_number": 12,
       "text": [
        "matrix([[ 1.,  0.,  0.],\n",
        "        [ 1.,  1.,  0.],\n",
        "        [ 1.,  1.,  1.]])"
       ]
      }
     ],
     "prompt_number": 12
    },
    {
     "cell_type": "code",
     "collapsed": false,
     "input": [
      "U.I.dot(U.I.T)"
     ],
     "language": "python",
     "metadata": {},
     "outputs": [
      {
       "metadata": {},
       "output_type": "pyout",
       "prompt_number": 13,
       "text": [
        "matrix([[ 3.,  2.,  1.],\n",
        "        [ 2.,  2.,  1.],\n",
        "        [ 1.,  1.,  1.]])"
       ]
      }
     ],
     "prompt_number": 13
    },
    {
     "cell_type": "code",
     "collapsed": false,
     "input": [
      "T3.I"
     ],
     "language": "python",
     "metadata": {},
     "outputs": [
      {
       "metadata": {},
       "output_type": "pyout",
       "prompt_number": 14,
       "text": [
        "matrix([[ 3.,  2.,  1.],\n",
        "        [ 2.,  2.,  1.],\n",
        "        [ 1.,  1.,  1.]])"
       ]
      }
     ],
     "prompt_number": 14
    },
    {
     "cell_type": "markdown",
     "metadata": {},
     "source": [
      "### Section 1.1.5\n",
      "\n",
      "The inverses of $K_3$ and $K_4$ (please also invert $K_2$) have fractions $\\frac{1}{\\text{det}}=\\frac14$,$\\frac15$:\n",
      "\n",
      "$$K_3^{-1}=\n",
      "\\frac14\\left[\\begin{matrix}\n",
      "3 & 2 & 1 \\\\\n",
      "2 & 4 & 2 \\\\\n",
      "1 & 2 & 3\n",
      "\\end{matrix}\\right]\n",
      "\\text{ and }\n",
      "K_4^{-1}=\n",
      "\\frac15\\left[\\begin{matrix}\n",
      "4 & 3 & 2 & 1 \\\\\n",
      "3 & 6 & 4 & 2 \\\\\n",
      "2 & 4 & 6 & 3 \\\\\n",
      "1 & 2 & 3 & 4\n",
      "\\end{matrix}\\right]\n",
      "$$\n",
      "\n",
      "First *guess* the determinant of $K_5$. Then compute $\\text{det}(K_5)$ and $\\text{inv}(K_5)$ and $\\text{det}(K_5)\\cdot\\text{inv}(K_5)$. Software is allowed."
     ]
    },
    {
     "cell_type": "code",
     "collapsed": false,
     "input": [
      "K5 = KTBC('K',5)\n",
      "K5"
     ],
     "language": "python",
     "metadata": {},
     "outputs": [
      {
       "metadata": {},
       "output_type": "pyout",
       "prompt_number": 15,
       "text": [
        "matrix([[ 2., -1.,  0.,  0.,  0.],\n",
        "        [-1.,  2., -1.,  0.,  0.],\n",
        "        [ 0., -1.,  2., -1.,  0.],\n",
        "        [ 0.,  0., -1.,  2., -1.],\n",
        "        [ 0.,  0.,  0., -1.,  2.]])"
       ]
      }
     ],
     "prompt_number": 15
    },
    {
     "cell_type": "code",
     "collapsed": false,
     "input": [
      "K5_det = nla.det(K5)\n",
      "K5_det"
     ],
     "language": "python",
     "metadata": {},
     "outputs": [
      {
       "metadata": {},
       "output_type": "pyout",
       "prompt_number": 19,
       "text": [
        "6.0"
       ]
      }
     ],
     "prompt_number": 19
    },
    {
     "cell_type": "code",
     "collapsed": false,
     "input": [
      "K5.I"
     ],
     "language": "python",
     "metadata": {},
     "outputs": [
      {
       "metadata": {},
       "output_type": "pyout",
       "prompt_number": 17,
       "text": [
        "matrix([[ 0.83333333,  0.66666667,  0.5       ,  0.33333333,  0.16666667],\n",
        "        [ 0.66666667,  1.33333333,  1.        ,  0.66666667,  0.33333333],\n",
        "        [ 0.5       ,  1.        ,  1.5       ,  1.        ,  0.5       ],\n",
        "        [ 0.33333333,  0.66666667,  1.        ,  1.33333333,  0.66666667],\n",
        "        [ 0.16666667,  0.33333333,  0.5       ,  0.66666667,  0.83333333]])"
       ]
      }
     ],
     "prompt_number": 17
    },
    {
     "cell_type": "code",
     "collapsed": false,
     "input": [
      "K5_det*K5.I"
     ],
     "language": "python",
     "metadata": {},
     "outputs": [
      {
       "metadata": {},
       "output_type": "pyout",
       "prompt_number": 20,
       "text": [
        "matrix([[ 5.,  4.,  3.,  2.,  1.],\n",
        "        [ 4.,  8.,  6.,  4.,  2.],\n",
        "        [ 3.,  6.,  9.,  6.,  3.],\n",
        "        [ 2.,  4.,  6.,  8.,  4.],\n",
        "        [ 1.,  2.,  3.,  4.,  5.]])"
       ]
      }
     ],
     "prompt_number": 20
    },
    {
     "cell_type": "code",
     "collapsed": false,
     "input": [
      "K6 = KTBC('K',6)\n",
      "K7 = KTBC('K',7)"
     ],
     "language": "python",
     "metadata": {},
     "outputs": [],
     "prompt_number": 21
    },
    {
     "cell_type": "code",
     "collapsed": false,
     "input": [
      "nla.det(K6)*K6.I"
     ],
     "language": "python",
     "metadata": {},
     "outputs": [
      {
       "metadata": {},
       "output_type": "pyout",
       "prompt_number": 22,
       "text": [
        "matrix([[  6.,   5.,   4.,   3.,   2.,   1.],\n",
        "        [  5.,  10.,   8.,   6.,   4.,   2.],\n",
        "        [  4.,   8.,  12.,   9.,   6.,   3.],\n",
        "        [  3.,   6.,   9.,  12.,   8.,   4.],\n",
        "        [  2.,   4.,   6.,   8.,  10.,   5.],\n",
        "        [  1.,   2.,   3.,   4.,   5.,   6.]])"
       ]
      }
     ],
     "prompt_number": 22
    },
    {
     "cell_type": "code",
     "collapsed": false,
     "input": [
      "nla.det(K7)*K7.I"
     ],
     "language": "python",
     "metadata": {},
     "outputs": [
      {
       "metadata": {},
       "output_type": "pyout",
       "prompt_number": 23,
       "text": [
        "matrix([[  7.,   6.,   5.,   4.,   3.,   2.,   1.],\n",
        "        [  6.,  12.,  10.,   8.,   6.,   4.,   2.],\n",
        "        [  5.,  10.,  15.,  12.,   9.,   6.,   3.],\n",
        "        [  4.,   8.,  12.,  16.,  12.,   8.,   4.],\n",
        "        [  3.,   6.,   9.,  12.,  15.,  10.,   5.],\n",
        "        [  2.,   4.,   6.,   8.,  10.,  12.,   6.],\n",
        "        [  1.,   2.,   3.,   4.,   5.,   6.,   7.]])"
       ]
      }
     ],
     "prompt_number": 23
    },
    {
     "cell_type": "markdown",
     "metadata": {},
     "source": [
      "### Section 1.1.20\n",
      "\n",
      "The four ways to find $AB$ give numbers, columns, rows, and **matrices**:\n",
      "\n",
      "\n",
      "1. (*rows of A*) times (*columns of B*)  \n",
      "\n",
      "~~~\n",
      "C(i,j)=A(i,:)*B(:,j)\n",
      "~~~\n",
      "\n",
      "1. $A$ times (*columns of B*) \n",
      "\n",
      "~~~\n",
      "C(:,j) = A*B(:,j)\n",
      "~~~\n",
      "   \n",
      "1. (*rows of A*) times *B*\n",
      "\n",
      "~~~\n",
      "C(i,:) = A(i,:)*B\n",
      "~~~\n",
      "\n",
      "1. (*columns of A*) times (*rows of B*)\n",
      "\n",
      "~~~\n",
      "for k in range(n):\n",
      "       C = C + A(:,k)*B(k,:)\n",
      "~~~\n",
      "\n",
      "\n",
      "Finish these 8 multiplications for **columns times tows**. How many for $n$ by $n$?\n",
      "\n",
      "$$\\mmxx{2}{3}{4}{5}$$\n"
     ]
    },
    {
     "cell_type": "markdown",
     "metadata": {},
     "source": [
      "### Section 1.1.22\n",
      "\n"
     ]
    },
    {
     "cell_type": "markdown",
     "metadata": {},
     "source": [
      "## Section 1.2\n",
      "\n",
      "### Section 1.2.1\n",
      "\n"
     ]
    },
    {
     "cell_type": "markdown",
     "metadata": {},
     "source": [
      "### Section 1.2.2\n",
      "\n"
     ]
    },
    {
     "cell_type": "markdown",
     "metadata": {},
     "source": [
      "### Section 1.2.4\n",
      "\n"
     ]
    },
    {
     "cell_type": "markdown",
     "metadata": {},
     "source": [
      "### Section 1.2.7\n",
      "\n"
     ]
    },
    {
     "cell_type": "markdown",
     "metadata": {},
     "source": [
      "### Section 1.2.10\n",
      "\n"
     ]
    },
    {
     "cell_type": "markdown",
     "metadata": {},
     "source": [
      "### Section 1.2.19\n"
     ]
    },
    {
     "cell_type": "markdown",
     "metadata": {},
     "source": [
      "### Section 1.2.21"
     ]
    },
    {
     "cell_type": "code",
     "collapsed": false,
     "input": [],
     "language": "python",
     "metadata": {},
     "outputs": []
    }
   ],
   "metadata": {}
  }
 ]
}