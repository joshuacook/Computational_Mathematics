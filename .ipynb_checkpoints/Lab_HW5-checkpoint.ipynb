{
 "metadata": {
  "name": "",
  "signature": "sha256:7cf4011c86c267f984db9cf961201f5d3577d52114f979b6faba993181d66c74"
 },
 "nbformat": 3,
 "nbformat_minor": 0,
 "worksheets": [
  {
   "cells": [
    {
     "cell_type": "markdown",
     "metadata": {},
     "source": [
      "# Compuational \n",
      "- Write code to implement 2nd order two stage RK method\n",
      "- use it to solve \n",
      "    1. 1st order ODE - use Aitken's Extrapolation to verify order of the method (and also compare to exact solution).\n",
      "    2. 2nd order ODE - writing as 1st order system of ODEs\n",
      "\n",
      "       \\begin{align*}\n",
      "       \\frac{d^2\\theta}{dt^2}&=-\\frac{g}{L}\\theta \\tag{linear pendulum equation}\\\\\n",
      "       \\frac{d^2\\theta}{dt^2}&=-\\frac{g}{L}\\sin\\theta \\tag{linear pendulum equation}\\\\\n",
      "       \\end{align*}\n",
      "       \n",
      "       Compare to exact equation.\n",
      "\n",
      "# Paper and Pencil\n",
      "- Error analysis of RK method in first part. \n"
     ]
    },
    {
     "cell_type": "markdown",
     "metadata": {},
     "source": [
      "# The Runge\u2013Kutta method\n",
      "\n",
      "One member of the family of Runge\u2013Kutta methods is often referred to as  \"'''RK4'''\", \"'''classical Runge\u2013Kutta method'''\" or simply as \"'''''the'' Runge\u2013Kutta method'''\".\n",
      "\n",
      "Let an [[initial value problem]] be specified as follows.\n",
      "\n",
      "$ \\dot{y} = f(t, y), \\quad y(t_0) = y_0. $, $t\\in[t_0,t_f]$"
     ]
    },
    {
     "cell_type": "markdown",
     "metadata": {},
     "source": [
      "\\begin{align*}\n",
      "\\int_{t_n}^{t_{n+1}}\\frac{dy}{dt}&=\\int_{t_n}^{t_{n+1}}f(y(t),t)\\ dt\\\\\n",
      "y(t_{n+1})&=y(t_n)+\\int_{t_n}^{t_{n+1}}f(y(t),t)\\ dt\\\\\n",
      "\\end{align*}"
     ]
    },
    {
     "cell_type": "markdown",
     "metadata": {},
     "source": [
      "\\begin{align*}\n",
      "y_{n+1}=y_n+\\Delta t\\sum_{i=0}^Rw_if(y(\\tau_i),\\tau_i)\\tag{for $\\tau_i\\in[t_n,t_{n+1}]$}\\\\\n",
      "\\end{align*}"
     ]
    },
    {
     "cell_type": "markdown",
     "metadata": {},
     "source": [
      "Problem:\n",
      "~    we only know the approximate solution up to $t=t_n$, we cannot evaluate exactly $f(y(\\tau_i),\\tau_i)$\n",
      "\n",
      "Approximation:\n",
      "~    $f(y(\\tau_i),\\tau_i)\\approx f(y_n+b_ik_i,\\tau_i+c_i\\Delta t)$"
     ]
    },
    {
     "cell_type": "markdown",
     "metadata": {},
     "source": [
      "# Example: Midpoint Rule\n",
      "If we use the midpoint rule to approximate $\\int_{t_n}^{t_{n+1}}f(y(t),t)\\ dt$\n",
      "\n",
      "\\begin{align*}\n",
      "\\int_{t_n}^{t_{n+1}}f(y(t),t)\\ dt&\\approx \\Delta tf(y(t_{n+1/2}),t_{n+1/2})\\tag{$t_{n+1/2}=t_n+\\frac12\\Delta t$}\\\\\n",
      "k_1&=\\Delta t f(y_n,t_n)\\\\\n",
      "k_2&=\\Delta t f(y_n+1/2k_1,t_n+1/2\\Delta t)\n",
      "y_n&=y_n+k_2\n",
      "\\end{align*}"
     ]
    },
    {
     "cell_type": "markdown",
     "metadata": {},
     "source": [
      "# Write a function that implement RK2\n"
     ]
    },
    {
     "cell_type": "code",
     "collapsed": false,
     "input": [
      "import numpy as np\n",
      "f = lambda y,t: (3*t**2+4*t+2)/2*(y-1)\n",
      "\n",
      "def RK_step(fn,yn,tn,delta_t):\n",
      "    k1=delta_t*fn(yn,tn)\n",
      "    k2=delta_t*fn(yn+1./2*k1,tn+1./2*delta_t)\n",
      "    return yn+k2\n",
      "\n",
      "N = 3\n",
      "xmin = -1\n",
      "xmax = 1\n",
      "delta_t = (xmin-xmax)/N\n",
      "\n",
      "y = np.zeros(N)\n",
      "t = np.linspace(-1,1,N)\n",
      "\n",
      "# RK_step(f,y[0],t[0],delta_t)\n",
      "\n",
      "def RK_method(fn,t0,tf,y0,delta_t):\n",
      "    t = np.array(n+1)\n",
      "    t_value = t0\n",
      "    N = 0\n",
      "    while (t_value < tf):\n",
      "        t.append(t_value)\n",
      "        t_value+=delta_t\n",
      "        N+=1\n",
      "    t.append)tf)\n",
      "    N+1\n",
      "\n",
      "for n in range(N-1):\n",
      "    y[n+1] = RK_step(f,y[n],t[n],delta_t)\n",
      "    \n",
      "y\n",
      "\n",
      "# plot the solution "
     ],
     "language": "python",
     "metadata": {},
     "outputs": [
      {
       "metadata": {},
       "output_type": "pyout",
       "prompt_number": 17,
       "text": [
        "array([ 0.        ,  1.03125   ,  1.02539062])"
       ]
      }
     ],
     "prompt_number": 17
    },
    {
     "cell_type": "markdown",
     "metadata": {},
     "source": [
      "## Problem 4"
     ]
    },
    {
     "cell_type": "code",
     "collapsed": false,
     "input": [
      "def fproblem4(y,t):\n",
      "    return 4*y*(1-y)"
     ],
     "language": "python",
     "metadata": {},
     "outputs": []
    },
    {
     "cell_type": "markdown",
     "metadata": {},
     "source": [
      "**Problem 5**\n",
      "Rewrite a scalar ODE as a system \n",
      "\n",
      "2nd order ODE - writing as 1st order system of ODEs\n",
      "\n",
      "   \\begin{align*}\n",
      "   \\frac{d^2\\theta}{dt^2}&=-\\frac{g}{L}\\theta \\tag{linear pendulum equation}\\\\\n",
      "   \\frac{d^2\\theta}{dt^2}&=-\\frac{g}{L}\\sin\\theta \\tag{linear pendulum equation}\\\\\n",
      "   \\end{align*}\n",
      "   \n",
      "Given $\\theta(0) =\\theta_0$ and $\\theta'(0)=v_0$\n",
      "\n",
      "$$\\frac{dy}{dt}=\\langle y_1, y_2 \\rangle = \\langle y_2, -\\frac{g}{L}y_1\\rangle $$\n",
      "\n",
      "$$y=\\left( \\begin{array}{c}y_1 \\\\y_2\\end{array} \\right)$$\n",
      "\n",
      "$$\\frac{dy}{dt}=\\frac{d}{dt}\\left( \\begin{array}{c}y_1 \\\\y_2\\end{array} \\right)=\\left( \\begin{array}{c}y_2 \\\\-\\frac{g}{L}y_1\\end{array} \\right)$$"
     ]
    },
    {
     "cell_type": "code",
     "collapsed": false,
     "input": [
      "def fpendulum(L,y):\n",
      "    '''L, length, y, a vector'''\n",
      "    g = 9.81\n",
      "    f = np.zeros(2,float)\n",
      "    f[0]=y[1]\n",
      "    f[1] = - (g/L)*y[0]\n",
      "    \n",
      "    return f\n",
      "\n",
      "# use rk2 method to solve"
     ],
     "language": "python",
     "metadata": {},
     "outputs": []
    }
   ],
   "metadata": {}
  }
 ]
}