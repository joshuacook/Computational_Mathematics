{
 "metadata": {
  "name": "",
  "signature": "sha256:3a77ad42df35719bdd39da27ffed7fefaedf08faf3246e32f085ac830b2449e2"
 },
 "nbformat": 3,
 "nbformat_minor": 0,
 "worksheets": []
}