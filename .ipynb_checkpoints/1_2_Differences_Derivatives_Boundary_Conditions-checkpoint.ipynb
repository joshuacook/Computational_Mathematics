{
 "metadata": {
  "name": "",
  "signature": "sha256:3b9b68564dc2f0dd97f91252d1e55bed8ae6aa92423b75e497a402cc6e3ea3e0"
 },
 "nbformat": 3,
 "nbformat_minor": 0,
 "worksheets": [
  {
   "cells": [
    {
     "cell_type": "code",
     "collapsed": false,
     "input": [
      "import numpy as np\n",
      "import numpy.linalg as nla\n",
      "import scipy.linalg as sla\n",
      "import scipy.sparse as sprs\n",
      "import scipy.sparse.linalg as spla\n",
      "import matplotlib as plt\n",
      "%matplotlib inline\n",
      "\n",
      "%load KTBC.py"
     ],
     "language": "python",
     "metadata": {},
     "outputs": [],
     "prompt_number": 1
    },
    {
     "cell_type": "code",
     "collapsed": false,
     "input": [
      "def KTBC(type='K',n=10,sparse=False):\n",
      "    # KTBC Create finite difference model matrix.\n",
      "    # K=KTBC(TYPE,N,SPARSE) creates model matrix TYPE of size N-by-N.\n",
      "    # TYPE is one of the characters 'K', 'T', 'B', or 'C'.\n",
      "    # The command K = KTBC('K', 100, 1) gives a sparse representation\n",
      "    # K=KTBC uses the defaults TYPE='K', n=10, and SPARSE=False.\n",
      "    # Change the 3rd argument from 1 to 0 for dense representation!\n",
      "    # If no 3rd argument is given, the default is dense\n",
      "    # If no argument at all, KTBC will give 10 by 10 matrix K\n",
      "    e = np.ones(n)\n",
      "    e_off = np.ones(n-1)\n",
      "    K = sprs.diags([-e_off,2*e,-e_off],[-1,0,1])\n",
      "\n",
      "    if type == 'K': \n",
      "        K = K\n",
      "    if type == 'T':\n",
      "        K = sprs.csr_matrix(K)\n",
      "        K[0,0] = 1\n",
      "    if type == 'B': \n",
      "        K = sprs.csr_matrix(K)\n",
      "        K[0,0] = 1\n",
      "        K[n-1,n-1] = 1\n",
      "    if type == 'C':\n",
      "        K = sprs.csr_matrix(K)\n",
      "        K[0,n-1] = -1\n",
      "        K[n-1,0] = -1\n",
      "\n",
      "\n",
      "    if sparse == False:\n",
      "        return K.todense()\n",
      "    else:\n",
      "        return K"
     ],
     "language": "python",
     "metadata": {},
     "outputs": []
    },
    {
     "cell_type": "code",
     "collapsed": false,
     "input": [
      "def KTBC(type='K',n=10,sparse=False):\n",
      "    # KTBC Create finite difference model matrix.\n",
      "    # K=KTBC(TYPE,N,SPARSE) creates model matrix TYPE of size N-by-N.\n",
      "    # TYPE is one of the characters 'K', 'T', 'B', or 'C'.\n",
      "    # The command K = KTBC('K', 100, 1) gives a sparse representation\n",
      "    # K=KTBC uses the defaults TYPE='K', n=10, and SPARSE=False.\n",
      "    # Change the 3rd argument from 1 to 0 for dense representation!\n",
      "    # If no 3rd argument is given, the default is dense\n",
      "    # If no argument at all, KTBC will give 10 by 10 matrix K\n",
      "    e = np.ones(n)\n",
      "    e_off = np.ones(n-1)\n",
      "    K = sprs.diags([-e_off,2*e,-e_off],[-1,0,1])\n",
      "\n",
      "    if type == 'K': \n",
      "        K = K\n",
      "    if type == 'T':\n",
      "        K = sprs.csr_matrix(K)\n",
      "        K[0,0] = 1\n",
      "    if type == 'B': \n",
      "        K = sprs.csr_matrix(K)\n",
      "        K[0,0] = 1\n",
      "        K[n-1,n-1] = 1\n",
      "    if type == 'C':\n",
      "        K = sprs.csr_matrix(K)\n",
      "        K[0,n-1] = -1\n",
      "        K[n-1,0] = -1\n",
      "\n",
      "\n",
      "    if sparse == False:\n",
      "        return K.todense()\n",
      "    else:\n",
      "        return K"
     ],
     "language": "python",
     "metadata": {},
     "outputs": [],
     "prompt_number": 2
    },
    {
     "cell_type": "code",
     "collapsed": false,
     "input": [
      "def KTBC(type='K',n=10,sparse=False):\n",
      "    # KTBC Create finite difference model matrix.\n",
      "    # K=KTBC(TYPE,N,SPARSE) creates model matrix TYPE of size N-by-N.\n",
      "    # TYPE is one of the characters 'K', 'T', 'B', or 'C'.\n",
      "    # The command K = KTBC('K', 100, 1) gives a sparse representation\n",
      "    # K=KTBC uses the defaults TYPE='K', n=10, and SPARSE=False.\n",
      "    # Change the 3rd argument from 1 to 0 for dense representation!\n",
      "    # If no 3rd argument is given, the default is dense\n",
      "    # If no argument at all, KTBC will give 10 by 10 matrix K\n",
      "    e = np.ones(n)\n",
      "    e_off = np.ones(n-1)\n",
      "    K = sprs.diags([-e_off,2*e,-e_off],[-1,0,1])\n",
      "\n",
      "    if type == 'K': \n",
      "        K = K\n",
      "    if type == 'T':\n",
      "        K = sprs.csr_matrix(K)\n",
      "        K[0,0] = 1\n",
      "    if type == 'B': \n",
      "        K = sprs.csr_matrix(K)\n",
      "        K[0,0] = 1\n",
      "        K[n-1,n-1] = 1\n",
      "    if type == 'C':\n",
      "        K = sprs.csr_matrix(K)\n",
      "        K[0,n-1] = -1\n",
      "        K[n-1,0] = -1\n",
      "\n",
      "\n",
      "    if sparse == False:\n",
      "        return K.todense()\n",
      "    else:\n",
      "        return K"
     ],
     "language": "python",
     "metadata": {},
     "outputs": [],
     "prompt_number": 3
    },
    {
     "cell_type": "code",
     "collapsed": false,
     "input": [
      "def KTBC(type='K',n=10,sparse=False):\n",
      "    # KTBC Create finite difference model matrix.\n",
      "    # K=KTBC(TYPE,N,SPARSE) creates model matrix TYPE of size N-by-N.\n",
      "    # TYPE is one of the characters 'K', 'T', 'B', or 'C'.\n",
      "    # The command K = KTBC('K', 100, 1) gives a sparse representation\n",
      "    # K=KTBC uses the defaults TYPE='K', n=10, and SPARSE=False.\n",
      "    # Change the 3rd argument from 1 to 0 for dense representation!\n",
      "    # If no 3rd argument is given, the default is dense\n",
      "    # If no argument at all, KTBC will give 10 by 10 matrix K\n",
      "    e = np.ones(n)\n",
      "    e_off = np.ones(n-1)\n",
      "    K = sprs.diags([-e_off,2*e,-e_off],[-1,0,1])\n",
      "\n",
      "    if type == 'K': \n",
      "        K = K\n",
      "    if type == 'T':\n",
      "        K = sprs.csr_matrix(K)\n",
      "        K[0,0] = 1\n",
      "    if type == 'B': \n",
      "        K = sprs.csr_matrix(K)\n",
      "        K[0,0] = 1\n",
      "        K[n-1,n-1] = 1\n",
      "    if type == 'C':\n",
      "        K = sprs.csr_matrix(K)\n",
      "        K[0,n-1] = -1\n",
      "        K[n-1,0] = -1\n",
      "\n",
      "\n",
      "    if sparse == False:\n",
      "        return K.todense()\n",
      "    else:\n",
      "        return K"
     ],
     "language": "python",
     "metadata": {},
     "outputs": [],
     "prompt_number": 4
    },
    {
     "cell_type": "code",
     "collapsed": false,
     "input": [
      "K8 = KTBC('K',8)\n",
      "T8 = KTBC('T',8)\n",
      "B8 = KTBC('B',8)\n",
      "C8 = KTBC('C',8)\n",
      "\n"
     ],
     "language": "python",
     "metadata": {},
     "outputs": [
      {
       "output_type": "stream",
       "stream": "stderr",
       "text": [
        "/usr/local/lib/python2.7/dist-packages/numpy/core/fromnumeric.py:2499: VisibleDeprecationWarning: `rank` is deprecated; use the `ndim` attribute or function instead. To find the rank of a matrix see `numpy.linalg.matrix_rank`.\n",
        "  VisibleDeprecationWarning)\n",
        "/usr/lib/python2.7/dist-packages/scipy/sparse/compressed.py:728: SparseEfficiencyWarning: Changing the sparsity structure of a csr_matrix is expensive. lil_matrix is more efficient.\n",
        "  SparseEfficiencyWarning)\n"
       ]
      }
     ],
     "prompt_number": 5
    },
    {
     "cell_type": "markdown",
     "metadata": {},
     "source": [
      "## Constant Function"
     ]
    },
    {
     "cell_type": "code",
     "collapsed": false,
     "input": [
      "print K8.dot(np.array([1,1,1,1,1,1,1,1]))\n",
      "print T8.dot(np.array([1,1,1,1,1,1,1,1]))\n",
      "print B8.dot(np.array([1,1,1,1,1,1,1,1]))\n",
      "print C8.dot(np.array([1,1,1,1,1,1,1,1]))"
     ],
     "language": "python",
     "metadata": {},
     "outputs": [
      {
       "output_type": "stream",
       "stream": "stdout",
       "text": [
        "[[ 1.  0.  0.  0.  0.  0.  0.  1.]]\n",
        "[[ 0.  0.  0.  0.  0.  0.  0.  1.]]\n",
        "[[ 0.  0.  0.  0.  0.  0.  0.  0.]]\n",
        "[[ 0.  0.  0.  0.  0.  0.  0.  0.]]\n"
       ]
      }
     ],
     "prompt_number": 6
    },
    {
     "cell_type": "markdown",
     "metadata": {},
     "source": [
      "## Linear Function"
     ]
    },
    {
     "cell_type": "code",
     "collapsed": false,
     "input": [
      "print K8.dot(np.array([0,1,2,3,4,5,6,7]))\n",
      "print T8.dot(np.array([0,1,2,3,4,5,6,7]))\n",
      "print B8.dot(np.array([0,1,2,3,4,5,6,7]))\n",
      "print C8.dot(np.array([0,1,2,3,4,5,6,7]))"
     ],
     "language": "python",
     "metadata": {},
     "outputs": [
      {
       "output_type": "stream",
       "stream": "stdout",
       "text": [
        "[[-1.  0.  0.  0.  0.  0.  0.  8.]]\n",
        "[[-1.  0.  0.  0.  0.  0.  0.  8.]]\n",
        "[[-1.  0.  0.  0.  0.  0.  0.  1.]]\n",
        "[[-8.  0.  0.  0.  0.  0.  0.  8.]]\n"
       ]
      }
     ],
     "prompt_number": 7
    },
    {
     "cell_type": "markdown",
     "metadata": {},
     "source": [
      "## Quadratic Function\n"
     ]
    },
    {
     "cell_type": "code",
     "collapsed": false,
     "input": [
      "print K8.dot(np.array([0,1,4,9,16,25,36,49]))\n",
      "print T8.dot(np.array([0,1,4,9,16,25,36,49]))\n",
      "print B8.dot(np.array([0,1,4,9,16,25,36,49]))\n",
      "print C8.dot(np.array([0,1,4,9,16,25,36,49]))"
     ],
     "language": "python",
     "metadata": {},
     "outputs": [
      {
       "output_type": "stream",
       "stream": "stdout",
       "text": [
        "[[ -1.  -2.  -2.  -2.  -2.  -2.  -2.  62.]]\n",
        "[[ -1.  -2.  -2.  -2.  -2.  -2.  -2.  62.]]\n",
        "[[ -1.  -2.  -2.  -2.  -2.  -2.  -2.  13.]]\n",
        "[[-50.  -2.  -2.  -2.  -2.  -2.  -2.  62.]]\n"
       ]
      }
     ],
     "prompt_number": 8
    },
    {
     "cell_type": "markdown",
     "metadata": {},
     "source": [
      "## Cubic Function"
     ]
    },
    {
     "cell_type": "code",
     "collapsed": false,
     "input": [
      "print K8.dot(np.array([0,1,8,27,64,125,216,343]))\n",
      "print T8.dot(np.array([0,1,8,27,64,125,216,343]))\n",
      "print B8.dot(np.array([0,1,8,27,64,125,216,343]))\n",
      "print C8.dot(np.array([0,1,8,27,64,125,216,343]))"
     ],
     "language": "python",
     "metadata": {},
     "outputs": [
      {
       "output_type": "stream",
       "stream": "stdout",
       "text": [
        "[[  -1.   -6.  -12.  -18.  -24.  -30.  -36.  470.]]\n",
        "[[  -1.   -6.  -12.  -18.  -24.  -30.  -36.  470.]]\n",
        "[[  -1.   -6.  -12.  -18.  -24.  -30.  -36.  127.]]\n",
        "[[-344.   -6.  -12.  -18.  -24.  -30.  -36.  470.]]\n"
       ]
      }
     ],
     "prompt_number": 9
    },
    {
     "cell_type": "markdown",
     "metadata": {},
     "source": [
      "## Delta Function"
     ]
    },
    {
     "cell_type": "code",
     "collapsed": false,
     "input": [
      "print K8.dot(np.array([0,0,0,0,1,0,0,0]))\n",
      "print T8.dot(np.array([0,0,0,0,1,0,0,0]))\n",
      "print B8.dot(np.array([0,0,0,0,1,0,0,0]))\n",
      "print C8.dot(np.array([0,0,0,0,1,0,0,0]))"
     ],
     "language": "python",
     "metadata": {},
     "outputs": [
      {
       "output_type": "stream",
       "stream": "stdout",
       "text": [
        "[[ 0.  0.  0. -1.  2. -1.  0.  0.]]\n",
        "[[ 0.  0.  0. -1.  2. -1.  0.  0.]]\n",
        "[[ 0.  0.  0. -1.  2. -1.  0.  0.]]\n",
        "[[ 0.  0.  0. -1.  2. -1.  0.  0.]]\n"
       ]
      }
     ],
     "prompt_number": 10
    },
    {
     "cell_type": "markdown",
     "metadata": {},
     "source": [
      "## Heaviside Function"
     ]
    },
    {
     "cell_type": "code",
     "collapsed": false,
     "input": [
      "print K8.dot(np.array([0,0,0,0,1,1,1,1]))\n",
      "print T8.dot(np.array([0,0,0,0,1,1,1,1]))\n",
      "print B8.dot(np.array([0,0,0,0,1,1,1,1]))\n",
      "print C8.dot(np.array([0,0,0,0,1,1,1,1]))"
     ],
     "language": "python",
     "metadata": {},
     "outputs": [
      {
       "output_type": "stream",
       "stream": "stdout",
       "text": [
        "[[ 0.  0.  0. -1.  1.  0.  0.  1.]]\n",
        "[[ 0.  0.  0. -1.  1.  0.  0.  1.]]\n",
        "[[ 0.  0.  0. -1.  1.  0.  0.  0.]]\n",
        "[[-1.  0.  0. -1.  1.  0.  0.  1.]]\n"
       ]
      }
     ],
     "prompt_number": 11
    },
    {
     "cell_type": "markdown",
     "metadata": {},
     "source": [
      "## Ramp Function"
     ]
    },
    {
     "cell_type": "code",
     "collapsed": false,
     "input": [
      "print K8.dot(np.array([0,0,0,0,1,2,3,4]))\n",
      "print T8.dot(np.array([0,0,0,0,1,2,3,4]))\n",
      "print B8.dot(np.array([0,0,0,0,1,2,3,4]))\n",
      "print C8.dot(np.array([0,0,0,0,1,2,3,4]))"
     ],
     "language": "python",
     "metadata": {},
     "outputs": [
      {
       "output_type": "stream",
       "stream": "stdout",
       "text": [
        "[[ 0.  0.  0. -1.  0.  0.  0.  5.]]\n",
        "[[ 0.  0.  0. -1.  0.  0.  0.  5.]]\n",
        "[[ 0.  0.  0. -1.  0.  0.  0.  1.]]\n",
        "[[-4.  0.  0. -1.  0.  0.  0.  5.]]\n"
       ]
      }
     ],
     "prompt_number": 12
    },
    {
     "cell_type": "markdown",
     "metadata": {},
     "source": [
      "## Finite Difference Solution to Differential Equation\n",
      "**Example** Solve the differential and difference equations with constant force $f(x)=1$ and fixed ends $u(0)=u_0=u(1)=u_1=0$. \n",
      "\n",
      "\\begin{align*}\n",
      "-\\diff{^2u}{x^2}&=1\\ \\ \\ \\text{with} \\ \\ \\ u(0)=0 \\ \\ \\ \\text{and}\\ \\ \\ u(1)=0\\\\\n",
      "\\frac{-u_{i+1}+2u_1-u_{i-1}}{h^2}&=1\\ \\ \\ \\text{with} \\ \\ \\ u_0=0 \\ \\ \\ \\text{and}\\ \\ \\ u_{n+1}=0\n",
      "\\end{align*}\n",
      "\n",
      "### Analytic solution to differential equation\n",
      "$$u(x)=\\frac12x-\\frac12x^2$$"
     ]
    },
    {
     "cell_type": "code",
     "collapsed": false,
     "input": [
      "u = lambda x: 0.5*x - 0.5*x**2\n",
      "x_vec = np.linspace(0,1,500)"
     ],
     "language": "python",
     "metadata": {},
     "outputs": [],
     "prompt_number": 56
    },
    {
     "cell_type": "code",
     "collapsed": false,
     "input": [
      "f = np.array([1., 1., 1.])\n",
      "f"
     ],
     "language": "python",
     "metadata": {},
     "outputs": [
      {
       "metadata": {},
       "output_type": "pyout",
       "prompt_number": 64,
       "text": [
        "array([ 1.,  1.,  1.])"
       ]
      }
     ],
     "prompt_number": 64
    },
    {
     "cell_type": "code",
     "collapsed": false,
     "input": [
      "K3 = 16.*KTBC('K',3)\n",
      "K3"
     ],
     "language": "python",
     "metadata": {},
     "outputs": [
      {
       "metadata": {},
       "output_type": "pyout",
       "prompt_number": 65,
       "text": [
        "matrix([[ 32., -16.,   0.],\n",
        "        [-16.,  32., -16.],\n",
        "        [  0., -16.,  32.]])"
       ]
      }
     ],
     "prompt_number": 65
    },
    {
     "cell_type": "code",
     "collapsed": false,
     "input": [
      "soln = nla.solve(K3,f)\n",
      "soln_vec = np.linspace(0.25,.75,3)"
     ],
     "language": "python",
     "metadata": {},
     "outputs": [],
     "prompt_number": 66
    },
    {
     "cell_type": "code",
     "collapsed": false,
     "input": [
      "plt.pyplot.plot(x_vec,u(x_vec))\n",
      "plt.pyplot.plot(soln_vec,soln)"
     ],
     "language": "python",
     "metadata": {},
     "outputs": [
      {
       "metadata": {},
       "output_type": "pyout",
       "prompt_number": 67,
       "text": [
        "[<matplotlib.lines.Line2D at 0x7fac5dc3a390>]"
       ]
      },
      {
       "metadata": {},
       "output_type": "display_data",
       "png": "[encoded data removed]",
       "text": [
        "<matplotlib.figure.Figure at 0x7fac5dc3a210>"
       ]
      }
     ],
     "prompt_number": 67
    },
    {
     "cell_type": "code",
     "collapsed": false,
     "input": [],
     "language": "python",
     "metadata": {},
     "outputs": []
    }
   ],
   "metadata": {}
  }
 ]
}