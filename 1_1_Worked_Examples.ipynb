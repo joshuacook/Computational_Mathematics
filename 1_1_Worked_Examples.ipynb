{
 "metadata": {
  "name": "",
  "signature": "sha256:3bd1df5b40048b269027f0431fe9d2872bc1f356999a44c6d0e488fbf1ded0ae"
 },
 "nbformat": 3,
 "nbformat_minor": 0,
 "worksheets": [
  {
   "cells": [
    {
     "cell_type": "code",
     "collapsed": false,
     "input": [
      "import random\n",
      "import numpy as np\n",
      "import numpy.linalg as nla\n",
      "import scipy.linalg as sla\n",
      "import scipy.sparse as sprs\n",
      "from sympy.abc import w,x,y,z\n",
      "\n",
      "def KTBC(type='K',n=10,sparse=False):\n",
      "    # KTBC Create finite difference model matrix.\n",
      "    # K=KTBC(TYPE,N,SPARSE) creates model matrix TYPE of size N-by-N.\n",
      "    # TYPE is one of the characters 'K', 'T', 'B', or 'C'.\n",
      "    # The command K = KTBC('K', 100, 1) gives a sparse representation\n",
      "    # K=KTBC uses the defaults TYPE='K', n=10, and SPARSE=False.\n",
      "    # Change the 3rd argument from 1 to 0 for dense representation!\n",
      "    # If no 3rd argument is given, the default is dense\n",
      "    # If no argument at all, KTBC will give 10 by 10 matrix K\n",
      "    e = np.ones(n)\n",
      "    e_off = np.ones(n-1)\n",
      "    K = sprs.diags([-e_off,2*e,-e_off],[-1,0,1])\n",
      "\n",
      "    if type == 'K': \n",
      "        K = K\n",
      "    if type == 'T':\n",
      "        K = sprs.csr_matrix(K)\n",
      "        K[0,0] = 1\n",
      "    if type == 'B': \n",
      "        K = sprs.csr_matrix(K)\n",
      "        K[0,0] = 1\n",
      "        K[n-1,n-1] = 1\n",
      "    if type == 'C':\n",
      "        K = sprs.csr_matrix(K)\n",
      "        K[0,n-1] = -1\n",
      "        K[n-1,0] = -1\n",
      "\n",
      "\n",
      "    if sparse == False:\n",
      "        return K.todense()\n",
      "    else:\n",
      "        return K\n",
      "    \n",
      "def pretty_vector(v):\n",
      "    for i in range(v.size):\n",
      "        print v[0,i]"
     ],
     "language": "python",
     "metadata": {},
     "outputs": [],
     "prompt_number": 58
    },
    {
     "cell_type": "markdown",
     "metadata": {},
     "source": [
      "## Worked Example 1.1 A\n",
      "Show that every vector $f=Bu$ has $f_1+f_2+\\dots+f_n=0$. \n",
      "\n",
      "Physical meaning: **the external forces balance.**.\n",
      "\n",
      "Linear algebra meaning: $Bu=f$ is solvable when $f$ is perpendicular to the all-ones column vector $e=(1,1,1,1,\\dots)=$`np.ones(n,1)`."
     ]
    },
    {
     "cell_type": "markdown",
     "metadata": {},
     "source": [
      "$Bu$ is a vector of \"differences\" of $u$'s elements. Those always add to zero:\n",
      "\n",
      "$$f=Bu=\\left[\n",
      "\\begin{matrix}\n",
      "1 & -1 & & \\\\\n",
      "-1 & 2 & -1 & \\\\\n",
      " & -1 & 2 & -1 \\\\\n",
      " & & -1 & 1\n",
      " \\end{matrix}\n",
      " \\right]\n",
      " \\left[\\begin{matrix}\n",
      " w\\\\\n",
      " x\\\\\n",
      " y\\\\\n",
      " z\\\\\n",
      " \\end{matrix}\\right]\n",
      " =\n",
      " \\left[\\begin{matrix}\n",
      " w-x\\\\\n",
      " -w+2x-y\\\\\n",
      " -x+2y-z\\\\\n",
      " -y+z\\\\\n",
      " \\end{matrix}\\right]\n",
      " $$\n",
      " \n",
      " All terms cancel in $ (w-x)+(-w+2x-y)+(-x+2y-z)+(-y+z)=0$. The dot product with $e$ is that sum $f^Te = f_1+f_2+f_3+f_4=0$."
     ]
    },
    {
     "cell_type": "code",
     "collapsed": false,
     "input": [
      "u = np.array([w,x,y,z])\n",
      "u"
     ],
     "language": "python",
     "metadata": {},
     "outputs": [
      {
       "metadata": {},
       "output_type": "pyout",
       "prompt_number": 68,
       "text": [
        "array([w, x, y, z], dtype=object)"
       ]
      }
     ],
     "prompt_number": 68
    },
    {
     "cell_type": "code",
     "collapsed": false,
     "input": [
      "B4 = KTBC('B',4,0)\n",
      "B4"
     ],
     "language": "python",
     "metadata": {},
     "outputs": [
      {
       "metadata": {},
       "output_type": "pyout",
       "prompt_number": 62,
       "text": [
        "matrix([[ 1., -1.,  0.,  0.],\n",
        "        [-1.,  2., -1.,  0.],\n",
        "        [ 0., -1.,  2., -1.],\n",
        "        [ 0.,  0., -1.,  1.]])"
       ]
      }
     ],
     "prompt_number": 62
    },
    {
     "cell_type": "code",
     "collapsed": false,
     "input": [
      "e = np.ones(4)\n",
      "e"
     ],
     "language": "python",
     "metadata": {},
     "outputs": [
      {
       "metadata": {},
       "output_type": "pyout",
       "prompt_number": 70,
       "text": [
        "array([ 1.,  1.,  1.,  1.])"
       ]
      }
     ],
     "prompt_number": 70
    },
    {
     "cell_type": "code",
     "collapsed": false,
     "input": [
      "f = B4.dot(u)\n",
      "f\n"
     ],
     "language": "python",
     "metadata": {},
     "outputs": [
      {
       "metadata": {},
       "output_type": "pyout",
       "prompt_number": 72,
       "text": [
        "matrix([[1.0*w - 1.0*x, -1.0*w + 2.0*x - 1.0*y, -1.0*x + 2.0*y - 1.0*z,\n",
        "         -1.0*y + 1.0*z]], dtype=object)"
       ]
      }
     ],
     "prompt_number": 72
    },
    {
     "cell_type": "markdown",
     "metadata": {},
     "source": [
      "**Dot product**: $f\\cdot e = f^Te=f_1e_1+f_2e_2+f_3e_3+f_4e_4=0$"
     ]
    },
    {
     "cell_type": "code",
     "collapsed": false,
     "input": [
      "f.dot(e)"
     ],
     "language": "python",
     "metadata": {},
     "outputs": [
      {
       "metadata": {},
       "output_type": "pyout",
       "prompt_number": 46,
       "text": [
        "matrix([[0]], dtype=object)"
       ]
      }
     ],
     "prompt_number": 46
    },
    {
     "cell_type": "markdown",
     "metadata": {},
     "source": [
      "## Anayltical Proof\n",
      "\\begin{align*}\n",
      "\\text{Given: }Be&=0\\tag{$e$ is the null space of $B$}\\\\\n",
      "f&=Bu\\\\\n",
      "f^T&=u^TB^T\\\\\n",
      "&=u^TB\\tag{$B$ is symmetric}\\\\\n",
      "f^Te&=u^TBe=0\n",
      "\\end{align*}\n",
      "\n",
      "$Bu=f$ is only solvable when $f$ is perpendicular the null space of $B$. **The external forces balance** when the $f$'s add to zero. "
     ]
    },
    {
     "cell_type": "code",
     "collapsed": false,
     "input": [
      "u=f.dot(nla.pinv(B4))\n",
      "u"
     ],
     "language": "python",
     "metadata": {},
     "outputs": [
      {
       "metadata": {},
       "output_type": "pyout",
       "prompt_number": 79,
       "text": [
        "matrix([[0.749999999999999*w - 0.25*x - 0.249999999999999*y - 0.25*z,\n",
        "         -0.25*w + 0.75*x - 0.25*y - 0.25*z,\n",
        "         -0.25*w - 0.25*x + 0.75*y - 0.25*z,\n",
        "         -0.25*w - 0.25*x - 0.25*y + 0.75*z]], dtype=object)"
       ]
      }
     ],
     "prompt_number": 79
    },
    {
     "cell_type": "markdown",
     "metadata": {},
     "source": [
      "## Vectors in Numpy\n",
      "If you do decide to go with numpy, would love to talk about implementation of vectors. I feel like it treats them like rows vectors until it needs them as column vectors ... it's I think intended to be a best of both worlds CS v. Linear Algebra handling of vectors, and probably is, but until you get your head around it, maybe a little confusing. "
     ]
    },
    {
     "cell_type": "markdown",
     "metadata": {},
     "source": [
      "## Worked Example 1.1 B\n",
      "\\begin{align*}\n",
      "H&= \n",
      "\\left[\\begin{matrix}\n",
      "2 & -1 & \\\\\n",
      "-1 & 2 & -1 \\\\\n",
      "& -1 & 1\n",
      "\\end{matrix}\\right]\\tag{\"fixed-free\" matrix}\\\\\n",
      "T&= \n",
      "\\left[\\begin{matrix}\n",
      "1& -1 & \\\\\n",
      "-1 & 2 & -1 \\\\\n",
      "& -1 & 2\n",
      "\\end{matrix}\\right]\\tag{\"free-fixed\" matrix}\\\\\n",
      "H&=JTJ\\\\\n",
      "\\text{for } J &= \n",
      "\\left[\\begin{matrix}\n",
      "0 & 0 & 1\\\\\n",
      "0 &1 & 0\\\\\n",
      "1 & 0 & 0\n",
      "\\end{matrix}\\right]\n",
      "\\end{align*}\n",
      "\n"
     ]
    },
    {
     "cell_type": "code",
     "collapsed": false,
     "input": [
      "T3=KTBC('T',3)\n",
      "T3"
     ],
     "language": "python",
     "metadata": {},
     "outputs": [
      {
       "metadata": {},
       "output_type": "pyout",
       "prompt_number": 87,
       "text": [
        "matrix([[ 1., -1.,  0.],\n",
        "        [-1.,  2., -1.],\n",
        "        [ 0., -1.,  2.]])"
       ]
      }
     ],
     "prompt_number": 87
    },
    {
     "cell_type": "code",
     "collapsed": false,
     "input": [
      "J = np.fliplr(np.eye(3))\n",
      "J"
     ],
     "language": "python",
     "metadata": {},
     "outputs": [
      {
       "metadata": {},
       "output_type": "pyout",
       "prompt_number": 88,
       "text": [
        "array([[ 0.,  0.,  1.],\n",
        "       [ 0.,  1.,  0.],\n",
        "       [ 1.,  0.,  0.]])"
       ]
      }
     ],
     "prompt_number": 88
    },
    {
     "cell_type": "code",
     "collapsed": false,
     "input": [
      "H3 = J.dot(T3.dot(J))\n",
      "H3"
     ],
     "language": "python",
     "metadata": {},
     "outputs": [
      {
       "metadata": {},
       "output_type": "pyout",
       "prompt_number": 89,
       "text": [
        "matrix([[ 2., -1.,  0.],\n",
        "        [-1.,  2., -1.],\n",
        "        [ 0., -1.,  1.]])"
       ]
      }
     ],
     "prompt_number": 89
    },
    {
     "cell_type": "markdown",
     "metadata": {},
     "source": [
      "$JT$ reverses the rows of $T$."
     ]
    },
    {
     "cell_type": "code",
     "collapsed": false,
     "input": [
      "J.dot(T3)"
     ],
     "language": "python",
     "metadata": {},
     "outputs": [
      {
       "metadata": {},
       "output_type": "pyout",
       "prompt_number": 90,
       "text": [
        "matrix([[ 0., -1.,  2.],\n",
        "        [-1.,  2., -1.],\n",
        "        [ 1., -1.,  0.]])"
       ]
      }
     ],
     "prompt_number": 90
    },
    {
     "cell_type": "markdown",
     "metadata": {},
     "source": [
      "$(JT)J$ reverses the rows, then the columns. Not that matrix multiplication is associative. $(JT)J=J(TJ)$."
     ]
    },
    {
     "cell_type": "code",
     "collapsed": false,
     "input": [
      "(J.dot(T3)).dot(J)"
     ],
     "language": "python",
     "metadata": {},
     "outputs": [
      {
       "metadata": {},
       "output_type": "pyout",
       "prompt_number": 92,
       "text": [
        "matrix([[ 2., -1.,  0.],\n",
        "        [-1.,  2., -1.],\n",
        "        [ 0., -1.,  1.]])"
       ]
      }
     ],
     "prompt_number": 92
    },
    {
     "cell_type": "code",
     "collapsed": false,
     "input": [
      "J.dot(T3.dot(J))"
     ],
     "language": "python",
     "metadata": {},
     "outputs": [
      {
       "metadata": {},
       "output_type": "pyout",
       "prompt_number": 93,
       "text": [
        "matrix([[ 2., -1.,  0.],\n",
        "        [-1.,  2., -1.],\n",
        "        [ 0., -1.,  1.]])"
       ]
      }
     ],
     "prompt_number": 93
    }
   ],
   "metadata": {}
  }
 ]
}