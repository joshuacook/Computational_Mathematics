{
 "metadata": {
  "name": "",
  "signature": "sha256:4a7c2cb953aec0238f6d9ab13f85154ce065330402c0dd8252b454b0e2c0acab"
 },
 "nbformat": 3,
 "nbformat_minor": 0,
 "worksheets": [
  {
   "cells": [
    {
     "cell_type": "markdown",
     "metadata": {},
     "source": [
      "A helpful link:\n",
      "\n",
      "http://wiki.scipy.org/NumPy_for_Matlab_Users\n",
      "\n",
      "### Import Libraries"
     ]
    },
    {
     "cell_type": "code",
     "collapsed": false,
     "input": [
      "import numpy as np\n",
      "import numpy.linalg as nla\n",
      "import scipy.linalg as sla\n",
      "import scipy.sparse as sprs"
     ],
     "language": "python",
     "metadata": {},
     "outputs": [],
     "prompt_number": 1
    },
    {
     "cell_type": "code",
     "collapsed": false,
     "input": [
      "K3 = np.array([[2,-1,0],[-1,2,-1],[0,-1,2]])\n",
      "K3"
     ],
     "language": "python",
     "metadata": {},
     "outputs": [
      {
       "metadata": {},
       "output_type": "pyout",
       "prompt_number": 2,
       "text": [
        "array([[ 2, -1,  0],\n",
        "       [-1,  2, -1],\n",
        "       [ 0, -1,  2]])"
       ]
      }
     ],
     "prompt_number": 2
    },
    {
     "cell_type": "code",
     "collapsed": false,
     "input": [
      "I8 = np.eye(8)\n",
      "E = -np.diag(np.ones(7),1)\n",
      "K8 = 2*I8+E+E.T\n",
      "K8\n"
     ],
     "language": "python",
     "metadata": {},
     "outputs": [
      {
       "metadata": {},
       "output_type": "pyout",
       "prompt_number": 3,
       "text": [
        "array([[ 2., -1.,  0.,  0.,  0.,  0.,  0.,  0.],\n",
        "       [-1.,  2., -1.,  0.,  0.,  0.,  0.,  0.],\n",
        "       [ 0., -1.,  2., -1.,  0.,  0.,  0.,  0.],\n",
        "       [ 0.,  0., -1.,  2., -1.,  0.,  0.,  0.],\n",
        "       [ 0.,  0.,  0., -1.,  2., -1.,  0.,  0.],\n",
        "       [ 0.,  0.,  0.,  0., -1.,  2., -1.,  0.],\n",
        "       [ 0.,  0.,  0.,  0.,  0., -1.,  2., -1.],\n",
        "       [ 0.,  0.,  0.,  0.,  0.,  0., -1.,  2.]])"
       ]
      }
     ],
     "prompt_number": 3
    },
    {
     "cell_type": "code",
     "collapsed": false,
     "input": [
      "toep_vec = np.zeros(8)\n",
      "toep_vec[0] = 2\n",
      "toep_vec[1] = -1\n",
      "sla.toeplitz(toep_vec)\n"
     ],
     "language": "python",
     "metadata": {},
     "outputs": [
      {
       "metadata": {},
       "output_type": "pyout",
       "prompt_number": 4,
       "text": [
        "array([[ 2., -1.,  0.,  0.,  0.,  0.,  0.,  0.],\n",
        "       [-1.,  2., -1.,  0.,  0.,  0.,  0.,  0.],\n",
        "       [ 0., -1.,  2., -1.,  0.,  0.,  0.,  0.],\n",
        "       [ 0.,  0., -1.,  2., -1.,  0.,  0.,  0.],\n",
        "       [ 0.,  0.,  0., -1.,  2., -1.,  0.,  0.],\n",
        "       [ 0.,  0.,  0.,  0., -1.,  2., -1.,  0.],\n",
        "       [ 0.,  0.,  0.,  0.,  0., -1.,  2., -1.],\n",
        "       [ 0.,  0.,  0.,  0.,  0.,  0., -1.,  2.]])"
       ]
      }
     ],
     "prompt_number": 4
    },
    {
     "cell_type": "code",
     "collapsed": false,
     "input": [
      "sla.toeplitz([1,-1,0,0],[1,0,0])"
     ],
     "language": "python",
     "metadata": {},
     "outputs": [
      {
       "metadata": {},
       "output_type": "pyout",
       "prompt_number": 5,
       "text": [
        "array([[ 1,  0,  0],\n",
        "       [-1,  1,  0],\n",
        "       [ 0, -1,  1],\n",
        "       [ 0,  0, -1]])"
       ]
      }
     ],
     "prompt_number": 5
    },
    {
     "cell_type": "code",
     "collapsed": false,
     "input": [],
     "language": "python",
     "metadata": {},
     "outputs": [],
     "prompt_number": 5
    },
    {
     "cell_type": "code",
     "collapsed": false,
     "input": [
      "def KTBC(n):\n",
      "    '''Create the four special matrices assuming n > 1'''\n",
      "    toep_vec = np.zeros(n)\n",
      "    toep_vec[0] = 2\n",
      "    toep_vec[1] = -1\n",
      "    K = sla.toeplitz(toep_vec)\n",
      "    T = K.copy(); T[0,0] = 1\n",
      "    B = K.copy(); B[0,0] = 1; B[n-1,n-1] = 1\n",
      "    C = K.copy(); C[0,n-1] = -1; C[n-1,0] = -1\n",
      "    return K,T,B,C"
     ],
     "language": "python",
     "metadata": {},
     "outputs": [],
     "prompt_number": 6
    },
    {
     "cell_type": "code",
     "collapsed": false,
     "input": [
      "[K4, T4, B4, C4] = KTBC(4)\n",
      "print K4\n",
      "print T4\n",
      "print B4\n",
      "print C4"
     ],
     "language": "python",
     "metadata": {},
     "outputs": [
      {
       "output_type": "stream",
       "stream": "stdout",
       "text": [
        "[[ 2. -1.  0.  0.]\n",
        " [-1.  2. -1.  0.]\n",
        " [ 0. -1.  2. -1.]\n",
        " [ 0.  0. -1.  2.]]\n",
        "[[ 1. -1.  0.  0.]\n",
        " [-1.  2. -1.  0.]\n",
        " [ 0. -1.  2. -1.]\n",
        " [ 0.  0. -1.  2.]]\n",
        "[[ 1. -1.  0.  0.]\n",
        " [-1.  2. -1.  0.]\n",
        " [ 0. -1.  2. -1.]\n",
        " [ 0.  0. -1.  1.]]\n",
        "[[ 2. -1.  0. -1.]\n",
        " [-1.  2. -1.  0.]\n",
        " [ 0. -1.  2. -1.]\n",
        " [-1.  0. -1.  2.]]\n"
       ]
      }
     ],
     "prompt_number": 7
    },
    {
     "cell_type": "code",
     "collapsed": false,
     "input": [
      "fourspecial_8 = KTBC(8)\n",
      "nla.det(fourspecial_8)"
     ],
     "language": "python",
     "metadata": {},
     "outputs": [
      {
       "metadata": {},
       "output_type": "pyout",
       "prompt_number": 8,
       "text": [
        "array([  9.00000000e+00,   1.00000000e+00,   0.00000000e+00,\n",
        "         1.77635684e-15])"
       ]
      }
     ],
     "prompt_number": 8
    },
    {
     "cell_type": "markdown",
     "metadata": {},
     "source": [
      "### Conversion of SparseKTBC code on website to Numpy/Scipy"
     ]
    },
    {
     "cell_type": "code",
     "collapsed": false,
     "input": [
      "def KTBC(type='K',n=10,sparse=False):\n",
      "    # KTBC Create finite difference model matrix.\n",
      "    # K=KTBC(TYPE,N,SPARSE) creates model matrix TYPE of size N-by-N.\n",
      "    # TYPE is one of the characters 'K', 'T', 'B', or 'C'.\n",
      "    # The command K = KTBC('K', 100, 1) gives a sparse representation\n",
      "    # K=KTBC uses the defaults TYPE='K', n=10, and SPARSE=False.\n",
      "    # Change the 3rd argument from 1 to 0 for dense representation!\n",
      "    # If no 3rd argument is given, the default is dense\n",
      "    # If no argument at all, KTBC will give 10 by 10 matrix K\n",
      "    e = np.ones(n)\n",
      "    e_off = np.ones(n-1)\n",
      "    K = sprs.diags([-e_off,2*e,-e_off],[-1,0,1])\n",
      "\n",
      "    if type in 'K': \n",
      "        K = K\n",
      "    if type == 'T':\n",
      "        K = sprs.csr_matrix(K)\n",
      "        K[0,0] = 1\n",
      "    if type == 'B': \n",
      "        K = sprs.csr_matrix(K)\n",
      "        K[0,0] = 1\n",
      "        K[n-1,n-1] = 1\n",
      "    if type == 'C':\n",
      "        K = sprs.csr_matrix(K)\n",
      "        K[0,n-1] = -1\n",
      "        K[n-1,0] = -1\n",
      "\n",
      "\n",
      "    if sparse == False:\n",
      "        return K.todense()\n",
      "    else:\n",
      "        return K"
     ],
     "language": "python",
     "metadata": {},
     "outputs": [],
     "prompt_number": 9
    },
    {
     "cell_type": "code",
     "collapsed": false,
     "input": [
      "%timeit KTBC('B',10000,1)\n",
      "%timeit KTBC('B',10000,0)"
     ],
     "language": "python",
     "metadata": {},
     "outputs": [
      {
       "output_type": "stream",
       "stream": "stdout",
       "text": [
        "1000 loops, best of 3: 1.97 ms per loop\n",
        "10 loops, best of 3: 29.6 ms per loop"
       ]
      },
      {
       "output_type": "stream",
       "stream": "stdout",
       "text": [
        "\n"
       ]
      }
     ],
     "prompt_number": 10
    },
    {
     "cell_type": "markdown",
     "metadata": {},
     "source": [
      "### Formation of matrices using toeplitz method in sparse format\n",
      "Not possible as listed in book. \n",
      "\n",
      "Use `sprs.diags` as above."
     ]
    }
   ],
   "metadata": {}
  }
 ]
}