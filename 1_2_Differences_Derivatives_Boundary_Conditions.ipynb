{
 "metadata": {
  "name": "",
  "signature": "sha256:8ee56ce36523289a3760bbcfa012757e1d3ab2dc8417d39380c89b857f0e2c71"
 },
 "nbformat": 3,
 "nbformat_minor": 0,
 "worksheets": [
  {
   "cells": [
    {
     "cell_type": "code",
     "collapsed": false,
     "input": [
      "import numpy as np\n",
      "import numpy.linalg as nla\n",
      "import scipy.linalg as sla\n",
      "import scipy.sparse as sprs\n",
      "import scipy.sparse.linalg as spla\n",
      "import matplotlib.pyplot as plt\n",
      "%matplotlib inline\n",
      "\n",
      "%load KTBC.py"
     ],
     "language": "python",
     "metadata": {},
     "outputs": [],
     "prompt_number": 110
    },
    {
     "cell_type": "code",
     "collapsed": false,
     "input": [
      "def KTBC(type='K',n=10,sparse=False):\n",
      "    # KTBC Create finite difference model matrix.\n",
      "    # K=KTBC(TYPE,N,SPARSE) creates model matrix TYPE of size N-by-N.\n",
      "    # TYPE is one of the characters 'K', 'T', 'B', or 'C'.\n",
      "    # The command K = KTBC('K', 100, 1) gives a sparse representation\n",
      "    # K=KTBC uses the defaults TYPE='K', n=10, and SPARSE=False.\n",
      "    # Change the 3rd argument from 1 to 0 for dense representation!\n",
      "    # If no 3rd argument is given, the default is dense\n",
      "    # If no argument at all, KTBC will give 10 by 10 matrix K\n",
      "    e = np.ones(n)\n",
      "    e_off = np.ones(n-1)\n",
      "    K = sprs.diags([-e_off,2*e,-e_off],[-1,0,1])\n",
      "\n",
      "    if type == 'K': \n",
      "        K = K\n",
      "    if type == 'T':\n",
      "        K = sprs.csr_matrix(K)\n",
      "        K[0,0] = 1\n",
      "    if type == 'B': \n",
      "        K = sprs.csr_matrix(K)\n",
      "        K[0,0] = 1\n",
      "        K[n-1,n-1] = 1\n",
      "    if type == 'C':\n",
      "        K = sprs.csr_matrix(K)\n",
      "        K[0,n-1] = -1\n",
      "        K[n-1,0] = -1\n",
      "\n",
      "\n",
      "    if sparse == False:\n",
      "        return K.todense()\n",
      "    else:\n",
      "        return K"
     ],
     "language": "python",
     "metadata": {},
     "outputs": []
    },
    {
     "cell_type": "code",
     "collapsed": false,
     "input": [
      "def KTBC(type='K',n=10,sparse=False):\n",
      "    # KTBC Create finite difference model matrix.\n",
      "    # K=KTBC(TYPE,N,SPARSE) creates model matrix TYPE of size N-by-N.\n",
      "    # TYPE is one of the characters 'K', 'T', 'B', or 'C'.\n",
      "    # The command K = KTBC('K', 100, 1) gives a sparse representation\n",
      "    # K=KTBC uses the defaults TYPE='K', n=10, and SPARSE=False.\n",
      "    # Change the 3rd argument from 1 to 0 for dense representation!\n",
      "    # If no 3rd argument is given, the default is dense\n",
      "    # If no argument at all, KTBC will give 10 by 10 matrix K\n",
      "    e = np.ones(n)\n",
      "    e_off = np.ones(n-1)\n",
      "    K = sprs.diags([-e_off,2*e,-e_off],[-1,0,1])\n",
      "\n",
      "    if type == 'K': \n",
      "        K = K\n",
      "    if type == 'T':\n",
      "        K = sprs.csr_matrix(K)\n",
      "        K[0,0] = 1\n",
      "    if type == 'B': \n",
      "        K = sprs.csr_matrix(K)\n",
      "        K[0,0] = 1\n",
      "        K[n-1,n-1] = 1\n",
      "    if type == 'C':\n",
      "        K = sprs.csr_matrix(K)\n",
      "        K[0,n-1] = -1\n",
      "        K[n-1,0] = -1\n",
      "\n",
      "\n",
      "    if sparse == False:\n",
      "        return K.todense()\n",
      "    else:\n",
      "        return K"
     ],
     "language": "python",
     "metadata": {},
     "outputs": []
    },
    {
     "cell_type": "code",
     "collapsed": false,
     "input": [
      "def KTBC(type='K',n=10,sparse=False):\n",
      "    # KTBC Create finite difference model matrix.\n",
      "    # K=KTBC(TYPE,N,SPARSE) creates model matrix TYPE of size N-by-N.\n",
      "    # TYPE is one of the characters 'K', 'T', 'B', or 'C'.\n",
      "    # The command K = KTBC('K', 100, 1) gives a sparse representation\n",
      "    # K=KTBC uses the defaults TYPE='K', n=10, and SPARSE=False.\n",
      "    # Change the 3rd argument from 1 to 0 for dense representation!\n",
      "    # If no 3rd argument is given, the default is dense\n",
      "    # If no argument at all, KTBC will give 10 by 10 matrix K\n",
      "    e = np.ones(n)\n",
      "    e_off = np.ones(n-1)\n",
      "    K = sprs.diags([-e_off,2*e,-e_off],[-1,0,1])\n",
      "\n",
      "    if type == 'K': \n",
      "        K = K\n",
      "    if type == 'T':\n",
      "        K = sprs.csr_matrix(K)\n",
      "        K[0,0] = 1\n",
      "    if type == 'B': \n",
      "        K = sprs.csr_matrix(K)\n",
      "        K[0,0] = 1\n",
      "        K[n-1,n-1] = 1\n",
      "    if type == 'C':\n",
      "        K = sprs.csr_matrix(K)\n",
      "        K[0,n-1] = -1\n",
      "        K[n-1,0] = -1\n",
      "\n",
      "\n",
      "    if sparse == False:\n",
      "        return K.todense()\n",
      "    else:\n",
      "        return K"
     ],
     "language": "python",
     "metadata": {},
     "outputs": [],
     "prompt_number": 79
    },
    {
     "cell_type": "code",
     "collapsed": false,
     "input": [
      "def KTBC(type='K',n=10,sparse=False):\n",
      "    # KTBC Create finite difference model matrix.\n",
      "    # K=KTBC(TYPE,N,SPARSE) creates model matrix TYPE of size N-by-N.\n",
      "    # TYPE is one of the characters 'K', 'T', 'B', or 'C'.\n",
      "    # The command K = KTBC('K', 100, 1) gives a sparse representation\n",
      "    # K=KTBC uses the defaults TYPE='K', n=10, and SPARSE=False.\n",
      "    # Change the 3rd argument from 1 to 0 for dense representation!\n",
      "    # If no 3rd argument is given, the default is dense\n",
      "    # If no argument at all, KTBC will give 10 by 10 matrix K\n",
      "    e = np.ones(n)\n",
      "    e_off = np.ones(n-1)\n",
      "    K = sprs.diags([-e_off,2*e,-e_off],[-1,0,1])\n",
      "\n",
      "    if type == 'K': \n",
      "        K = K\n",
      "    if type == 'T':\n",
      "        K = sprs.csr_matrix(K)\n",
      "        K[0,0] = 1\n",
      "    if type == 'B': \n",
      "        K = sprs.csr_matrix(K)\n",
      "        K[0,0] = 1\n",
      "        K[n-1,n-1] = 1\n",
      "    if type == 'C':\n",
      "        K = sprs.csr_matrix(K)\n",
      "        K[0,n-1] = -1\n",
      "        K[n-1,0] = -1\n",
      "\n",
      "\n",
      "    if sparse == False:\n",
      "        return K.todense()\n",
      "    else:\n",
      "        return K"
     ],
     "language": "python",
     "metadata": {},
     "outputs": [],
     "prompt_number": 80
    },
    {
     "cell_type": "code",
     "collapsed": false,
     "input": [
      "def KTBC(type='K',n=10,sparse=False):\n",
      "    # KTBC Create finite difference model matrix.\n",
      "    # K=KTBC(TYPE,N,SPARSE) creates model matrix TYPE of size N-by-N.\n",
      "    # TYPE is one of the characters 'K', 'T', 'B', or 'C'.\n",
      "    # The command K = KTBC('K', 100, 1) gives a sparse representation\n",
      "    # K=KTBC uses the defaults TYPE='K', n=10, and SPARSE=False.\n",
      "    # Change the 3rd argument from 1 to 0 for dense representation!\n",
      "    # If no 3rd argument is given, the default is dense\n",
      "    # If no argument at all, KTBC will give 10 by 10 matrix K\n",
      "    e = np.ones(n)\n",
      "    e_off = np.ones(n-1)\n",
      "    K = sprs.diags([-e_off,2*e,-e_off],[-1,0,1])\n",
      "\n",
      "    if type == 'K': \n",
      "        K = K\n",
      "    if type == 'T':\n",
      "        K = sprs.csr_matrix(K)\n",
      "        K[0,0] = 1\n",
      "    if type == 'B': \n",
      "        K = sprs.csr_matrix(K)\n",
      "        K[0,0] = 1\n",
      "        K[n-1,n-1] = 1\n",
      "    if type == 'C':\n",
      "        K = sprs.csr_matrix(K)\n",
      "        K[0,n-1] = -1\n",
      "        K[n-1,0] = -1\n",
      "\n",
      "\n",
      "    if sparse == False:\n",
      "        return K.todense()\n",
      "    else:\n",
      "        return K"
     ],
     "language": "python",
     "metadata": {},
     "outputs": [],
     "prompt_number": 81
    },
    {
     "cell_type": "code",
     "collapsed": false,
     "input": [
      "def KTBC(type='K',n=10,sparse=False):\n",
      "    # KTBC Create finite difference model matrix.\n",
      "    # K=KTBC(TYPE,N,SPARSE) creates model matrix TYPE of size N-by-N.\n",
      "    # TYPE is one of the characters 'K', 'T', 'B', or 'C'.\n",
      "    # The command K = KTBC('K', 100, 1) gives a sparse representation\n",
      "    # K=KTBC uses the defaults TYPE='K', n=10, and SPARSE=False.\n",
      "    # Change the 3rd argument from 1 to 0 for dense representation!\n",
      "    # If no 3rd argument is given, the default is dense\n",
      "    # If no argument at all, KTBC will give 10 by 10 matrix K\n",
      "    e = np.ones(n)\n",
      "    e_off = np.ones(n-1)\n",
      "    K = sprs.diags([-e_off,2*e,-e_off],[-1,0,1])\n",
      "\n",
      "    if type == 'K': \n",
      "        K = K\n",
      "    if type == 'T':\n",
      "        K = sprs.csr_matrix(K)\n",
      "        K[0,0] = 1\n",
      "    if type == 'B': \n",
      "        K = sprs.csr_matrix(K)\n",
      "        K[0,0] = 1\n",
      "        K[n-1,n-1] = 1\n",
      "    if type == 'C':\n",
      "        K = sprs.csr_matrix(K)\n",
      "        K[0,n-1] = -1\n",
      "        K[n-1,0] = -1\n",
      "\n",
      "\n",
      "    if sparse == False:\n",
      "        return K.todense()\n",
      "    else:\n",
      "        return K"
     ],
     "language": "python",
     "metadata": {},
     "outputs": [],
     "prompt_number": 82
    },
    {
     "cell_type": "code",
     "collapsed": false,
     "input": [
      "def KTBC(type='K',n=10,sparse=False):\n",
      "    # KTBC Create finite difference model matrix.\n",
      "    # K=KTBC(TYPE,N,SPARSE) creates model matrix TYPE of size N-by-N.\n",
      "    # TYPE is one of the characters 'K', 'T', 'B', or 'C'.\n",
      "    # The command K = KTBC('K', 100, 1) gives a sparse representation\n",
      "    # K=KTBC uses the defaults TYPE='K', n=10, and SPARSE=False.\n",
      "    # Change the 3rd argument from 1 to 0 for dense representation!\n",
      "    # If no 3rd argument is given, the default is dense\n",
      "    # If no argument at all, KTBC will give 10 by 10 matrix K\n",
      "    e = np.ones(n)\n",
      "    e_off = np.ones(n-1)\n",
      "    K = sprs.diags([-e_off,2*e,-e_off],[-1,0,1])\n",
      "\n",
      "    if type == 'K': \n",
      "        K = K\n",
      "    if type == 'T':\n",
      "        K = sprs.csr_matrix(K)\n",
      "        K[0,0] = 1\n",
      "    if type == 'B': \n",
      "        K = sprs.csr_matrix(K)\n",
      "        K[0,0] = 1\n",
      "        K[n-1,n-1] = 1\n",
      "    if type == 'C':\n",
      "        K = sprs.csr_matrix(K)\n",
      "        K[0,n-1] = -1\n",
      "        K[n-1,0] = -1\n",
      "\n",
      "\n",
      "    if sparse == False:\n",
      "        return K.todense()\n",
      "    else:\n",
      "        return K"
     ],
     "language": "python",
     "metadata": {},
     "outputs": [],
     "prompt_number": 83
    },
    {
     "cell_type": "code",
     "collapsed": false,
     "input": [
      "def KTBC(type='K',n=10,sparse=False):\n",
      "    # KTBC Create finite difference model matrix.\n",
      "    # K=KTBC(TYPE,N,SPARSE) creates model matrix TYPE of size N-by-N.\n",
      "    # TYPE is one of the characters 'K', 'T', 'B', or 'C'.\n",
      "    # The command K = KTBC('K', 100, 1) gives a sparse representation\n",
      "    # K=KTBC uses the defaults TYPE='K', n=10, and SPARSE=False.\n",
      "    # Change the 3rd argument from 1 to 0 for dense representation!\n",
      "    # If no 3rd argument is given, the default is dense\n",
      "    # If no argument at all, KTBC will give 10 by 10 matrix K\n",
      "    e = np.ones(n)\n",
      "    e_off = np.ones(n-1)\n",
      "    K = sprs.diags([-e_off,2*e,-e_off],[-1,0,1])\n",
      "\n",
      "    if type == 'K': \n",
      "        K = K\n",
      "    if type == 'T':\n",
      "        K = sprs.csr_matrix(K)\n",
      "        K[0,0] = 1\n",
      "    if type == 'B': \n",
      "        K = sprs.csr_matrix(K)\n",
      "        K[0,0] = 1\n",
      "        K[n-1,n-1] = 1\n",
      "    if type == 'C':\n",
      "        K = sprs.csr_matrix(K)\n",
      "        K[0,n-1] = -1\n",
      "        K[n-1,0] = -1\n",
      "\n",
      "\n",
      "    if sparse == False:\n",
      "        return K.todense()\n",
      "    else:\n",
      "        return K"
     ],
     "language": "python",
     "metadata": {},
     "outputs": [],
     "prompt_number": 84
    },
    {
     "cell_type": "code",
     "collapsed": false,
     "input": [
      "K8 = KTBC('K',8)\n",
      "T8 = KTBC('T',8)\n",
      "B8 = KTBC('B',8)\n",
      "C8 = KTBC('C',8)\n",
      "\n"
     ],
     "language": "python",
     "metadata": {},
     "outputs": [],
     "prompt_number": 85
    },
    {
     "cell_type": "markdown",
     "metadata": {},
     "source": [
      "## Constant Function"
     ]
    },
    {
     "cell_type": "code",
     "collapsed": false,
     "input": [
      "print K8.dot(np.array([1,1,1,1,1,1,1,1]))\n",
      "print T8.dot(np.array([1,1,1,1,1,1,1,1]))\n",
      "print B8.dot(np.array([1,1,1,1,1,1,1,1]))\n",
      "print C8.dot(np.array([1,1,1,1,1,1,1,1]))"
     ],
     "language": "python",
     "metadata": {},
     "outputs": [
      {
       "output_type": "stream",
       "stream": "stdout",
       "text": [
        "[[ 1.  0.  0.  0.  0.  0.  0.  1.]]\n",
        "[[ 0.  0.  0.  0.  0.  0.  0.  1.]]\n",
        "[[ 0.  0.  0.  0.  0.  0.  0.  0.]]\n",
        "[[ 0.  0.  0.  0.  0.  0.  0.  0.]]\n"
       ]
      }
     ],
     "prompt_number": 86
    },
    {
     "cell_type": "markdown",
     "metadata": {},
     "source": [
      "## Linear Function"
     ]
    },
    {
     "cell_type": "code",
     "collapsed": false,
     "input": [
      "print K8.dot(np.array([0,1,2,3,4,5,6,7]))\n",
      "print T8.dot(np.array([0,1,2,3,4,5,6,7]))\n",
      "print B8.dot(np.array([0,1,2,3,4,5,6,7]))\n",
      "print C8.dot(np.array([0,1,2,3,4,5,6,7]))"
     ],
     "language": "python",
     "metadata": {},
     "outputs": [
      {
       "output_type": "stream",
       "stream": "stdout",
       "text": [
        "[[-1.  0.  0.  0.  0.  0.  0.  8.]]\n",
        "[[-1.  0.  0.  0.  0.  0.  0.  8.]]\n",
        "[[-1.  0.  0.  0.  0.  0.  0.  1.]]\n",
        "[[-8.  0.  0.  0.  0.  0.  0.  8.]]\n"
       ]
      }
     ],
     "prompt_number": 87
    },
    {
     "cell_type": "markdown",
     "metadata": {},
     "source": [
      "## Quadratic Function\n"
     ]
    },
    {
     "cell_type": "code",
     "collapsed": false,
     "input": [
      "print K8.dot(np.array([0,1,4,9,16,25,36,49]))\n",
      "print T8.dot(np.array([0,1,4,9,16,25,36,49]))\n",
      "print B8.dot(np.array([0,1,4,9,16,25,36,49]))\n",
      "print C8.dot(np.array([0,1,4,9,16,25,36,49]))"
     ],
     "language": "python",
     "metadata": {},
     "outputs": [
      {
       "output_type": "stream",
       "stream": "stdout",
       "text": [
        "[[ -1.  -2.  -2.  -2.  -2.  -2.  -2.  62.]]\n",
        "[[ -1.  -2.  -2.  -2.  -2.  -2.  -2.  62.]]\n",
        "[[ -1.  -2.  -2.  -2.  -2.  -2.  -2.  13.]]\n",
        "[[-50.  -2.  -2.  -2.  -2.  -2.  -2.  62.]]\n"
       ]
      }
     ],
     "prompt_number": 88
    },
    {
     "cell_type": "markdown",
     "metadata": {},
     "source": [
      "## Cubic Function"
     ]
    },
    {
     "cell_type": "code",
     "collapsed": false,
     "input": [
      "print K8.dot(np.array([0,1,8,27,64,125,216,343]))\n",
      "print T8.dot(np.array([0,1,8,27,64,125,216,343]))\n",
      "print B8.dot(np.array([0,1,8,27,64,125,216,343]))\n",
      "print C8.dot(np.array([0,1,8,27,64,125,216,343]))"
     ],
     "language": "python",
     "metadata": {},
     "outputs": [
      {
       "output_type": "stream",
       "stream": "stdout",
       "text": [
        "[[  -1.   -6.  -12.  -18.  -24.  -30.  -36.  470.]]\n",
        "[[  -1.   -6.  -12.  -18.  -24.  -30.  -36.  470.]]\n",
        "[[  -1.   -6.  -12.  -18.  -24.  -30.  -36.  127.]]\n",
        "[[-344.   -6.  -12.  -18.  -24.  -30.  -36.  470.]]\n"
       ]
      }
     ],
     "prompt_number": 89
    },
    {
     "cell_type": "markdown",
     "metadata": {},
     "source": [
      "## Delta Function"
     ]
    },
    {
     "cell_type": "code",
     "collapsed": false,
     "input": [
      "print K8.dot(np.array([0,0,0,0,1,0,0,0]))\n",
      "print T8.dot(np.array([0,0,0,0,1,0,0,0]))\n",
      "print B8.dot(np.array([0,0,0,0,1,0,0,0]))\n",
      "print C8.dot(np.array([0,0,0,0,1,0,0,0]))"
     ],
     "language": "python",
     "metadata": {},
     "outputs": [
      {
       "output_type": "stream",
       "stream": "stdout",
       "text": [
        "[[ 0.  0.  0. -1.  2. -1.  0.  0.]]\n",
        "[[ 0.  0.  0. -1.  2. -1.  0.  0.]]\n",
        "[[ 0.  0.  0. -1.  2. -1.  0.  0.]]\n",
        "[[ 0.  0.  0. -1.  2. -1.  0.  0.]]\n"
       ]
      }
     ],
     "prompt_number": 90
    },
    {
     "cell_type": "markdown",
     "metadata": {},
     "source": [
      "## Heaviside Function"
     ]
    },
    {
     "cell_type": "code",
     "collapsed": false,
     "input": [
      "print K8.dot(np.array([0,0,0,0,1,1,1,1]))\n",
      "print T8.dot(np.array([0,0,0,0,1,1,1,1]))\n",
      "print B8.dot(np.array([0,0,0,0,1,1,1,1]))\n",
      "print C8.dot(np.array([0,0,0,0,1,1,1,1]))"
     ],
     "language": "python",
     "metadata": {},
     "outputs": [
      {
       "output_type": "stream",
       "stream": "stdout",
       "text": [
        "[[ 0.  0.  0. -1.  1.  0.  0.  1.]]\n",
        "[[ 0.  0.  0. -1.  1.  0.  0.  1.]]\n",
        "[[ 0.  0.  0. -1.  1.  0.  0.  0.]]\n",
        "[[-1.  0.  0. -1.  1.  0.  0.  1.]]\n"
       ]
      }
     ],
     "prompt_number": 91
    },
    {
     "cell_type": "markdown",
     "metadata": {},
     "source": [
      "## Ramp Function"
     ]
    },
    {
     "cell_type": "code",
     "collapsed": false,
     "input": [
      "print K8.dot(np.array([0,0,0,0,1,2,3,4]))\n",
      "print T8.dot(np.array([0,0,0,0,1,2,3,4]))\n",
      "print B8.dot(np.array([0,0,0,0,1,2,3,4]))\n",
      "print C8.dot(np.array([0,0,0,0,1,2,3,4]))"
     ],
     "language": "python",
     "metadata": {},
     "outputs": [
      {
       "output_type": "stream",
       "stream": "stdout",
       "text": [
        "[[ 0.  0.  0. -1.  0.  0.  0.  5.]]\n",
        "[[ 0.  0.  0. -1.  0.  0.  0.  5.]]\n",
        "[[ 0.  0.  0. -1.  0.  0.  0.  1.]]\n",
        "[[-4.  0.  0. -1.  0.  0.  0.  5.]]\n"
       ]
      }
     ],
     "prompt_number": 92
    },
    {
     "cell_type": "markdown",
     "metadata": {},
     "source": [
      "## Finite Difference Solution to Differential Equation with Dirichlet Boundary Conditions\n",
      "\n",
      "**Example** Solve the differential and difference equations with constant force $f(x)=1$ and fixed ends $u(0)=u_0=u(1)=u_1=0$. \n",
      "\n",
      "\\begin{align*}\n",
      "-\\diff{^2u}{x^2}&=1\\ \\ \\ \\text{with} \\ \\ \\ u(0)=0 \\ \\ \\ \\text{and}\\ \\ \\ u(1)=0\\\\\n",
      "\\frac{-u_{i+1}+2u_1-u_{i-1}}{h^2}&=1\\ \\ \\ \\text{with} \\ \\ \\ u_0=0 \\ \\ \\ \\text{and}\\ \\ \\ u_{n+1}=0\n",
      "\\end{align*}\n",
      "\n",
      "### Analytic solution to differential equation\n",
      "$$u(x)=\\frac12x-\\frac12x^2$$"
     ]
    },
    {
     "cell_type": "code",
     "collapsed": false,
     "input": [
      "def fixedFixedPlot(anlyt_soln,force_vec,xi,xf,h,density,should_I_plot=True):\n",
      "    # independent vector for diffy\n",
      "    u_ind_vec = np.linspace(xi,xf,density)\n",
      "    \n",
      "    # plot differential equation\n",
      "    if (should_I_plot == True): plt.plot(u_ind_vec,u(u_ind_vec))\n",
      "    \n",
      "    # difference equation solution\n",
      "    K = h**2*KTBC('K',h-1)\n",
      "    soln = nla.solve(K,force_vec)\n",
      "    soln = np.insert(soln,0,0)\n",
      "    soln = np.insert(np.zeros(1),0,soln)\n",
      "    soln_ind_vec = np.linspace(0,1,h+1)\n",
      "\n",
      "    # plot difference equation\n",
      "    if (should_I_plot == True): plt.plot(soln_ind_vec,soln)\n",
      "    \n",
      "    return soln_ind_vec, soln, u_ind_vec, u(u_ind_vec)\n",
      "\n",
      "u = lambda x: 0.5*x - 0.5*x**2\n",
      "f3 = np.ones(3)\n",
      "f6 = np.ones(6)\n",
      "f9 = np.ones(9)\n",
      "\n",
      "vecs_1 = fixedFixedPlot(u,f3,0,1,4,500, False)\n",
      "vecs_2 = fixedFixedPlot(u,f6,0,1,7,500, False)\n",
      "vecs_3 = fixedFixedPlot(u,f9,0,1,10,500, False)\n",
      "\n",
      "fig, (ax1,ax2,ax3) = plt.subplots(figsize=(15,5),ncols=3)\n",
      "ax1.plot(vecs_1[0],vecs_1[1])\n",
      "ax1.plot(vecs_1[2],vecs_1[3])\n",
      "ax2.plot(vecs_2[0],vecs_2[1])\n",
      "ax2.plot(vecs_2[2],vecs_2[3])\n",
      "ax3.plot(vecs_3[0],vecs_3[1])\n",
      "ax3.plot(vecs_3[2],vecs_3[3])\n",
      "\n",
      "print vecs_1[1]\n",
      "print vecs_2[1]\n",
      "print vecs_3[1]"
     ],
     "language": "python",
     "metadata": {},
     "outputs": [
      {
       "output_type": "stream",
       "stream": "stdout",
       "text": [
        "[ 0.       0.09375  0.125    0.09375  0.     ]\n",
        "[ 0.          0.06122449  0.10204082  0.12244898  0.12244898  0.10204082\n",
        "  0.06122449  0.        ]\n",
        "[ 0.     0.045  0.08   0.105  0.12   0.125  0.12   0.105  0.08   0.045  0.   ]\n"
       ]
      },
      {
       "metadata": {},
       "output_type": "display_data",
       "png": "[encoded data removed]",
       "text": [
        "<matplotlib.figure.Figure at 0x7f9d83cd6e90>"
       ]
      }
     ],
     "prompt_number": 132
    },
    {
     "cell_type": "markdown",
     "metadata": {},
     "source": [
      "## Finite Difference Solution to Differential Equation with Mixed Boundary Conditions\n",
      "\n",
      "### Free-Fixed\n",
      "\n",
      "Solve the differential and difference equations with constant force $f(x)=1$ and one free end $u'(0)=0$ and one fixed end $u(1)=u_1=0$. \n",
      "\n",
      "\\begin{align*}\n",
      "-\\diff{^2u}{x^2}&=1\\ \\ \\ \\text{with} \\ \\ \\ \\diff{u}{x}(0)=0 \\ \\ \\ \\text{and}\\ \\ \\ u(1)=0\\\\\n",
      "\\frac{-u_{i+1}+2u_1-u_{i-1}}{h^2}&=1\\ \\ \\ \\text{with} \\ \\ \\ \\frac{u_1-u_0}{h}=0 \\ \\ \\ \\text{and}\\ \\ \\ u_{n+1}=0\n",
      "\\end{align*}\n",
      "\n",
      "### Analytic solution to differential equation\n",
      "$$\\myAlign{\n",
      "u_p(x)&=-\\frac12x^2\\\\\n",
      "u_c&=Cx+D\\\\\n",
      "u(x)&=D+Cx-\\frac12x^2\\\\\n",
      "u'(x)&=C-x\\\\\n",
      "u'(0)&=0\\implies C = 0\\\\\n",
      "u(1)&=0\\implies D = \\frac12\\\\\n",
      "u(x)&=\\frac12-\\frac12x^2\n",
      "}$$\n",
      "\n",
      "### Free-Fixed Difference Matrix\n",
      "Free-fixed boundary conditions mean we use $T_n$"
     ]
    },
    {
     "cell_type": "code",
     "collapsed": false,
     "input": [],
     "language": "python",
     "metadata": {},
     "outputs": []
    }
   ],
   "metadata": {}
  }
 ]
}