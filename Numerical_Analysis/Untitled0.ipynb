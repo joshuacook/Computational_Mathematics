{
 "metadata": {
  "name": "",
  "signature": "sha256:9ca1c69856cf6f042f7afe5b8c9a38474a6de3f0367644383ee866a7e84ffc31"
 },
 "nbformat": 3,
 "nbformat_minor": 0,
 "worksheets": [
  {
   "cells": [
    {
     "cell_type": "code",
     "collapsed": false,
     "input": [
      "import math\n",
      "import numpy as np\n",
      "import scipy as sp\n",
      "import scipy.misc as spm\n",
      "import matplotlib.pyplot as plt\n",
      "import pyradi.ryplot as ryplot\n",
      "from matplotlib import cm\n",
      "# %matplotlib inline\n",
      "from mpl_toolkits.mplot3d import Axes3D\n",
      "from matplotlib import cm\n",
      "from matplotlib.ticker import LinearLocator, FormatStrFormatter\n",
      "\n"
     ],
     "language": "python",
     "metadata": {},
     "outputs": [],
     "prompt_number": 1
    },
    {
     "cell_type": "code",
     "collapsed": false,
     "input": [
      "def zernike_Rcoeffs(n,m):\n",
      "    '''given an n and m returns an numpy array of n+1 elements which are the coefficients of their indicial polynomial'''\n",
      "    coeffs = np.zeros(n+1)\n",
      "    \n",
      "    for k in range((n-m)/2+1):\n",
      "        coeffs[n-2*k] = ((-1.)**k*math.factorial(n-k))/(math.factorial(k)*math.factorial((n+m)/2.-k)*math.factorial((n-m)/2.-k))\n",
      "\n",
      "    return coeffs"
     ],
     "language": "python",
     "metadata": {},
     "outputs": [],
     "prompt_number": 2
    },
    {
     "cell_type": "code",
     "collapsed": false,
     "input": [
      "def zernicke_even(n,m,Rho,Theta,density):\n",
      "    coeffs = zernike_Rcoeffs(n,m)\n",
      "    Z = np.zeros((density,density))\n",
      "    for k in range(coeffs.size):\n",
      "        Z = Z + coeffs[k]*Rho**k*np.cos(m*Theta)    \n",
      "    return Z\n",
      "        \n",
      "def zernicke_odd(n,m,Rho,Theta,density):\n",
      "    coeffs = zernike_Rcoeffs(n,m)\n",
      "    Z = np.zeros((density,density))\n",
      "    for k in range(coeffs.size):\n",
      "        Z = Z + coeffs[k]*Rho**k*np.sin(m*Theta)    \n",
      "    return Z  "
     ],
     "language": "python",
     "metadata": {},
     "outputs": [],
     "prompt_number": 3
    },
    {
     "cell_type": "code",
     "collapsed": false,
     "input": [
      "density = 100\n",
      "rho = np.linspace(-1,1,density)\n",
      "theta = np.linspace(-math.pi,math.pi,density) \n",
      "Rho, Theta = np.meshgrid(rho,theta)    \n",
      "# x = rho*np.sin(theta)\n",
      "# y = rho*np.cos(theta)\n",
      "x = np.linspace(-1,-1,density)\n",
      "y = np.linspace(-1,-1,density)\n",
      "X, Y = np.meshgrid(x,y)\n",
      "\n",
      "fig = plt.figure()\n",
      "ax = fig.gca(projection='3d')\n",
      "surf = ax.plot_surface(Rho,Theta, zernicke_even(1,1,Rho,Theta,density), rstride=1, cstride=1, cmap=cm.coolwarm,\n",
      "        linewidth=0, antialiased=False)\n",
      "# ax.set_zlim(-1.01, 1.01)\n",
      "\n",
      "ax.zaxis.set_major_locator(LinearLocator(10))\n",
      "ax.zaxis.set_major_formatter(FormatStrFormatter('%.02f'))\n",
      "\n",
      "fig.colorbar(surf, shrink=0.5, aspect=5)\n",
      "# plt.show()"
     ],
     "language": "python",
     "metadata": {},
     "outputs": [
      {
       "metadata": {},
       "output_type": "pyout",
       "prompt_number": 5,
       "text": [
        "<matplotlib.colorbar.Colorbar instance at 0x10ad11710>"
       ]
      }
     ],
     "prompt_number": 5
    },
    {
     "cell_type": "code",
     "collapsed": false,
     "input": [
      "# def surface_plot_Z(self, n, m):\n",
      "rho_vals = np.linspace(0, 1, 100)\n",
      "theta_vals = np.linspace(-math.pi,math.pi,density)\n",
      "# to be honest, not sure what meshgrid does.  \n",
      "#It's just necessary for 3d plotting.\n",
      "Rho, Theta = np.meshgrid(rho_vals, theta_vals)\n",
      "#convert to cartesian coordinates\n",
      "X = Rho*np.cos(Theta)\n",
      "Y = Rho*np.sin(Theta)\n",
      "\n",
      "#     N = self.get_N(n, m)\n",
      "#     R = self.get_R(n, m, Rho)\n",
      "\n",
      "#     if m >= 0:\n",
      "#         Z = N * R * np.cos(m * Theta)\n",
      "#     else:\n",
      "#         Z = -N * R * np.sin(m * Theta)\n",
      "\n",
      "fig = plt.figure()\n",
      "ax = Axes3D(fig)\n",
      "ax.plot_surface(X,Y,zernicke_odd(4,4,Rho,Theta,density), rstride=1, cstride=1, cmap=cm.coolwarm)\n",
      "plt.show()"
     ],
     "language": "python",
     "metadata": {},
     "outputs": [
      {
       "output_type": "stream",
       "stream": "stderr",
       "text": [
        "/usr/local/Cellar/python/2.7.8_2/Frameworks/Python.framework/Versions/2.7/lib/python2.7/site-packages/mpl_toolkits/mplot3d/axes3d.py:1094: FutureWarning: comparison to `None` will result in an elementwise object comparison in the future.\n",
        "  if self.button_pressed in self._rotate_btn:\n"
       ]
      }
     ],
     "prompt_number": 7
    },
    {
     "cell_type": "code",
     "collapsed": false,
     "input": [],
     "language": "python",
     "metadata": {},
     "outputs": []
    }
   ],
   "metadata": {}
  }
 ]
}