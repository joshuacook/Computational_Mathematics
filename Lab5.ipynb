{
 "metadata": {
  "name": "",
  "signature": "sha256:cfacfb48ba6d68b1adb9d0409f876d72ee01ce664b07bed466fa40a05ba239cb"
 },
 "nbformat": 3,
 "nbformat_minor": 0,
 "worksheets": [
  {
   "cells": [
    {
     "cell_type": "markdown",
     "metadata": {},
     "source": [
      "**MATH 481A Numerical Analysis \u00a0\u00a0Fall 2014**\n",
      "\n",
      "**Homework and Lab Assignment \\# 5 \u2013 ODEs Due: Tue., Dec. 16,\n",
      "2014**"
     ]
    },
    {
     "cell_type": "markdown",
     "metadata": {},
     "source": [
      "In this assignment you will write a Python script to solve ODEs using a\n",
      "second order Runge-Kutta method. You will also analyze and verify the\n",
      "order of the method, and use your code to solve a first order ODE and\n",
      "the linearized pendulum equation, a second order ODE, by writing it as a\n",
      "first order system.\n",
      "\n",
      "You can work with others and discuss the problems, but each student must\n",
      "write his/her own, independent solution. If you are unsure about what i\n",
      "mean by this, please ask!\n",
      "\n",
      "**Second order Runge\u2013Kutta Method:** Given the first order\n",
      "ODE [eq:ODE] = f(y(t),t), \u00a0\u00a0\u00a0t (t~0~, t~f~], \u00a0\u00a0\u00a0y(t~0~) = y~0~ we\n",
      "consider the two-stage Runge-Kutta method:\n",
      "\n",
      "[eq:RK2]\n",
      "\n",
      "\\begin{aligned}\n",
      "k_1 \\ =  & \\, \\Delta t f(y_n,t_n) \\label{eq:RKk1} \\\\[0.1in] \n",
      "k_2 \\ = & \\, \\Delta t f(y_n + \\frac{k_1}{2},t_n + \\frac{\\Delta t}{2}) \\label{eq:RKk2} \\\\[0.1in] \n",
      "y_{n+1} = & \\ y_n + k_2. \n",
      "\\label{eq:RKmp}\n",
      "\\end{aligned}\n",
      "\n",
      "to approximate its solution.\n"
     ]
    },
    {
     "cell_type": "code",
     "collapsed": false,
     "input": [],
     "language": "python",
     "metadata": {},
     "outputs": []
    }
   ],
   "metadata": {}
  }
 ]
}