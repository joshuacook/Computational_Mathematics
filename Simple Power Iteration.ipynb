{
 "metadata": {
  "name": "",
  "signature": "sha256:5e092f49da384423a68d0943b46c5fa28cf65c3d1fa50bf24a2c9e50c6c0650b"
 },
 "nbformat": 3,
 "nbformat_minor": 0,
 "worksheets": [
  {
   "cells": [
    {
     "cell_type": "markdown",
     "metadata": {},
     "source": [
      "# Simple Power Method\n",
      "\n",
      "1. Choose a starting vector $\\mathbf{x}^{(0)}\\in\\mathcal{R}^n$ with $||\\mathbf{x}^{(0)}||=1$.\n",
      "2. $k=0$\n",
      "3. `while` some convergence criteria is not satisfied\n",
      "\n",
      "    i. $k:=k+1$  \n",
      "    ii. $\\mathbf{y}^{(k)}:=A\\mathbf{x}^{(k-1)}$  \n",
      "    iii. $\\mu_k:=||\\mathbf{y}^{(k)}||$  \n",
      "    iv. $\\mathbf{x}^{(k)}:=\\mathbf{y}^{(k)}/\\mu_k$"
     ]
    },
    {
     "cell_type": "code",
     "collapsed": false,
     "input": [
      "import numpy.linalg, numpy.random, numpy as np, math\n",
      "from random import random as rand\n",
      "from numpy.linalg import eig"
     ],
     "language": "python",
     "metadata": {},
     "outputs": [],
     "prompt_number": 105
    },
    {
     "cell_type": "code",
     "collapsed": false,
     "input": [
      "B = numpy.array([[2,-12],[1,-5]])\n",
      "y = numpy.array([1,1])\n",
      "x = y\n",
      "for i in range(100):\n",
      "    y = B.dot(x)\n",
      "    mu = math.sqrt(y.dot(y))\n",
      "    x = y/mu\n",
      "print numpy.transpose(eig(B)[1])\n",
      "print x"
     ],
     "language": "python",
     "metadata": {},
     "outputs": [
      {
       "output_type": "stream",
       "stream": "stdout",
       "text": [
        "[[ 0.9701425   0.24253563]\n",
        " [ 0.9486833   0.31622777]]\n",
        "[ 0.9486833   0.31622777]\n"
       ]
      }
     ],
     "prompt_number": 80
    },
    {
     "cell_type": "code",
     "collapsed": false,
     "input": [
      "A = numpy.random.rand(3,3)\n",
      "x = numpy.random.rand(3)\n",
      "for i in range(20):\n",
      "    y = A.dot(x)\n",
      "    mu = math.sqrt(y.dot(y))\n",
      "    x = y/mu\n",
      "np.transpose(eig(A)[1]),x"
     ],
     "language": "python",
     "metadata": {},
     "outputs": [
      {
       "metadata": {},
       "output_type": "pyout",
       "prompt_number": 87,
       "text": [
        "(array([[ 0.51063895,  0.65312477,  0.55917429],\n",
        "        [ 0.87551464, -0.17084359, -0.45198073],\n",
        "        [-0.00620138, -0.53208609,  0.84666755]]),\n",
        " array([ 0.51063895,  0.65312477,  0.55917429]))"
       ]
      }
     ],
     "prompt_number": 87
    }
   ],
   "metadata": {}
  }
 ]
}