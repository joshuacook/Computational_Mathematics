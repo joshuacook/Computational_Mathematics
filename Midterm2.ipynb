{
 "metadata": {
  "name": "",
  "signature": "sha256:bfe775668ab9df5af03457f7098b871ad9e8664378b0f8acb3296843bc047d1f"
 },
 "nbformat": 3,
 "nbformat_minor": 0,
 "worksheets": [
  {
   "cells": [
    {
     "cell_type": "markdown",
     "metadata": {},
     "source": [
      "# Problem 2. \n",
      "(15 points) Show that if $f(x)$ has up to $n$ continuous derivatives in the interval $(x\u2212a,x+a)$, then\n",
      "\n",
      "$$f(x)=\\sum_{k-0}^n\\frac{(x-a)^k}{k!}f^{(k)}(a)+\\int_a^x\\frac{(x-t)^n}{n!}f^{(n+1)}(t)dt$$"
     ]
    },
    {
     "cell_type": "markdown",
     "metadata": {},
     "source": [
      "#Problem 3. \n",
      "(25 points) Consider the equation $xe^{\u2212x} = e^{\u22123}$.\n",
      "\n",
      "### (a) Show it has exactly two real roots.\n",
      "\n",
      "\\begin{align*}\n",
      "xe^{\u2212x} &= e^{\u22123}\\\\\n",
      "xe^{\u2212x} - e^{\u22123}&=0\\\\\n",
      "\\text{Let }f_3(x)&=xe^{\u2212x} - e^{\u22123}\\\\\n",
      "\\text{Then }f'_3(x)&=-xe^{\u2212x}+e^{-x}\n",
      "\\end{align*}\n"
     ]
    },
    {
     "cell_type": "code",
     "collapsed": false,
     "input": [
      "import numpy as np\n",
      "import matplotlib.pyplot as plt\n",
      "from pylab import legend\n",
      "from tabulate import tabulate\n",
      "%matplotlib inline"
     ],
     "language": "python",
     "metadata": {},
     "outputs": [],
     "prompt_number": 1
    },
    {
     "cell_type": "code",
     "collapsed": false,
     "input": [
      "f_3 = lambda x: x*np.exp(-x)-np.exp(-3)\n",
      "fp_3 = lambda x: -x*np.exp(-x)+np.exp(-x)"
     ],
     "language": "python",
     "metadata": {},
     "outputs": [],
     "prompt_number": 8
    },
    {
     "cell_type": "code",
     "collapsed": false,
     "input": [
      "ind = np.linspace(-1,10,1000)\n",
      "p1, = plt.plot(ind, f_3(ind))\n",
      "p2, = plt.plot(ind, fp_3(ind))\n",
      "legend([p1,p2], [\"$f_3(x)$\",\"$f'_3(x)$\"])\n",
      "plt.axhline(linewidth=1.0, color=\"black\")\n",
      "plt.axvline(linewidth=1.0, color=\"black\")\n",
      "plt.ylim(-0.5,0.5)"
     ],
     "language": "python",
     "metadata": {},
     "outputs": [
      {
       "metadata": {},
       "output_type": "pyout",
       "prompt_number": 9,
       "text": [
        "(-0.5, 0.5)"
       ]
      },
      {
       "metadata": {},
       "output_type": "display_data",
       "png": "[encoded data removed]",
       "text": [
        "<matplotlib.figure.Figure at 0x1102578d0>"
       ]
      }
     ],
     "prompt_number": 9
    },
    {
     "cell_type": "code",
     "collapsed": false,
     "input": [
      "ind = np.linspace(-1,1,1000)\n",
      "p1, = plt.plot(ind, f_3(ind))\n",
      "p2, = plt.plot(ind, fp_3(ind))\n",
      "legend([p1,p2], [\"$f_3(x)$\",\"$f'_3(x)$\"])\n",
      "plt.axhline(linewidth=1.0, color=\"black\")\n",
      "plt.axvline(linewidth=1.0, color=\"black\")\n",
      "plt.ylim(-0.5,0.5)"
     ],
     "language": "python",
     "metadata": {},
     "outputs": [
      {
       "metadata": {},
       "output_type": "pyout",
       "prompt_number": 14,
       "text": [
        "(-0.5, 0.5)"
       ]
      },
      {
       "metadata": {},
       "output_type": "display_data",
       "png": "[encoded data removed]",
       "text": [
        "<matplotlib.figure.Figure at 0x110312e90>"
       ]
      }
     ],
     "prompt_number": 14
    },
    {
     "cell_type": "markdown",
     "metadata": {},
     "source": [
      "We can solve the derivative analytically. \n",
      "\n",
      "\\begin{align*}\n",
      "f'_3(x)&=-xe^{\u2212x}+e^{-x}=0\\\\\n",
      "&=(-x+1)e^{\u2212x}=0\\\\\n",
      "x&=1\\\\\n",
      "x&\\to\\infty\n",
      "\\end{align*}\n",
      "\n",
      "Therefore, the slope of the function is positive on $(\\infty,1)$ and negative thereafter. "
     ]
    },
    {
     "cell_type": "code",
     "collapsed": false,
     "input": [
      "tab_vec=np.linspace(-1,6,71)\n",
      "def print_2darray(x,y,head1=\"x    \",head2=\"y    \", tablefmt=\"simple\"):\n",
      "    data = np.zeros((x.size,2))\n",
      "    for i in range(x.size):\n",
      "        data[i][0] = x[i]\n",
      "        data[i][1] = y(x[i])\n",
      "    \n",
      "    print tabulate(data,(head1,head2), tablefmt=tablefmt)\n",
      "\n",
      "print_2darray(tab_vec,f_3)"
     ],
     "language": "python",
     "metadata": {},
     "outputs": [
      {
       "output_type": "stream",
       "stream": "stdout",
       "text": [
        "  x             y\n",
        "-------  ------------\n",
        "   -1    -2.76807\n",
        "   -0.9  -2.26343\n",
        "   -0.8  -1.83022\n",
        "   -0.7  -1.45941\n",
        "   -0.6  -1.14306\n",
        "   -0.5  -0.874148\n",
        "   -0.4  -0.646517\n",
        "   -0.3  -0.454745\n",
        "   -0.2  -0.294068\n",
        "   -0.1  -0.160304\n",
        "    0    -0.0497871\n",
        "    0.1   0.0406967\n",
        "    0.2   0.113959\n",
        "    0.3   0.172458\n",
        "    0.4   0.218341\n",
        "    0.5   0.253478\n",
        "    0.6   0.2795\n",
        "    0.7   0.297823\n",
        "    0.8   0.309676\n",
        "    0.9   0.316126\n",
        "    1     0.318092\n",
        "    1.1   0.316371\n",
        "    1.2   0.311646\n",
        "    1.3   0.304504\n",
        "    1.4   0.295449\n",
        "    1.5   0.284908\n",
        "    1.6   0.273247\n",
        "    1.7   0.260775\n",
        "    1.8   0.247751\n",
        "    1.9   0.234393\n",
        "    2     0.220883\n",
        "    2.1   0.207371\n",
        "    2.2   0.19398\n",
        "    2.3   0.180808\n",
        "    2.4   0.167936\n",
        "    2.5   0.155425\n",
        "    2.6   0.143324\n",
        "    2.7   0.131668\n",
        "    2.8   0.120481\n",
        "    2.9   0.10978\n",
        "    3     0.0995741\n",
        "    3.1   0.0898655\n",
        "    3.2   0.080652\n",
        "    3.3   0.0719274\n",
        "    3.4   0.063682\n",
        "    3.5   0.0559038\n",
        "    3.6   0.0485783\n",
        "    3.7   0.04169\n",
        "    3.8   0.0352219\n",
        "    3.9   0.0291564\n",
        "    4     0.0234755\n",
        "    4.1   0.0181609\n",
        "    4.2   0.0131944\n",
        "    4.3   0.00855774\n",
        "    4.4   0.00423323\n",
        "    4.5   0.000203416\n",
        "    4.6  -0.00354862\n",
        "    4.7  -0.00703927\n",
        "    4.8  -0.0102843\n",
        "    4.9  -0.0132988\n",
        "    5    -0.0160973\n",
        "    5.1  -0.0186937\n",
        "    5.2  -0.0211009\n",
        "    5.3  -0.0233316\n",
        "    5.4  -0.0253975\n",
        "    5.5  -0.0273098\n",
        "    5.6  -0.029079\n",
        "    5.7  -0.0307151\n",
        "    5.8  -0.0322273\n",
        "    5.9  -0.0336243\n",
        "    6    -0.0349146\n"
       ]
      }
     ],
     "prompt_number": 12
    },
    {
     "cell_type": "markdown",
     "metadata": {},
     "source": [
      "By Hildebrand's Theorem 1, roots, $\\alpha$ and $\\beta$, exist on $(0,0.1)$ and $(4.5,4.6)$, respectively. \n",
      "\n",
      "Because the function increases monotonically on $(-\\infty,1)$, we know that $\\alpha$ is the only root on this interval.\n",
      "\n",
      "Because the function decreases monotonically (while tending toward a steady-state at $\\infty$) on $(1,\\infty)$, we know that $\\beta$ is the only root on this interval. \n",
      "\n",
      "Therefore, these two roots are the only real roots. "
     ]
    },
    {
     "cell_type": "markdown",
     "metadata": {},
     "source": [
      "### (b) show that the iterative method $z_{k+1} = \\exp(z_k\u22123)$ converges to $\\alpha$, if $z_0 < \\beta$, and diverges if $z_0 > \\beta$.\n",
      "\n",
      "Find our iterative method by solving for $x$. This gives two possibilities:\n",
      "\n",
      "i) \n",
      "\\begin{align*}\n",
      "xe^{\u2212x} &= e^{\u22123}\\\\\n",
      "x &= e^{x\u22123}\\\\\n",
      "\\implies F_1(x)&=e^{x\u22123}\\\\\n",
      "F'_1(x)&=e^{x\u22123}\\\\\n",
      "F''_1(x)&=e^{x\u22123}\\\\\n",
      "\\end{align*}\n",
      "\n",
      "ii)\n",
      "\\begin{align*}\n",
      "xe^{\u2212x} &= e^{\u22123}\\\\\n",
      "e^{\u2212x} &= \\frac{e^{\u22123}}{x}\\\\\n",
      "\u2212x &= -3 - \\ln x \\\\\n",
      "x&= 3 + \\ln x\\\\\n",
      "\\implies F_2(x)&=3 + \\ln x\\\\\n",
      "F'_2(x)&=\\frac{1}{x}\n",
      "\\end{align*}\n",
      "\n",
      "We will look at the first. \n",
      "\n",
      "To show convergence, it is sufficent to show that either\n",
      "\n",
      "i) $a\\leq F_1(x) \\leq b$ for all $x\\in[a,b]$.\n",
      "\n",
      "ii) $0 < F'_1(x) < 1$ for all $x\\in(a,b)$.\n",
      "\n"
     ]
    },
    {
     "cell_type": "code",
     "collapsed": false,
     "input": [
      "F_1 = lambda x: np.exp(x-3)\n",
      "F_2 = lambda x: np.log(x)+3\n",
      "Fp_2 = lambda x: 1/x\n",
      "\n",
      "ind = np.linspace(-1,6,1000)\n",
      "p1, = plt.plot(ind, f_3(ind))\n",
      "p2, = plt.plot(ind, fp_3(ind))\n",
      "p3, = plt.plot(ind, F_1(ind))\n",
      "p4, = plt.plot(ind, F_2(ind))\n",
      "p5, = plt.plot(ind, Fp_2(ind))\n",
      "legend([p1,p2,p3, p4, p5], [\"$f_3(x)$\",\"$f'_3(x)$\",\"$F_1(x)$\",\"$F_2(x)$\",\"$F'_2(x)$\"])\n",
      "plt.axhline(linewidth=1.0, color=\"black\")\n",
      "plt.axvline(linewidth=1.0, color=\"black\")\n",
      "plt.plot([4.55, 4.55], [-1, 1], linestyle='dotted', lw=2)\n",
      "plt.plot([0.05, 0.05], [-1, 1], linestyle='dotted', lw=2) \n",
      "plt.ylim(-0.5,3.5)"
     ],
     "language": "python",
     "metadata": {},
     "outputs": [
      {
       "metadata": {},
       "output_type": "pyout",
       "prompt_number": 60,
       "text": [
        "(-0.5, 3.5)"
       ]
      },
      {
       "metadata": {},
       "output_type": "display_data",
       "png": "[encoded data removed]",
       "text": [
        "<matplotlib.figure.Figure at 0x110787f50>"
       ]
      }
     ],
     "prompt_number": 60
    },
    {
     "cell_type": "markdown",
     "metadata": {},
     "source": [
      "\n",
      "\\begin{align*}\n",
      "F'_1(x)&=e^{x\u22123}\\\\\n",
      "\\text{Converges for }0 < F'_1(x) &< 1\n",
      "\\end{align*}\n",
      "\n",
      "Then, $F$ converges for all $x < 3$. But $\\beta > 3$, so this does not show that $F$ converges for all $x < \\beta$. \n",
      "\n",
      "Consider $z_{k+1}=\\exp(z_k-3)$. \n",
      "\n",
      "For $z_0\\leq 3$, $z_1\\leq e$. This function will certainly converge for $z_0 \\leq 3$. \n",
      "\n",
      "\\begin{align*}\n",
      "3&\\geq\\exp(z_0-3)\\\\\n",
      "\\ln 3 &\\geq z_0-3\\\\\n",
      "z_0 \\leq \\ln 3 + 3 &\\approx 4.0986122\n",
      "\\end{align*}\n",
      "\n",
      "So now we have $F$ converges for $z_0 \\leq \\ln 3 + 3$.\n",
      "\n",
      "Consider $z_1 = \\ln 3 + 3$. Then $z_2 = 3$ and $F$ will converge. In this case \n",
      "\n",
      "\\begin{align*}\n",
      "\\ln 3 + 3&\\geq\\exp(z_0-3)\\\\\n",
      "\\ln (\\ln 3 + 3)+3 &\\geq z_0-3\\\\\n",
      "z_0 \\leq \\ln(\\ln 3 + 3)+3 &\\approx 4.41\n",
      "\\end{align*} \n",
      "\n",
      "We note that this is our other convergence relation. \n",
      "\n",
      "Let's look at the convergence of this function. \n",
      "\n",
      "Note that on the interval we are examining $(3,\\beta)$, $0 < F'_2(x) < 1$, and therefore $F_2$ is convergent on $\\beta$.\n",
      "\n",
      "If we take $z_0=3$ as an initial guess which will lead to convergence on $\\alpha$, and then consider $z_{k-1}$ as an initial guess which would lead to our convergent initial guess $z_0$. The iteration would then be $z_{k-1}=\\ln x + 3$ and in this region would converge on $\\beta$. Therefore, for an initial guess $z_0<\\beta$, we would have convergence on $\\alpha$."
     ]
    },
    {
     "cell_type": "markdown",
     "metadata": {},
     "source": [
      "# Problem 4. \n",
      "(15 points) Newton\u2019s method $a > 0$\n",
      "\n",
      "(a) Find a function $f(x)$ whose root is $\\sqrt[3]{a}\\ \\ (a > 0)$.\n",
      "\n",
      "\\begin{align*}\n",
      "f(x)&=x^3-a\\\\\n",
      "f'(x)&=3x^2\n",
      "\\end{align*}\n",
      "\n",
      "(b) Write the formula for $z_{k+1}$ in terms of $z_k$ that results from applying Newton\u2019s method to $f (x)$.\n",
      "\n",
      "\\begin{align*}\n",
      "z_{k+1}&=z_k-\\frac{f(z_k)}{f'(z_k)}\\\\\n",
      "z_{k+1}&=z_k-\\frac{z_k^3-a}{3(z_k^2)}\n",
      "\\end{align*}\n",
      "\n",
      "(c) Show that your answer in part (b) can be written as\n",
      "\n",
      "$$z_{k+1}=\\frac{1}{3}\\bigg(2z_k+\\frac{a}{z^2_k}\\bigg)$$\n",
      "\n",
      "\\begin{align*}\n",
      "z_{k+1}&=z_k-\\frac{f(z_k)}{f'(z_k)}\\\\\n",
      "z_{k+1}&=z_k-\\frac{z_k^3-a}{3(z_k^2)}\\\\\n",
      "z_{k+1}&=\\frac{1}{3}\\bigg(3z_k-\\frac{z_k^3-a}{z_k^2}\\bigg)\\\\\n",
      "z_{k+1}&=\\frac{1}{3}\\bigg(\\frac{3z_k^3-z_k^3+a}{z_k^2}\\bigg)\\\\\n",
      "z_{k+1}&=\\frac{1}{3}\\bigg(\\frac{2z_k^3+a}{z_k^2}\\bigg)\\\\\n",
      "z_{k+1}&=\\frac{1}{3}\\bigg(\\frac{2z_k^3+a}{z_k^2}\\bigg)\\\\\n",
      "z_{k+1}&=\\frac{1}{3}\\bigg(2z_k+\\frac{a}{z^2_k}\\bigg)\n",
      "\\end{align*}\n"
     ]
    },
    {
     "cell_type": "markdown",
     "metadata": {},
     "source": [
      "\n",
      "\n"
     ]
    },
    {
     "cell_type": "markdown",
     "metadata": {},
     "source": [
      "# Problem 5. \n",
      "(15 points) Consider the quadratic interpolant of the data $(x_0,y_0)$, $(x_1,y_1)$, and $(x_2, y_2)$, where $x_1 = x_0 + h$ and $x_2 = x_1 + h$. Show that the error satisfies the bound\n",
      "\n",
      "$$|E(x)|\\leq \\frac{M_3h^3}{9\\sqrt{3}},\\ \\ \\text{where}\\ \\ M_3=\\max_{x\\in|x_0,x_2|}|f''(x)|.$$"
     ]
    },
    {
     "cell_type": "code",
     "collapsed": false,
     "input": [],
     "language": "python",
     "metadata": {},
     "outputs": []
    }
   ],
   "metadata": {}
  }
 ]
}