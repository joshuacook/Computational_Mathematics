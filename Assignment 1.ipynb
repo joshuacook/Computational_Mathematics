{
 "metadata": {
  "name": "",
  "signature": "sha256:6e5e3c6052226a5abe7535431424eaa36705d2484d705af314ec04e1858ad267"
 },
 "nbformat": 3,
 "nbformat_minor": 0,
 "worksheets": [
  {
   "cells": [
    {
     "cell_type": "markdown",
     "metadata": {},
     "source": [
      "# CSE Compuatational Assignment 1\n",
      "This homework is about convection-diffusion, an important equation. There\n",
      "will be a boundary layer of rapid change at one endpoint when the conditions are $u(0) = u(1) = 0$ and the $u'$ convection term dominates. The exact solution to $\u2212Du'' + u' = 1$ is \n",
      "\n",
      "$$u = x \u2212 (\\exp(x/D) \u2212 1)/(\\exp(1/D) \u2212 1)$$\n",
      "\n",
      "1) Graph that exact solution for $D = 1/25$\n",
      "\n",
      "2) Approximate $\u2212Du'\"$ as usual by $DK/h^2$ (try 3 different values of $h$)\n",
      "\n",
      "3) Approximate $u'$ by centered and forward and backward differences (same $h$)\n",
      "\n",
      "4) With `f = ones(n,1)` solve the matrix equations and label graphs of $u$\n",
      "\n",
      "5) Write a SHORT conclusion from your tests\u2014which method(s) to use ?"
     ]
    },
    {
     "cell_type": "markdown",
     "metadata": {},
     "source": [
      "# CSE Book Assignment 1\n",
      "\n",
      "## Section 1.1\n",
      "\n",
      "### Section 1.1.2\n",
      "\n",
      "$$T_3=\\left[\\begin{matrix} \n",
      "3 & 2 & 1 \\\\ \n",
      "2 & 2 & 1 \\\\\n",
      "1 & 1 & 1\n",
      "\\end{matrix}\\right]\n",
      "$$\n",
      "\n",
      "Compute $T^{-1}_3$ in three steps using $U$ and $U^{-1}$ in equation (2):\n",
      "\n",
      "1. Check that $T_3=U^TU$, where $U$ had 1s on the main diagonal and $-1$'s along the diagonal above. Its transpose $U^T$ is lower triangular\n",
      "\n",
      "2. Check that $UU^{-1}=I$ when $U^{-1}$ has 1s on  and above the main diagonal. \n",
      "\n",
      "3. Invert $U^TU$ to find $T^{-1}_3=(U^{-1})(U^{-1})^T$. *Inverses come in reverse order!*\n",
      "\n",
      "### Section 1.1.5\n",
      "\n",
      "### Section 1.1.20\n",
      "\n",
      "### Section 1.1.22\n",
      "\n",
      "## Section 1.2\n",
      "\n",
      "### Section 1.2.1\n",
      "\n",
      "### Section 1.2.2\n",
      "\n",
      "### Section 1.2.4\n",
      "\n",
      "### Section 1.2.7\n",
      "\n",
      "### Section 1.2.10\n",
      "\n",
      "### Section 1.2.19\n",
      "\n",
      "### Section 1.2.21"
     ]
    },
    {
     "cell_type": "code",
     "collapsed": false,
     "input": [],
     "language": "python",
     "metadata": {},
     "outputs": []
    }
   ],
   "metadata": {}
  }
 ]
}