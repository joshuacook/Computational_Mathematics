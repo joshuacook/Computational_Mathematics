{
 "metadata": {
  "name": "",
  "signature": "sha256:884c21ca86686cb61208f893e6ed0f12c45b99f33aefa668407b21841865efa9"
 },
 "nbformat": 3,
 "nbformat_minor": 0,
 "worksheets": [
  {
   "cells": [
    {
     "cell_type": "markdown",
     "metadata": {},
     "source": [
      "# Homework 3\n",
      "Due: Tuesday, Oct. 14, 2014\n",
      "\n",
      "Directions: solve the following problems. You can work with others and discuss the\n",
      "problems, but each student must write his/her own, independent solution. If you are\n",
      "unsure about what i mean by this, please ask!\n",
      "\n",
      "Chapter 10, pages 624\u2013628: 34, 37, 40, 41, 46, 48, 55, and 57. \n",
      "**Skip parts associated with 38 on 46**\n",
      "\n",
      "What to turn in? Write your solutions in a document titled math481A_hw3_yx.pdf\n",
      "(where y and x stand for your initials in reverse order), and submit it to the link provided.\n"
     ]
    },
    {
     "cell_type": "code",
     "collapsed": false,
     "input": [
      "import math\n"
     ],
     "language": "python",
     "metadata": {},
     "outputs": [],
     "prompt_number": 1
    },
    {
     "cell_type": "code",
     "collapsed": false,
     "input": [
      "r = 0\n",
      "\n",
      "def f(x): return r*math.pi + math.atan(x) \n",
      "\n",
      "def it_sol(f,zk,n):\n",
      "    for i in range(n):\n",
      "        zk = f(zk)\n",
      "    return zk\n",
      "\n",
      "it_sol(f,0,1), it_sol(f,0,2), it_sol(f,0,3), it_sol(f,0,4), it_sol(f,0,5),it_sol(f,0,1000)"
     ],
     "language": "python",
     "metadata": {},
     "outputs": [
      {
       "metadata": {},
       "output_type": "pyout",
       "prompt_number": 17,
       "text": [
        "(0.0, 0.0, 0.0, 0.0, 0.0, 0.0)"
       ]
      }
     ],
     "prompt_number": 17
    },
    {
     "cell_type": "code",
     "collapsed": false,
     "input": [
      "r=1\n",
      "it_sol(f,math.pi,1), it_sol(f,math.pi,2), it_sol(f,math.pi,3), it_sol(f,math.pi,4), it_sol(f,math.pi,5)"
     ],
     "language": "python",
     "metadata": {},
     "outputs": [
      {
       "metadata": {},
       "output_type": "pyout",
       "prompt_number": 19,
       "text": [
        "(4.404219909268704,\n",
        " 4.489119455094089,\n",
        " 4.493206826422414,\n",
        " 4.4933998952273,\n",
        " 4.493409006640901)"
       ]
      }
     ],
     "prompt_number": 19
    },
    {
     "cell_type": "code",
     "collapsed": false,
     "input": [
      "0.1**4\n"
     ],
     "language": "python",
     "metadata": {},
     "outputs": [
      {
       "metadata": {},
       "output_type": "pyout",
       "prompt_number": 20,
       "text": [
        "0.00010000000000000002"
       ]
      }
     ],
     "prompt_number": 20
    },
    {
     "cell_type": "code",
     "collapsed": false,
     "input": [
      "0.2**4"
     ],
     "language": "python",
     "metadata": {},
     "outputs": [
      {
       "metadata": {},
       "output_type": "pyout",
       "prompt_number": 21,
       "text": [
        "0.0016000000000000003"
       ]
      }
     ],
     "prompt_number": 21
    },
    {
     "cell_type": "code",
     "collapsed": false,
     "input": [
      "1/(0.2**4)"
     ],
     "language": "python",
     "metadata": {},
     "outputs": [
      {
       "metadata": {},
       "output_type": "pyout",
       "prompt_number": 22,
       "text": [
        "624.9999999999999"
       ]
      }
     ],
     "prompt_number": 22
    },
    {
     "cell_type": "code",
     "collapsed": false,
     "input": [
      "-5*(1-5*.01)**(-.8)"
     ],
     "language": "python",
     "metadata": {},
     "outputs": [
      {
       "metadata": {},
       "output_type": "pyout",
       "prompt_number": 26,
       "text": [
        "-5.209440956247308"
       ]
      }
     ],
     "prompt_number": 26
    },
    {
     "cell_type": "code",
     "collapsed": false,
     "input": [
      "-5*(1-5*.02)**(-.8)"
     ],
     "language": "python",
     "metadata": {},
     "outputs": [
      {
       "metadata": {},
       "output_type": "pyout",
       "prompt_number": 27,
       "text": [
        "-5.439713124227649"
       ]
      }
     ],
     "prompt_number": 27
    },
    {
     "cell_type": "code",
     "collapsed": false,
     "input": [
      "def g(x): return x**5+5*x-1"
     ],
     "language": "python",
     "metadata": {},
     "outputs": [],
     "prompt_number": 35
    },
    {
     "cell_type": "code",
     "collapsed": false,
     "input": [
      "(g(0.2)-g(0.199))/(0.2-0.199)"
     ],
     "language": "python",
     "metadata": {},
     "outputs": [
      {
       "metadata": {},
       "output_type": "pyout",
       "prompt_number": 44,
       "text": [
        "5.0079203990009935"
       ]
      }
     ],
     "prompt_number": 44
    },
    {
     "cell_type": "code",
     "collapsed": false,
     "input": [
      "def gp(x): return 5*x**4+5\n",
      "gp(.2)"
     ],
     "language": "python",
     "metadata": {},
     "outputs": [
      {
       "metadata": {},
       "output_type": "pyout",
       "prompt_number": 47,
       "text": [
        "5.008"
       ]
      }
     ],
     "prompt_number": 47
    },
    {
     "cell_type": "code",
     "collapsed": false,
     "input": [
      "1-gp(0.1)/5.01\n"
     ],
     "language": "python",
     "metadata": {},
     "outputs": [
      {
       "metadata": {},
       "output_type": "pyout",
       "prompt_number": 48,
       "text": [
        "0.001896207584830334"
       ]
      }
     ],
     "prompt_number": 48
    },
    {
     "cell_type": "code",
     "collapsed": false,
     "input": [
      "1-gp(0.2)/5.01"
     ],
     "language": "python",
     "metadata": {},
     "outputs": [
      {
       "metadata": {},
       "output_type": "pyout",
       "prompt_number": 49,
       "text": [
        "0.0003992015968063978"
       ]
      }
     ],
     "prompt_number": 49
    },
    {
     "cell_type": "code",
     "collapsed": false,
     "input": [
      "def f(x): return x**5+5*x-1\n",
      "def it_sol2(z0,n,f):\n",
      "    z = z0\n",
      "    for i in range(n):\n",
      "        z = z-1/5.01*f(z)\n",
      "        print \"%d,\\\\ %.10f\" % (i, z)\n",
      "    return\n",
      "\n",
      "it_sol2(0.2,10,f)"
     ],
     "language": "python",
     "metadata": {},
     "outputs": [
      {
       "output_type": "stream",
       "stream": "stdout",
       "text": [
        "0,\\ 0.1999361277\n",
        "1,\\ 0.1999361022\n",
        "2,\\ 0.1999361022\n",
        "3,\\ 0.1999361022\n",
        "4,\\ 0.1999361022\n",
        "5,\\ 0.1999361022\n",
        "6,\\ 0.1999361022\n",
        "7,\\ 0.1999361022\n",
        "8,\\ 0.1999361022\n",
        "9,\\ 0.1999361022\n"
       ]
      }
     ],
     "prompt_number": 70
    },
    {
     "cell_type": "code",
     "collapsed": false,
     "input": [
      "it_sol2(0.1,10,f)"
     ],
     "language": "python",
     "metadata": {},
     "outputs": [
      {
       "output_type": "stream",
       "stream": "stdout",
       "text": [
        "0,\\ 0.1997984032\n",
        "1,\\ 0.1999360466\n",
        "2,\\ 0.1999361021\n",
        "3,\\ 0.1999361022\n",
        "4,\\ 0.1999361022\n",
        "5,\\ 0.1999361022\n",
        "6,\\ 0.1999361022\n",
        "7,\\ 0.1999361022\n",
        "8,\\ 0.1999361022\n",
        "9,\\ 0.1999361022\n"
       ]
      }
     ],
     "prompt_number": 71
    },
    {
     "cell_type": "code",
     "collapsed": false,
     "input": [
      "def f1(x): return x+math.log(x)\n",
      "def f1p(x): return 1.+1./x\n",
      "def f2(x): return x-math.exp(-x)\n",
      "def f2p(x): return 1+math.exp(-x)\n",
      "def it_sol46(z0,n,f,fp):\n",
      "    z = z0\n",
      "    for i in range(n):\n",
      "        z = z-f(z)/fp(z)\n",
      "        print \"%d,\\\\ %.5f\" % (i, z)\n",
      "    return\n",
      "it_sol46(.56,3,f1,f1p)"
     ],
     "language": "python",
     "metadata": {},
     "outputs": [
      {
       "output_type": "stream",
       "stream": "stdout",
       "text": [
        "0,\\ 0.56711\n",
        "1,\\ 0.56714\n",
        "2,\\ 0.56714\n"
       ]
      }
     ],
     "prompt_number": 77
    },
    {
     "cell_type": "code",
     "collapsed": false,
     "input": [
      "it_sol46(.56,3,f2,f2p)"
     ],
     "language": "python",
     "metadata": {},
     "outputs": [
      {
       "output_type": "stream",
       "stream": "stdout",
       "text": [
        "0,\\ 0.56713\n",
        "1,\\ 0.56714\n",
        "2,\\ 0.56714\n"
       ]
      }
     ],
     "prompt_number": 80
    },
    {
     "cell_type": "code",
     "collapsed": false,
     "input": [
      "from sympy import diff\n",
      "from sympy.abc import x,a\n",
      "diff(1-1/(a*x),x)"
     ],
     "language": "python",
     "metadata": {},
     "outputs": [
      {
       "metadata": {},
       "output_type": "pyout",
       "prompt_number": 81,
       "text": [
        "1/(a*x**2)"
       ]
      }
     ],
     "prompt_number": 81
    },
    {
     "cell_type": "code",
     "collapsed": false,
     "input": [
      "diff(diff(1-1/(a*x),x),x)"
     ],
     "language": "python",
     "metadata": {},
     "outputs": [
      {
       "metadata": {},
       "output_type": "pyout",
       "prompt_number": 82,
       "text": [
        "-2/(a*x**3)"
       ]
      }
     ],
     "prompt_number": 82
    },
    {
     "cell_type": "code",
     "collapsed": false,
     "input": [
      "def g_1(x): return 3*x**4+8*x**3-6*x*82-25*x+19\n",
      "def g_p1(x): return 12*x**3+24*x**2-12*x-25\n",
      "def g_pp1(x): return 36*x**2 +48*x-12\n",
      "def g_ppp1(x): return 72*x+48\n",
      "1./3+math.sqrt(-2*g_p1(-1./3)/g_ppp1(-1./3)),1./3-math.sqrt(-2*g_p1(-1./3)/g_ppp1(-1./3))\n"
     ],
     "language": "python",
     "metadata": {},
     "outputs": [
      {
       "metadata": {},
       "output_type": "pyout",
       "prompt_number": 96,
       "text": [
        "(1.5842589165775225, -0.917592249910856)"
       ]
      }
     ],
     "prompt_number": 96
    },
    {
     "cell_type": "code",
     "collapsed": false,
     "input": [
      "g_1(1.5842589165775225),g_pp1(1.5842589165775225)"
     ],
     "language": "python",
     "metadata": {},
     "outputs": [
      {
       "metadata": {},
       "output_type": "pyout",
       "prompt_number": 99,
       "text": [
        "(-749.3530710752053, 154.39997532691496)"
       ]
      }
     ],
     "prompt_number": 99
    },
    {
     "cell_type": "code",
     "collapsed": false,
     "input": [
      "g_1(-0.917592249910856),g_pp1(-0.917592249910856)"
     ],
     "language": "python",
     "metadata": {},
     "outputs": [
      {
       "metadata": {},
       "output_type": "pyout",
       "prompt_number": 98,
       "text": [
        "(489.3412397994852, -25.733308660248284)"
       ]
      }
     ],
     "prompt_number": 98
    },
    {
     "cell_type": "code",
     "collapsed": false,
     "input": [
      "beta_1=1.5842589165775225\n",
      "beta_2=-0.917592249910856\n",
      "beta_1 + math.sqrt(-2*g_1(beta_1)/g_pp1(beta_1)),beta_1 - math.sqrt(-2*g_1(beta_1)/g_pp1(beta_1))"
     ],
     "language": "python",
     "metadata": {},
     "outputs": [
      {
       "metadata": {},
       "output_type": "pyout",
       "prompt_number": 100,
       "text": [
        "(4.699808234034007, -1.5312904008789627)"
       ]
      }
     ],
     "prompt_number": 100
    },
    {
     "cell_type": "code",
     "collapsed": false,
     "input": [
      "beta_2 + math.sqrt(-2*g_1(beta_2)/g_pp1(beta_2)),beta_2 - math.sqrt(-2*g_1(beta_2)/g_pp1(beta_2))"
     ],
     "language": "python",
     "metadata": {},
     "outputs": [
      {
       "metadata": {},
       "output_type": "pyout",
       "prompt_number": 101,
       "text": [
        "(5.249395591804843, -7.084580091626556)"
       ]
      }
     ],
     "prompt_number": 101
    },
    {
     "cell_type": "code",
     "collapsed": false,
     "input": [
      "def h(x): return x**6-16*x**3+x**2+59\n",
      "def h_p(x): return 6*x**5-48*x**2+2*x\n",
      "def h_pp(x): return 30*x**4-96*x+2\n",
      "\n",
      "2. + math.sqrt(-2.*h(2.)/h_pp(2.)), 2. - math.sqrt(-2.*h(2.)/h_pp(2.))"
     ],
     "language": "python",
     "metadata": {},
     "outputs": [
      {
       "metadata": {},
       "output_type": "pyout",
       "prompt_number": 116,
       "text": [
        "(2.08304547985374, 1.91695452014626)"
       ]
      }
     ],
     "prompt_number": 116
    },
    {
     "cell_type": "code",
     "collapsed": false,
     "input": [
      "math.sqrt(-2*h(2)/h_pp(2))"
     ],
     "language": "python",
     "metadata": {},
     "outputs": [
      {
       "metadata": {},
       "output_type": "pyout",
       "prompt_number": 115,
       "text": [
        "0.0"
       ]
      }
     ],
     "prompt_number": 115
    },
    {
     "cell_type": "code",
     "collapsed": false,
     "input": [
      "h(2)"
     ],
     "language": "python",
     "metadata": {},
     "outputs": [
      {
       "metadata": {},
       "output_type": "pyout",
       "prompt_number": 114,
       "text": [
        "-1"
       ]
      }
     ],
     "prompt_number": 114
    },
    {
     "cell_type": "code",
     "collapsed": false,
     "input": [],
     "language": "python",
     "metadata": {},
     "outputs": []
    }
   ],
   "metadata": {}
  }
 ]
}