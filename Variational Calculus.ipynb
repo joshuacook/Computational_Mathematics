{
 "metadata": {
  "name": "",
  "signature": "sha256:e337f9f6fdc96c86329ccee0deeff4fe507f7d5fad0538fe380a17f599268e6b"
 },
 "nbformat": 3,
 "nbformat_minor": 0,
 "worksheets": [
  {
   "cells": [
    {
     "cell_type": "markdown",
     "metadata": {},
     "source": [
      "# Variational Calculus"
     ]
    },
    {
     "cell_type": "markdown",
     "metadata": {},
     "source": [
      "## Euler-Lagrange Equation\n",
      "a differential equation for which a given function is stationary. \n",
      "\n",
      "Useful for solving optimization problems. \n",
      "\n",
      "## The principle of least action \n",
      "\n",
      "Also known as Hamilton's principle. \n",
      "\n",
      "> Every mechanical system is characterized by a definite function $L(q,\\dot{q},t)$ and the motion is sucht that a certain condition is satisfied, namely it will seek to minimize\n",
      "\n",
      "$$I=\\int_{t_1}^{t_2}L\\ dt\\ \\ \\ L=T-V$$\n",
      "\n",
      "The minimimazation yields the Euler-Lagrange differential equation \n",
      "\n",
      "$$-\\rho\\frac{\\partial^2 u}{\\partial t^2}+\\tau\\frac{\\partial^2 u}{\\partial x^2}=2f$$\n",
      "\n",
      "Leads to the **Sturm-Liouville problem**\n",
      "\n",
      "$$-(p(x)w'(x))'+q(x)w(x)=\\lambda w(x)$$\n",
      "\n",
      "which describes an eigenproblem, the general solution to which is \n",
      "\n",
      "$$u(x,t)=\\sum_{k=0}^\\infty w_k(x)\\bigg[a_k\\cos\\Big(\\sqrt{\\lambda_k}t\\Big)+b_k\\sin\\Big(\\sqrt{\\lambda_k}t\\Big)\\bigg]$$\n",
      "\n",
      "with the $w_k$ forming an orthogonal basis in the space of square integrable functions, which aids in finding the coefficients, $a$ and $b$.\n",
      "\n",
      "The difficult problem is the eigenproblem and generally numerical methods are required. "
     ]
    },
    {
     "cell_type": "markdown",
     "metadata": {},
     "source": [
      "## Numerical methods for solving 1-dimensional problems\n",
      "\n",
      "### Finite Differences"
     ]
    },
    {
     "cell_type": "code",
     "collapsed": false,
     "input": [],
     "language": "python",
     "metadata": {},
     "outputs": []
    }
   ],
   "metadata": {}
  }
 ]
}