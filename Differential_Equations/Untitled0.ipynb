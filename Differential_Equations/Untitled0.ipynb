{
 "metadata": {
  "name": "",
  "signature": "sha256:e859b4e45501c7dd2987b745dc7e05acf3f39a8d6502f079858d04a52eada0ad"
 },
 "nbformat": 3,
 "nbformat_minor": 0,
 "worksheets": [
  {
   "cells": [
    {
     "cell_type": "code",
     "collapsed": false,
     "input": [
      "import numpy as np\n",
      "import numpy.linalg as LA\n",
      "import matplotlib.pyplot as plt\n",
      "%precision 6\n",
      "%matplotlib inline\n",
      "\n",
      "n    = 300.\n",
      "h    = 1./n\n",
      "X    = np.linspace(-np.pi,np.pi,n)\n",
      "ONE  = np.ones(n)\n",
      "ZERO = np.zeros(n) \n",
      "\n",
      "def L2_inner_product(f,g):\n",
      "    return np.trapz(f*g,dx=2*np.pi*h)/np.pi\n",
      "\n"
     ],
     "language": "python",
     "metadata": {},
     "outputs": []
    }
   ],
   "metadata": {}
  }
 ]
}