{
 "metadata": {
  "name": "",
  "signature": "sha256:d4eefce9d9b64cb6b14c6ca33370dcb2ff34a994ba5898a9e983fc4764632c43"
 },
 "nbformat": 3,
 "nbformat_minor": 0,
 "worksheets": [
  {
   "cells": [
    {
     "cell_type": "markdown",
     "metadata": {},
     "source": [
      "### Solve a PDE and print Output in Latex"
     ]
    },
    {
     "cell_type": "code",
     "collapsed": false,
     "input": [
      "from sympy import diff,exp\n",
      "from sympy.abc import x,t,a\n",
      "from sympy import init_printing\n",
      "from sympy import latex"
     ],
     "language": "python",
     "metadata": {},
     "outputs": [],
     "prompt_number": 1
    },
    {
     "cell_type": "code",
     "collapsed": false,
     "input": [
      "init_printing()\n"
     ],
     "language": "python",
     "metadata": {},
     "outputs": [],
     "prompt_number": 2
    },
    {
     "cell_type": "code",
     "collapsed": false,
     "input": [
      "print(latex(diff(diff(exp(-(x-2*t)**2),x),x)))"
     ],
     "language": "python",
     "metadata": {},
     "outputs": [
      {
       "output_type": "stream",
       "stream": "stdout",
       "text": [
        "\\left(4 t - 2 x\\right)^{2} e^{- \\left(- 2 t + x\\right)^{2}} - 2 e^{- \\left(- 2 t + x\\right)^{2}}\n"
       ]
      }
     ],
     "prompt_number": 3
    },
    {
     "cell_type": "markdown",
     "metadata": {},
     "source": [
      "$\n",
      "\\left(4 t - 2 x\\right)^{2} e^{- \\left(- 2 t + x\\right)^{2}} - 2 e^{- \\left(- 2 t + x\\right)^{2}}$"
     ]
    },
    {
     "cell_type": "code",
     "collapsed": false,
     "input": [
      "print(latex(diff(diff(exp(-(x-2*t)**2),t),t))) "
     ],
     "language": "python",
     "metadata": {},
     "outputs": [
      {
       "output_type": "stream",
       "stream": "stdout",
       "text": [
        "\\left(- 8 t + 4 x\\right)^{2} e^{- \\left(- 2 t + x\\right)^{2}} - 8 e^{- \\left(- 2 t + x\\right)^{2}}\n"
       ]
      }
     ],
     "prompt_number": 4
    },
    {
     "cell_type": "markdown",
     "metadata": {},
     "source": [
      "$\\left(- 8 t + 4 x\\right)^{2} e^{- \\left(- 2 t + x\\right)^{2}} - 8 e^{- \\left(- 2 t + x\\right)^{2}}$"
     ]
    },
    {
     "cell_type": "markdown",
     "metadata": {},
     "source": [
      "### Quick Plots"
     ]
    },
    {
     "cell_type": "code",
     "collapsed": false,
     "input": [
      "from numpy import linspace, exp as np_exp\n",
      "import matplotlib.pyplot as plt\n",
      "from pylab import legend\n",
      "%matplotlib inline"
     ],
     "language": "python",
     "metadata": {},
     "outputs": [],
     "prompt_number": 58
    },
    {
     "cell_type": "code",
     "collapsed": false,
     "input": [
      "x = linspace(-5,5)\n",
      "u_1 = exp(-(x+1)**2)\n",
      "u_2 = exp(-(x+2)**2)\n",
      "u_3 = exp(-(x+3)**2)\n",
      "p1, = plt.plot(x, u_1)\n",
      "p2, = plt.plot(x, u_2)\n",
      "p3, = plt.plot(x, u_3)\n",
      "legend([p1, p2, p3], [\"$u(1,x)$\", \"$u(2,x)$\", \"$u(3,x)$\"])\n",
      "plt.axhline(linewidth=1.0, color=\"black\")\n",
      "plt.axvline(linewidth=1.0, color=\"black\")"
     ],
     "language": "python",
     "metadata": {},
     "outputs": [
      {
       "metadata": {},
       "output_type": "pyout",
       "prompt_number": 45,
       "text": [
        "<matplotlib.lines.Line2D at 0x112ade750>"
       ]
      },
      {
       "metadata": {},
       "output_type": "display_data",
       "png": "[encoded data removed]",
       "text": [
        "<matplotlib.figure.Figure at 0x112b79390>"
       ]
      }
     ],
     "prompt_number": 45
    },
    {
     "cell_type": "markdown",
     "metadata": {},
     "source": [
      "### Traveling wave with $c>0$"
     ]
    },
    {
     "cell_type": "code",
     "collapsed": false,
     "input": [
      "from IPython.html.widgets import interact, interactive, fixed\n",
      "from IPython.html import widgets\n",
      "\n",
      "@interact(t_i=(-100.,100.))\n",
      "def plot(t_i=0):\n",
      "    def f(x): return exp(-t_i)*np_exp(-(x-t_i)**2) \n",
      "    plt.plot(linspace(-50,50,100), f(linspace(-50,50,100)))\n",
      "    plt.axhline(linewidth=1.0, color=\"black\")\n",
      "    plt.axvline(linewidth=1.0, color=\"black\")\n",
      "    plt.show()\n"
     ],
     "language": "python",
     "metadata": {},
     "outputs": [
      {
       "metadata": {},
       "output_type": "display_data",
       "png": "[encoded data removed]",
       "text": [
        "<matplotlib.figure.Figure at 0x112db7490>"
       ]
      }
     ],
     "prompt_number": 71
    },
    {
     "cell_type": "code",
     "collapsed": false,
     "input": [
      "from sympy import Symbol\n",
      "m_1=Symbol(\"m_1\")\n",
      "m_2=Symbol(\"m_2\")\n",
      "m_3=Symbol(\"m_3\")\n",
      "n_1=Symbol(\"n_1\")\n",
      "n_2=Symbol(\"n_2\")\n",
      "n_3=Symbol(\"n_3\")"
     ],
     "language": "python",
     "metadata": {},
     "outputs": [],
     "prompt_number": 4
    },
    {
     "cell_type": "code",
     "collapsed": false,
     "input": [
      "print(latex((expand((5*m_1+n_1)*(5*m_1+n_1))+expand((5*m_2+n_2)*(5*m_2+n_2))+expand((5*m_3+n_3)*(5*m_3+n_3)))/5))"
     ],
     "language": "python",
     "metadata": {},
     "outputs": [
      {
       "output_type": "stream",
       "stream": "stdout",
       "text": [
        "5 m_{1}^{2} + 2 m_{1} n_{1} + 5 m_{2}^{2} + 2 m_{2} n_{2} + 5 m_{3}^{2} + 2 m_{3} n_{3} + \\frac{n_{1}^{2}}{5} + \\frac{n_{2}^{2}}{5} + \\frac{n_{3}^{2}}{5}\n"
       ]
      }
     ],
     "prompt_number": 13
    },
    {
     "cell_type": "code",
     "collapsed": false,
     "input": [
      "from sympy import expand\n"
     ],
     "language": "python",
     "metadata": {},
     "outputs": [],
     "prompt_number": 6
    },
    {
     "cell_type": "code",
     "collapsed": false,
     "input": [
      "expand((5*m_1+n_1)*(5*m_1+n_1))"
     ],
     "language": "python",
     "metadata": {},
     "outputs": [
      {
       "latex": [
        "$$25 m_{1}^{2} + 10 m_{1} n_{1} + n_{1}^{2}$$"
       ],
       "metadata": {},
       "output_type": "pyout",
       "png": "[encoded data removed]",
       "prompt_number": 10,
       "text": [
        "     2                2\n",
        "25\u22c5m\u2081  + 10\u22c5m\u2081\u22c5n\u2081 + n\u2081 "
       ]
      }
     ],
     "prompt_number": 10
    },
    {
     "cell_type": "code",
     "collapsed": false,
     "input": [],
     "language": "python",
     "metadata": {},
     "outputs": []
    }
   ],
   "metadata": {}
  }
 ]
}