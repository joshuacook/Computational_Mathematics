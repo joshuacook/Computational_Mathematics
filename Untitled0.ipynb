{
 "metadata": {
  "name": "",
  "signature": "sha256:a8c398fb96dfc0673397416ddd8d9470f25b882652667ebcc269f31efde1b389"
 },
 "nbformat": 3,
 "nbformat_minor": 0,
 "worksheets": [
  {
   "cells": [
    {
     "cell_type": "code",
     "collapsed": false,
     "input": [
      "2+2\n"
     ],
     "language": "python",
     "metadata": {},
     "outputs": [
      {
       "metadata": {},
       "output_type": "pyout",
       "prompt_number": 1,
       "text": [
        "4"
       ]
      }
     ],
     "prompt_number": 1
    },
    {
     "cell_type": "markdown",
     "metadata": {},
     "source": [
      "# This is a heading\n",
      "\n",
      "This is a paragraph\n",
      "\n",
      "## This is latex\n",
      "\n",
      "inline latex $\\frac{1}{2}$\n",
      "\n",
      "### An equation\n",
      "\n",
      "$$f(x)=\\int_a^b 2xdx$$"
     ]
    },
    {
     "cell_type": "code",
     "collapsed": false,
     "input": [
      "from sympy import diff\n"
     ],
     "language": "python",
     "metadata": {},
     "outputs": []
    }
   ],
   "metadata": {}
  }
 ]
}