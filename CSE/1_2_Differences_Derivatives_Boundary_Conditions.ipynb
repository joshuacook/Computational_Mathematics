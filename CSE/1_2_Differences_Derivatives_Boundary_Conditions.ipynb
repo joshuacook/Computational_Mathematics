{
 "metadata": {
  "name": "",
  "signature": "sha256:9679875fd7756eb683782a1cba6b63fa313a2fc0e0646d1476e55fe415e23e4f"
 },
 "nbformat": 3,
 "nbformat_minor": 0,
 "worksheets": [
  {
   "cells": [
    {
     "cell_type": "code",
     "collapsed": false,
     "input": [
      "import numpy as np\n",
      "import numpy.linalg as nla\n",
      "import scipy.linalg as sla\n",
      "import scipy.sparse as sprs\n",
      "import scipy.sparse.linalg as spla\n",
      "import matplotlib.pyplot as plt\n",
      "%matplotlib inline\n",
      "\n",
      "%load KTBC.py"
     ],
     "language": "python",
     "metadata": {},
     "outputs": [],
     "prompt_number": 1
    },
    {
     "cell_type": "code",
     "collapsed": false,
     "input": [
      "def KTBC(type='K',n=10,sparse=False):\n",
      "    # KTBC Create finite difference model matrix.\n",
      "    # K=KTBC(TYPE,N,SPARSE) creates model matrix TYPE of size N-by-N.\n",
      "    # TYPE is one of the characters 'K', 'T', 'B', or 'C'.\n",
      "    # The command K = KTBC('K', 100, 1) gives a sparse representation\n",
      "    # K=KTBC uses the defaults TYPE='K', n=10, and SPARSE=False.\n",
      "    # Change the 3rd argument from 1 to 0 for dense representation!\n",
      "    # If no 3rd argument is given, the default is dense\n",
      "    # If no argument at all, KTBC will give 10 by 10 matrix K\n",
      "    e = np.ones(n)\n",
      "    e_off = np.ones(n-1)\n",
      "    K = sprs.diags([-e_off,2*e,-e_off],[-1,0,1])\n",
      "\n",
      "    if type == 'K': \n",
      "        K = K\n",
      "    if type == 'T':\n",
      "        K = sprs.csr_matrix(K)\n",
      "        K[0,0] = 1\n",
      "    if type == 'B': \n",
      "        K = sprs.csr_matrix(K)\n",
      "        K[0,0] = 1\n",
      "        K[n-1,n-1] = 1\n",
      "    if type == 'C':\n",
      "        K = sprs.csr_matrix(K)\n",
      "        K[0,n-1] = -1\n",
      "        K[n-1,0] = -1\n",
      "\n",
      "\n",
      "    if sparse == False:\n",
      "        return K.todense()\n",
      "    else:\n",
      "        return K"
     ],
     "language": "python",
     "metadata": {},
     "outputs": []
    },
    {
     "cell_type": "code",
     "collapsed": false,
     "input": [
      "def KTBC(type='K',n=10,sparse=False):\n",
      "    # KTBC Create finite difference model matrix.\n",
      "    # K=KTBC(TYPE,N,SPARSE) creates model matrix TYPE of size N-by-N.\n",
      "    # TYPE is one of the characters 'K', 'T', 'B', or 'C'.\n",
      "    # The command K = KTBC('K', 100, 1) gives a sparse representation\n",
      "    # K=KTBC uses the defaults TYPE='K', n=10, and SPARSE=False.\n",
      "    # Change the 3rd argument from 1 to 0 for dense representation!\n",
      "    # If no 3rd argument is given, the default is dense\n",
      "    # If no argument at all, KTBC will give 10 by 10 matrix K\n",
      "    e = np.ones(n)\n",
      "    e_off = np.ones(n-1)\n",
      "    K = sprs.diags([-e_off,2*e,-e_off],[-1,0,1])\n",
      "\n",
      "    if type == 'K': \n",
      "        K = K\n",
      "    if type == 'T':\n",
      "        K = sprs.csr_matrix(K)\n",
      "        K[0,0] = 1\n",
      "    if type == 'B': \n",
      "        K = sprs.csr_matrix(K)\n",
      "        K[0,0] = 1\n",
      "        K[n-1,n-1] = 1\n",
      "    if type == 'C':\n",
      "        K = sprs.csr_matrix(K)\n",
      "        K[0,n-1] = -1\n",
      "        K[n-1,0] = -1\n",
      "\n",
      "\n",
      "    if sparse == False:\n",
      "        return K.todense()\n",
      "    else:\n",
      "        return K"
     ],
     "language": "python",
     "metadata": {},
     "outputs": [],
     "prompt_number": 2
    },
    {
     "cell_type": "code",
     "collapsed": false,
     "input": [
      "def KTBC(type='K',n=10,sparse=False):\n",
      "    # KTBC Create finite difference model matrix.\n",
      "    # K=KTBC(TYPE,N,SPARSE) creates model matrix TYPE of size N-by-N.\n",
      "    # TYPE is one of the characters 'K', 'T', 'B', or 'C'.\n",
      "    # The command K = KTBC('K', 100, 1) gives a sparse representation\n",
      "    # K=KTBC uses the defaults TYPE='K', n=10, and SPARSE=False.\n",
      "    # Change the 3rd argument from 1 to 0 for dense representation!\n",
      "    # If no 3rd argument is given, the default is dense\n",
      "    # If no argument at all, KTBC will give 10 by 10 matrix K\n",
      "    e = np.ones(n)\n",
      "    e_off = np.ones(n-1)\n",
      "    K = sprs.diags([-e_off,2*e,-e_off],[-1,0,1])\n",
      "\n",
      "    if type == 'K': \n",
      "        K = K\n",
      "    if type == 'T':\n",
      "        K = sprs.csr_matrix(K)\n",
      "        K[0,0] = 1\n",
      "    if type == 'B': \n",
      "        K = sprs.csr_matrix(K)\n",
      "        K[0,0] = 1\n",
      "        K[n-1,n-1] = 1\n",
      "    if type == 'C':\n",
      "        K = sprs.csr_matrix(K)\n",
      "        K[0,n-1] = -1\n",
      "        K[n-1,0] = -1\n",
      "\n",
      "\n",
      "    if sparse == False:\n",
      "        return K.todense()\n",
      "    else:\n",
      "        return K"
     ],
     "language": "python",
     "metadata": {},
     "outputs": [],
     "prompt_number": 3
    },
    {
     "cell_type": "code",
     "collapsed": false,
     "input": [
      "def KTBC(type='K',n=10,sparse=False):\n",
      "    # KTBC Create finite difference model matrix.\n",
      "    # K=KTBC(TYPE,N,SPARSE) creates model matrix TYPE of size N-by-N.\n",
      "    # TYPE is one of the characters 'K', 'T', 'B', or 'C'.\n",
      "    # The command K = KTBC('K', 100, 1) gives a sparse representation\n",
      "    # K=KTBC uses the defaults TYPE='K', n=10, and SPARSE=False.\n",
      "    # Change the 3rd argument from 1 to 0 for dense representation!\n",
      "    # If no 3rd argument is given, the default is dense\n",
      "    # If no argument at all, KTBC will give 10 by 10 matrix K\n",
      "    e = np.ones(n)\n",
      "    e_off = np.ones(n-1)\n",
      "    K = sprs.diags([-e_off,2*e,-e_off],[-1,0,1])\n",
      "\n",
      "    if type == 'K': \n",
      "        K = K\n",
      "    if type == 'T':\n",
      "        K = sprs.csr_matrix(K)\n",
      "        K[0,0] = 1\n",
      "    if type == 'B': \n",
      "        K = sprs.csr_matrix(K)\n",
      "        K[0,0] = 1\n",
      "        K[n-1,n-1] = 1\n",
      "    if type == 'C':\n",
      "        K = sprs.csr_matrix(K)\n",
      "        K[0,n-1] = -1\n",
      "        K[n-1,0] = -1\n",
      "\n",
      "\n",
      "    if sparse == False:\n",
      "        return K.todense()\n",
      "    else:\n",
      "        return K"
     ],
     "language": "python",
     "metadata": {},
     "outputs": [],
     "prompt_number": 4
    },
    {
     "cell_type": "code",
     "collapsed": false,
     "input": [
      "K8 = KTBC('K',8)\n",
      "T8 = KTBC('T',8)\n",
      "B8 = KTBC('B',8)\n",
      "C8 = KTBC('C',8)\n",
      "\n",
      "K8"
     ],
     "language": "python",
     "metadata": {},
     "outputs": [
      {
       "output_type": "stream",
       "stream": "stderr",
       "text": [
        "/usr/local/lib/python2.7/site-packages/scipy/sparse/compressed.py:690: SparseEfficiencyWarning: Changing the sparsity structure of a csr_matrix is expensive. lil_matrix is more efficient.\n",
        "  SparseEfficiencyWarning)\n"
       ]
      },
      {
       "metadata": {},
       "output_type": "pyout",
       "prompt_number": 5,
       "text": [
        "matrix([[ 2., -1.,  0.,  0.,  0.,  0.,  0.,  0.],\n",
        "        [-1.,  2., -1.,  0.,  0.,  0.,  0.,  0.],\n",
        "        [ 0., -1.,  2., -1.,  0.,  0.,  0.,  0.],\n",
        "        [ 0.,  0., -1.,  2., -1.,  0.,  0.,  0.],\n",
        "        [ 0.,  0.,  0., -1.,  2., -1.,  0.,  0.],\n",
        "        [ 0.,  0.,  0.,  0., -1.,  2., -1.,  0.],\n",
        "        [ 0.,  0.,  0.,  0.,  0., -1.,  2., -1.],\n",
        "        [ 0.,  0.,  0.,  0.,  0.,  0., -1.,  2.]])"
       ]
      }
     ],
     "prompt_number": 5
    },
    {
     "cell_type": "markdown",
     "metadata": {},
     "source": [
      "## Constant Function\n",
      "$\\frac{1}{2}$"
     ]
    },
    {
     "cell_type": "code",
     "collapsed": false,
     "input": [
      "print K8.dot(np.array([1,8,27,64,125,64,27,8]))\n",
      "print T8.dot(np.array([1,1,1,1,1,1,1,1]))\n",
      "print B8.dot(np.array([1,1,1,1,1,1,1,1]))\n",
      "print C8.dot(np.array([1,1,1,1,1,1,1,1]))"
     ],
     "language": "python",
     "metadata": {},
     "outputs": [
      {
       "output_type": "stream",
       "stream": "stdout",
       "text": [
        "[[  -6.  -12.  -18.  -24.  122.  -24.  -18.  -11.]]\n",
        "[[ 0.  0.  0.  0.  0.  0.  0.  1.]]\n",
        "[[ 0.  0.  0.  0.  0.  0.  0.  0.]]\n",
        "[[ 0.  0.  0.  0.  0.  0.  0.  0.]]\n"
       ]
      }
     ],
     "prompt_number": 7
    },
    {
     "cell_type": "markdown",
     "metadata": {},
     "source": [
      "## Linear Function"
     ]
    },
    {
     "cell_type": "code",
     "collapsed": false,
     "input": [
      "print K8.dot(np.array([0,1,2,3,4,5,6,7]))\n",
      "print T8.dot(np.array([0,1,2,3,4,5,6,7]))\n",
      "print B8.dot(np.array([0,1,2,3,4,5,6,7]))\n",
      "print C8.dot(np.array([0,1,2,3,4,5,6,7]))"
     ],
     "language": "python",
     "metadata": {},
     "outputs": [
      {
       "output_type": "stream",
       "stream": "stdout",
       "text": [
        "[[-1.  0.  0.  0.  0.  0.  0.  8.]]\n",
        "[[-1.  0.  0.  0.  0.  0.  0.  8.]]\n",
        "[[-1.  0.  0.  0.  0.  0.  0.  1.]]\n",
        "[[-8.  0.  0.  0.  0.  0.  0.  8.]]\n"
       ]
      }
     ],
     "prompt_number": 7
    },
    {
     "cell_type": "markdown",
     "metadata": {},
     "source": [
      "## Quadratic Function\n"
     ]
    },
    {
     "cell_type": "code",
     "collapsed": false,
     "input": [
      "print K8.dot(np.array([0,1,4,9,16,25,36,49]))\n",
      "print T8.dot(np.array([0,1,4,9,16,25,36,49]))\n",
      "print B8.dot(np.array([0,1,4,9,16,25,36,49]))\n",
      "print C8.dot(np.array([0,1,4,9,16,25,36,49]))"
     ],
     "language": "python",
     "metadata": {},
     "outputs": [
      {
       "output_type": "stream",
       "stream": "stdout",
       "text": [
        "[[ -1.  -2.  -2.  -2.  -2.  -2.  -2.  62.]]\n",
        "[[ -1.  -2.  -2.  -2.  -2.  -2.  -2.  62.]]\n",
        "[[ -1.  -2.  -2.  -2.  -2.  -2.  -2.  13.]]\n",
        "[[-50.  -2.  -2.  -2.  -2.  -2.  -2.  62.]]\n"
       ]
      }
     ],
     "prompt_number": 8
    },
    {
     "cell_type": "markdown",
     "metadata": {},
     "source": [
      "## Cubic Function"
     ]
    },
    {
     "cell_type": "code",
     "collapsed": false,
     "input": [
      "print K8.dot(np.array([0,1,8,27,64,125,216,343]))\n",
      "print T8.dot(np.array([0,1,8,27,64,125,216,343]))\n",
      "print B8.dot(np.array([0,1,8,27,64,125,216,343]))\n",
      "print C8.dot(np.array([0,1,8,27,64,125,216,343]))"
     ],
     "language": "python",
     "metadata": {},
     "outputs": [
      {
       "output_type": "stream",
       "stream": "stdout",
       "text": [
        "[[  -1.   -6.  -12.  -18.  -24.  -30.  -36.  470.]]\n",
        "[[  -1.   -6.  -12.  -18.  -24.  -30.  -36.  470.]]\n",
        "[[  -1.   -6.  -12.  -18.  -24.  -30.  -36.  127.]]\n",
        "[[-344.   -6.  -12.  -18.  -24.  -30.  -36.  470.]]\n"
       ]
      }
     ],
     "prompt_number": 9
    },
    {
     "cell_type": "markdown",
     "metadata": {},
     "source": [
      "## Delta Function"
     ]
    },
    {
     "cell_type": "code",
     "collapsed": false,
     "input": [
      "print K8.dot(np.array([0,0,0,0,1,0,0,0]))\n",
      "print T8.dot(np.array([0,0,0,0,1,0,0,0]))\n",
      "print B8.dot(np.array([0,0,0,0,1,0,0,0]))\n",
      "print C8.dot(np.array([0,0,0,0,1,0,0,0]))"
     ],
     "language": "python",
     "metadata": {},
     "outputs": [
      {
       "output_type": "stream",
       "stream": "stdout",
       "text": [
        "[[ 0.  0.  0. -1.  2. -1.  0.  0.]]\n",
        "[[ 0.  0.  0. -1.  2. -1.  0.  0.]]\n",
        "[[ 0.  0.  0. -1.  2. -1.  0.  0.]]\n",
        "[[ 0.  0.  0. -1.  2. -1.  0.  0.]]\n"
       ]
      }
     ],
     "prompt_number": 10
    },
    {
     "cell_type": "markdown",
     "metadata": {},
     "source": [
      "## Heaviside Function"
     ]
    },
    {
     "cell_type": "code",
     "collapsed": false,
     "input": [
      "print K8.dot(np.array([0,0,0,0,1,1,1,1]))\n",
      "print T8.dot(np.array([0,0,0,0,1,1,1,1]))\n",
      "print B8.dot(np.array([0,0,0,0,1,1,1,1]))\n",
      "print C8.dot(np.array([0,0,0,0,1,1,1,1]))"
     ],
     "language": "python",
     "metadata": {},
     "outputs": [
      {
       "output_type": "stream",
       "stream": "stdout",
       "text": [
        "[[ 0.  0.  0. -1.  1.  0.  0.  1.]]\n",
        "[[ 0.  0.  0. -1.  1.  0.  0.  1.]]\n",
        "[[ 0.  0.  0. -1.  1.  0.  0.  0.]]\n",
        "[[-1.  0.  0. -1.  1.  0.  0.  1.]]\n"
       ]
      }
     ],
     "prompt_number": 11
    },
    {
     "cell_type": "markdown",
     "metadata": {},
     "source": [
      "## Ramp Function"
     ]
    },
    {
     "cell_type": "code",
     "collapsed": false,
     "input": [
      "print K8.dot(np.array([0,0,0,0,1,2,3,4]))\n",
      "print T8.dot(np.array([0,0,0,0,1,2,3,4]))\n",
      "print B8.dot(np.array([0,0,0,0,1,2,3,4]))\n",
      "print C8.dot(np.array([0,0,0,0,1,2,3,4]))"
     ],
     "language": "python",
     "metadata": {},
     "outputs": [
      {
       "output_type": "stream",
       "stream": "stdout",
       "text": [
        "[[ 0.  0.  0. -1.  0.  0.  0.  5.]]\n",
        "[[ 0.  0.  0. -1.  0.  0.  0.  5.]]\n",
        "[[ 0.  0.  0. -1.  0.  0.  0.  1.]]\n",
        "[[-4.  0.  0. -1.  0.  0.  0.  5.]]\n"
       ]
      }
     ],
     "prompt_number": 12
    },
    {
     "cell_type": "markdown",
     "metadata": {},
     "source": [
      "## Finite Difference Solution to Differential Equation with Dirichlet Boundary Conditions\n",
      "\n",
      "**Example** Solve the differential and difference equations with constant force $f(x)=1$ and fixed ends $u(0)=u_0=u(1)=u_1=0$. \n",
      "\n",
      "\\begin{align*}\n",
      "-\\frac{d^2u}{dx^2}&=1\\ \\ \\ \\text{with} \\ \\ \\ u(0)=0 \\ \\ \\ \\text{and}\\ \\ \\ u(1)=0\\\\\n",
      "\\frac{-u_{i+1}+2u_1-u_{i-1}}{h^2}&=1\\ \\ \\ \\text{with} \\ \\ \\ u_0=0 \\ \\ \\ \\text{and}\\ \\ \\ u_{n+1}=0\n",
      "\\end{align*}\n",
      "\n",
      "### Analytic solution to differential equation\n",
      "$$u(x)=\\frac12x-\\frac12x^2$$"
     ]
    },
    {
     "cell_type": "code",
     "collapsed": false,
     "input": [
      "def fixedFixedPlot(differential_equation,force_vec,xi,xf,h,mesh_density,should_I_plot=True):\n",
      "\n",
      "    # independent vector for differential equation\n",
      "    u_ind_vec = np.linspace(xi,xf,mesh_density)\n",
      "    \n",
      "    # difference equation solution\n",
      "    K = h**2*KTBC('K',h-1)\n",
      "    soln = nla.solve(K,force_vec)\n",
      "    soln = np.insert(soln,0,0)\n",
      "    soln = np.insert(np.zeros(1),0,soln)\n",
      "    soln_ind_vec = np.linspace(xi,xf,h+1)\n",
      "\n",
      "    # plots\n",
      "    if (should_I_plot == True): \n",
      "        plt.plot(u_ind_vec,u(u_ind_vec)) # plot differential equation\n",
      "        plt.plot(soln_ind_vec,soln) # plot difference equation\n",
      "    \n",
      "    return soln_ind_vec, soln, u_ind_vec, u(u_ind_vec)"
     ],
     "language": "python",
     "metadata": {},
     "outputs": [],
     "prompt_number": 26
    },
    {
     "cell_type": "code",
     "collapsed": false,
     "input": [
      "u = lambda x: 0.5*x - 0.5*x**2\n",
      "f3 = np.ones(3)\n",
      "f6 = np.ones(6)\n",
      "f9 = np.ones(9)\n",
      "\n",
      "vecs_1 = fixedFixedPlot(u,f3,0,1,4,500, False)\n",
      "vecs_2 = fixedFixedPlot(u,f6,0,1,7,500, False)\n",
      "vecs_3 = fixedFixedPlot(u,f9,0,1,10,500, False)\n",
      "\n",
      "fig, (ax1,ax2,ax3) = plt.subplots(figsize=(15,5),ncols=3)\n",
      "ax1.plot(vecs_1[0],vecs_1[1])\n",
      "ax1.plot(vecs_1[2],vecs_1[3])\n",
      "ax2.plot(vecs_2[0],vecs_2[1])\n",
      "ax2.plot(vecs_2[2],vecs_2[3])\n",
      "ax3.plot(vecs_3[0],vecs_3[1])\n",
      "ax3.plot(vecs_3[2],vecs_3[3])\n",
      "\n",
      "print vecs_1[1]\n",
      "print vecs_2[1]\n",
      "print vecs_3[1]"
     ],
     "language": "python",
     "metadata": {},
     "outputs": [
      {
       "output_type": "stream",
       "stream": "stdout",
       "text": [
        "[ 0.       0.09375  0.125    0.09375  0.     ]\n",
        "[ 0.          0.06122449  0.10204082  0.12244898  0.12244898  0.10204082\n",
        "  0.06122449  0.        ]\n",
        "[ 0.     0.045  0.08   0.105  0.12   0.125  0.12   0.105  0.08   0.045  0.   ]\n"
       ]
      },
      {
       "metadata": {},
       "output_type": "display_data",
       "png": "[encoded data removed]",
       "text": [
        "<matplotlib.figure.Figure at 0x1122d4750>"
       ]
      }
     ],
     "prompt_number": 27
    },
    {
     "cell_type": "markdown",
     "metadata": {},
     "source": [
      "## Finite Difference Solution to Differential Equation with Dirichlet Boundary Conditions\n",
      "\n",
      "**Example** Solve the differential and difference equations with constant force $f(x)=1$ and fixed ends $u(0)=u_0=u(1)=u_1=0$. \n",
      "\n",
      "\\begin{align*}\n",
      "-\\frac{d^2u}{dx^2}&=x\\ \\ \\ \\text{with} \\ \\ \\ u(0)=0 \\ \\ \\ \\text{and}\\ \\ \\ u(1)=0\\\\\n",
      "\\frac{-u_{i+1}+2u_1-u_{i-1}}{h^2}&=x\\ \\ \\ \\text{with} \\ \\ \\ u_0=0 \\ \\ \\ \\text{and}\\ \\ \\ u_{n+1}=0\n",
      "\\end{align*}\n",
      "\n",
      "### Analytic solution to differential equation\n",
      "### Analytic solution to differential equation\n",
      "$$\\myAlign{\n",
      "u(x)&=E+Dx+-\\frac16x^3\\\\\n",
      "u(0)&=0\\implies E = 0\\\\\n",
      "u(1)&=0\\implies D = \\frac16\\\\\n",
      "u(x)&=\\frac16x-\\frac16x^3\n",
      "}$$"
     ]
    },
    {
     "cell_type": "code",
     "collapsed": false,
     "input": [
      "u = lambda x: (1./6)*x - (1./6)*x**3\n",
      "f3 = np.linspace(-1,0,3)\n",
      "f6 = np.linspace(-1,0,6)\n",
      "f9 = np.linspace(-1,0,9)\n",
      "\n",
      "vecs_1 = fixedFixedPlot(u,f3,-1,0,4,500, False)\n",
      "vecs_2 = fixedFixedPlot(u,f6,-1,0,7,500, False)\n",
      "vecs_3 = fixedFixedPlot(u,f9,-1,0,10,500, False)\n",
      "\n",
      "fig, (ax1,ax2,ax3) = plt.subplots(figsize=(15,5),ncols=3)\n",
      "ax1.plot(vecs_1[0],vecs_1[1])\n",
      "ax1.plot(vecs_1[2],vecs_1[3])\n",
      "ax2.plot(vecs_2[0],vecs_2[1])\n",
      "ax2.plot(vecs_2[2],vecs_2[3])\n",
      "ax3.plot(vecs_3[0],vecs_3[1])\n",
      "ax3.plot(vecs_3[2],vecs_3[3])\n",
      "\n",
      "print vecs_1[1]\n",
      "print vecs_2[1]\n",
      "print vecs_3[1]"
     ],
     "language": "python",
     "metadata": {},
     "outputs": [
      {
       "output_type": "stream",
       "stream": "stdout",
       "text": [
        "[ 0.      -0.0625  -0.0625  -0.03125  0.     ]\n",
        "[ 0.         -0.04081633 -0.06122449 -0.06530612 -0.05714286 -0.04081633\n",
        " -0.02040816  0.        ]\n",
        "[ 0.      -0.03    -0.05    -0.06125 -0.065   -0.0625  -0.055   -0.04375\n",
        " -0.03    -0.015    0.     ]\n"
       ]
      },
      {
       "metadata": {},
       "output_type": "display_data",
       "png": "[encoded data removed]",
       "text": [
        "<matplotlib.figure.Figure at 0x111695410>"
       ]
      }
     ],
     "prompt_number": 29
    },
    {
     "cell_type": "markdown",
     "metadata": {},
     "source": [
      "## Finite Difference Solution to Differential Equation with Mixed Boundary Conditions\n",
      "\n",
      "### Free-Fixed\n",
      "\n",
      "Solve the differential and difference equations with constant force $f(x)=1$ and one free end $u'(0)=0$ and one fixed end $u(1)=u_1=0$. \n",
      "\n",
      "\\begin{align*}\n",
      "-\\diff{^2u}{x^2}&=1\\ \\ \\ \\text{with} \\ \\ \\ \\diff{u}{x}(0)=0 \\ \\ \\ \\text{and}\\ \\ \\ u(1)=0\\\\\n",
      "\\frac{-u_{i+1}+2u_1-u_{i-1}}{h^2}&=1\\ \\ \\ \\text{with} \\ \\ \\ \\frac{u_1-u_0}{h}=0 \\ \\ \\ \\text{and}\\ \\ \\ u_{n+1}=0\n",
      "\\end{align*}\n",
      "\n",
      "### Analytic solution to differential equation\n",
      "$$\\myAlign{\n",
      "u_p(x)&=-\\frac12x^2\\\\\n",
      "u_c&=Cx+D\\\\\n",
      "u(x)&=D+Cx-\\frac12x^2\\\\\n",
      "u'(x)&=C-x\\\\\n",
      "u'(0)&=0\\implies C = 0\\\\\n",
      "u(1)&=0\\implies D = \\frac12\\\\\n",
      "u(x)&=\\frac12-\\frac12x^2\n",
      "}$$\n",
      "\n",
      "### Free-Fixed Difference Matrix\n",
      "Free-fixed boundary conditions mean we use $T_n$"
     ]
    },
    {
     "cell_type": "code",
     "collapsed": false,
     "input": [
      "def freeFixedPlot(anlyt_soln,force_vec,xi,xf,h,density,should_I_plot=True):\n",
      "    # independent vector for diffy\n",
      "    u_ind_vec = np.linspace(xi,xf,density)\n",
      "    \n",
      "    # plot differential equation\n",
      "    if (should_I_plot == True): plt.plot(u_ind_vec,anlyt_soln(u_ind_vec))\n",
      "    \n",
      "    # difference equation solution\n",
      "    T = h**2*KTBC('T',h-1)\n",
      "    soln = nla.solve(T,force_vec)\n",
      "    soln = np.insert(soln,0,soln[0])\n",
      "    soln = np.insert(np.zeros(1),0,soln)\n",
      "    soln_ind_vec = np.linspace(0,1,h+1)\n",
      "\n",
      "    # plot difference equation\n",
      "    if (should_I_plot == True): plt.plot(soln_ind_vec,soln)\n",
      "    \n",
      "    return soln_ind_vec, soln, u_ind_vec, anlyt_soln(u_ind_vec)\n",
      "\n",
      "v = lambda x: 1./2-1./2*x**2\n",
      "\n",
      "vecs_4 = freeFixedPlot(v,f3,0,1,4,500, False)\n",
      "vecs_5 = freeFixedPlot(v,f6,0,1,7,500, False)\n",
      "vecs_6 = freeFixedPlot(v,np.ones(29),0,1,30,500, False)\n",
      "\n",
      "fig, (ax1,ax2,ax3) = plt.subplots(figsize=(15,5),ncols=3)\n",
      "ax1.plot(vecs_4[0],vecs_4[1])\n",
      "ax1.plot(vecs_4[2],vecs_4[3])\n",
      "ax2.plot(vecs_5[0],vecs_5[1])\n",
      "ax2.plot(vecs_5[2],vecs_5[3])\n",
      "ax3.plot(vecs_6[0],vecs_6[1])\n",
      "ax3.plot(vecs_6[2],vecs_6[3])\n",
      "\n",
      "print vecs_4[1]\n",
      "print vecs_5[1]\n",
      "print vecs_6[1]"
     ],
     "language": "python",
     "metadata": {},
     "outputs": [
      {
       "output_type": "stream",
       "stream": "stdout",
       "text": [
        "[ 0.375   0.375   0.3125  0.1875  0.    ]\n",
        "[ 0.42857143  0.42857143  0.40816327  0.36734694  0.30612245  0.2244898\n",
        "  0.12244898  0.        ]\n",
        "[ 0.48333333  0.48333333  0.48222222  0.48        0.47666667  0.47222222\n",
        "  0.46666667  0.46        0.45222222  0.44333333  0.43333333  0.42222222\n",
        "  0.41        0.39666667  0.38222222  0.36666667  0.35        0.33222222\n",
        "  0.31333333  0.29333333  0.27222222  0.25        0.22666667  0.20222222\n",
        "  0.17666667  0.15        0.12222222  0.09333333  0.06333333  0.03222222\n",
        "  0.        ]\n"
       ]
      },
      {
       "metadata": {},
       "output_type": "display_data",
       "png": "[encoded data removed]",
       "text": [
        "<matplotlib.figure.Figure at 0x111140210>"
       ]
      }
     ],
     "prompt_number": 15
    },
    {
     "cell_type": "markdown",
     "metadata": {},
     "source": [
      "## Solve every $T_nu=h^2\\texttt{ones}(n,1)$\n",
      "\n",
      "$$\\myAlign{\n",
      "T_n=(\\mathbf{backward})(-\\mathbf{forward})&=\n",
      "\\mmatrix{\n",
      " 1 &    0   &        &   \\\\\n",
      "-1 &    1   &    0   &   \\\\\n",
      "   & \\ddots & \\ddots & 0 \\\\\n",
      "   &        &   -1   & 1\n",
      "}\n",
      "\\mmatrix{\n",
      " 1 &   -1   &        &    \\\\\n",
      " 0 &    1   &   -1   &    \\\\\n",
      "   & \\ddots & \\ddots & -1 \\\\\n",
      "   &        &    0   &  1\n",
      "}\\\\\n",
      "T_n^{-1}\\texttt{ones}&=\n",
      "\\mmatrix{\n",
      "1 & 1 & \\ddots & 1      \\\\\n",
      "  & 1 & 1      & \\ddots \\\\\n",
      "  &   & 1      & 1      \\\\\n",
      "  &   &        & 1\n",
      "}\n",
      "\\mmatrix{\n",
      "1       &        &   &   \\\\\n",
      "1       & 1      &   &   \\\\\n",
      "\\ddots  & 1      & 1 &   \\\\\n",
      "1       & \\ddots & 1 & 1 \\\\\n",
      "}\n",
      "\\mmatrix{\n",
      "1\\\\1\\\\\\vdots\\\\1\n",
      "}\n",
      "\\\\\n",
      "\\mathbf{u}=h^2T_n^{-1}\\texttt{ones}&=h^2\n",
      "\\mmatrix{\n",
      "1+2+\\dots+n\\\\2+\\dots+n\\\\\\dots+n\\\\n\n",
      "}\n",
      "}$$"
     ]
    },
    {
     "cell_type": "markdown",
     "metadata": {},
     "source": [
      "## Computational Experiment\n",
      "The function $u(x)=\\cos(\\pi x/2)$ satisfies free-fixed boundary conditions $u'(0)=0$ and $u(1)=0$. It solves the equation $-u''=f=(\\pi/2)^2\\cos(\\pi x/2)$.\n",
      "\n",
      "How close to $u$ are the solutions $U$ and $V$ of the finite difference equations \n",
      "\n",
      "$$T_nU=f$$\n",
      "\n",
      "$$T_{n+1}V=g$$"
     ]
    },
    {
     "cell_type": "code",
     "collapsed": false,
     "input": [
      "def experiment1_2(n):\n",
      "    x_vec = np.linspace(1,n,n)\n",
      "    h = 1./(n+1)\n",
      "    u = np.cos(np.pi*x_vec*h/2)\n",
      "    c = (np.pi/2)**2\n",
      "    f = c*u\n",
      "    T = KTBC('T',n)\n",
      "    \n",
      "    U = h**2*nla.solve(T,f)\n",
      "    e = 1 - U[1]\n",
      "    \n",
      "    return e "
     ],
     "language": "python",
     "metadata": {},
     "outputs": [],
     "prompt_number": 16
    },
    {
     "cell_type": "code",
     "collapsed": false,
     "input": [
      "experiment1_2(3), experiment1_2(7), experiment1_2(15)"
     ],
     "language": "python",
     "metadata": {},
     "outputs": [
      {
       "metadata": {},
       "output_type": "pyout",
       "prompt_number": 17,
       "text": [
        "(0.4379482267520034, 0.18880595870190775, 0.085894581272752291)"
       ]
      }
     ],
     "prompt_number": 17
    },
    {
     "cell_type": "code",
     "collapsed": false,
     "input": [
      "import numpy as np\n",
      "mesh_density = 100\n",
      "xf = 1.\n",
      "xi = 0.\n",
      "h = (xf-xi)/mesh_density\n",
      "u_ind_vec = np.linspace(xi,xf,mesh_density)\n",
      "K = (1/h**2)*KTBC('K',mesh_density)"
     ],
     "language": "python",
     "metadata": {},
     "outputs": [],
     "prompt_number": 14
    },
    {
     "cell_type": "code",
     "collapsed": false,
     "input": [
      "u = lambda x : x**3"
     ],
     "language": "python",
     "metadata": {},
     "outputs": [],
     "prompt_number": 18
    },
    {
     "cell_type": "code",
     "collapsed": false,
     "input": [],
     "language": "python",
     "metadata": {},
     "outputs": [],
     "prompt_number": 19
    },
    {
     "cell_type": "code",
     "collapsed": false,
     "input": [],
     "language": "python",
     "metadata": {},
     "outputs": []
    }
   ],
   "metadata": {}
  }
 ]
}