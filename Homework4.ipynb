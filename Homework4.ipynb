{
 "metadata": {
  "name": "",
  "signature": "sha256:525d700cee91ee413500006a5e8904fc39fc2766a73455a604fef7a6b41876f8"
 },
 "nbformat": 3,
 "nbformat_minor": 0,
 "worksheets": [
  {
   "cells": [
    {
     "cell_type": "code",
     "collapsed": false,
     "input": [
      "import numpy as np\n",
      "import math\n",
      "from scipy import integrate\n",
      "\n",
      "f = lambda x: math.sqrt(2/math.pi)*math.exp(-x**2/2)"
     ],
     "language": "python",
     "metadata": {},
     "outputs": [],
     "prompt_number": 51
    },
    {
     "cell_type": "markdown",
     "metadata": {},
     "source": [
      "### the Trapezoid Rule"
     ]
    },
    {
     "cell_type": "code",
     "collapsed": false,
     "input": [
      "f_rounded = np.array([[0.00,0.7978846],[0.125,0.7916754],[0.250,0.7733362],[0.375,0.7437102],[0.500,0.7041307],[0.625,0.6563219],[0.750,0.6022749],[0.875,0.5441100],[1.000,0.4839414]])\n",
      "\n",
      "def trap_int(f,h):\n",
      "    n = 1./h\n",
      "    sum = 0\n",
      "    for i in range(int(n)):\n",
      "        print \"add\\t\\tf(\"+str(float(i)*h)+\"): \\t\", f_rounded[i*8/n][1],\n",
      "        sum = sum + f_rounded[i*8/n][1]*h\n",
      "        print \"sum: \", sum\n",
      "    print \"subtract\\tf(0)/2:\\t\\t\", f_rounded[0][1]/2, \n",
      "    sum = sum - 0.5*f_rounded[0][1]*h \n",
      "    print \"sum: \", sum\n",
      "    print \"add\\t\\tf(1)/2:\\t\\t\", f_rounded[8][1]/2,\n",
      "    sum = sum + 0.5*f_rounded[8][1]*h\n",
      "    print \"sum: \", sum\n",
      "    \n",
      "    return sum"
     ],
     "language": "python",
     "metadata": {},
     "outputs": [],
     "prompt_number": 136
    },
    {
     "cell_type": "markdown",
     "metadata": {},
     "source": [
      "$$I = \\int_a^b f(x)\\ dx \\approx h\\bigg(\\frac{1}{2}f_0+f_1+f_2+\\dots+f_{n-2}+f_{n-2}+\\frac{1}{2}f_n\\bigg)$$\n"
     ]
    },
    {
     "cell_type": "code",
     "collapsed": false,
     "input": [
      "h = 1\n",
      "trap_int(f,h)"
     ],
     "language": "python",
     "metadata": {},
     "outputs": [
      {
       "output_type": "stream",
       "stream": "stdout",
       "text": [
        "add\t\tf(0.0): \t0.7978846 sum:  0.7978846\n",
        "subtract\tf(0)/2:\t\t0.3989423 sum:  0.3989423\n",
        "add\t\tf(1)/2:\t\t0.2419707 sum:  0.640913\n"
       ]
      },
      {
       "metadata": {},
       "output_type": "pyout",
       "prompt_number": 137,
       "text": [
        "0.64091300000000007"
       ]
      }
     ],
     "prompt_number": 137
    },
    {
     "cell_type": "code",
     "collapsed": false,
     "input": [
      "h = 0.5\n",
      "trap_int(f,h)"
     ],
     "language": "python",
     "metadata": {},
     "outputs": [
      {
       "output_type": "stream",
       "stream": "stdout",
       "text": [
        "add\t\tf(0.0): \t0.7978846 sum:  0.3989423\n",
        "add\t\tf(0.5): \t0.7041307 sum:  0.75100765\n",
        "subtract\tf(0)/2:\t\t0.3989423 sum:  0.5515365\n",
        "add\t\tf(1)/2:\t\t0.2419707 sum:  0.67252185\n"
       ]
      },
      {
       "metadata": {},
       "output_type": "pyout",
       "prompt_number": 138,
       "text": [
        "0.67252184999999998"
       ]
      }
     ],
     "prompt_number": 138
    },
    {
     "cell_type": "code",
     "collapsed": false,
     "input": [
      "h = .25\n",
      "trap_int(f,h)  "
     ],
     "language": "python",
     "metadata": {},
     "outputs": [
      {
       "output_type": "stream",
       "stream": "stdout",
       "text": [
        "add\t\tf(0.0): \t0.7978846 sum:  0.19947115\n",
        "add\t\tf(0.25): \t0.7733362 sum:  0.3928052\n",
        "add\t\tf(0.5): \t0.7041307 sum:  0.568837875\n",
        "add\t\tf(0.75): \t0.6022749 sum:  0.7194066\n",
        "subtract\tf(0)/2:\t\t0.3989423 sum:  0.619671025\n",
        "add\t\tf(1)/2:\t\t0.2419707 sum:  0.6801637\n"
       ]
      },
      {
       "metadata": {},
       "output_type": "pyout",
       "prompt_number": 139,
       "text": [
        "0.68016370000000004"
       ]
      }
     ],
     "prompt_number": 139
    },
    {
     "cell_type": "code",
     "collapsed": false,
     "input": [
      "h = .125\n",
      "trap_int(f,h)  "
     ],
     "language": "python",
     "metadata": {},
     "outputs": [
      {
       "output_type": "stream",
       "stream": "stdout",
       "text": [
        "add\t\tf(0.0): \t0.7978846 sum:  0.099735575\n",
        "add\t\tf(0.125): \t0.7916754 sum:  0.198695\n",
        "add\t\tf(0.25): \t0.7733362 sum:  0.295362025\n",
        "add\t\tf(0.375): \t0.7437102 sum:  0.3883258\n",
        "add\t\tf(0.5): \t0.7041307 sum:  0.4763421375\n",
        "add\t\tf(0.625): \t0.6563219 sum:  0.558382375\n",
        "add\t\tf(0.75): \t0.6022749 sum:  0.6336667375\n",
        "add\t\tf(0.875): \t0.54411 sum:  0.7016804875\n",
        "subtract\tf(0)/2:\t\t0.3989423 sum:  0.6518127\n",
        "add\t\tf(1)/2:\t\t0.2419707 sum:  0.6820590375\n"
       ]
      },
      {
       "metadata": {},
       "output_type": "pyout",
       "prompt_number": 140,
       "text": [
        "0.68205903750000019"
       ]
      }
     ],
     "prompt_number": 140
    },
    {
     "cell_type": "code",
     "collapsed": false,
     "input": [
      "integrate.quad(lambda x: f(x),0.,1.)"
     ],
     "language": "python",
     "metadata": {},
     "outputs": [
      {
       "metadata": {},
       "output_type": "pyout",
       "prompt_number": 141,
       "text": [
        "(0.682689492137086, 7.579375928402476e-15)"
       ]
      }
     ],
     "prompt_number": 141
    },
    {
     "cell_type": "markdown",
     "metadata": {},
     "source": [
      "### the Repeated Midpoint Rule\n",
      "$$I = \\int_a^b f(x)\\ dx \\approx h(f_{1/2}+f_{3/2}+\\dots+f_{n-(1/2)})$$"
     ]
    },
    {
     "cell_type": "code",
     "collapsed": false,
     "input": [
      "def mdp_int(f,h):\n",
      "    n = 1./h\n",
      "    sum = 0\n",
      "    for i in range(int(n)):\n",
      "        print \"add\\t\\tf(\"+str(0.5*h+float(i)*h)+\"): \\t\", f_rounded[(0.5+i)*h*8][1],\n",
      "        sum = sum + f_rounded[(0.5+i)*h*8][1]*h\n",
      "        print \"sum: \", sum    \n",
      "    return sum    "
     ],
     "language": "python",
     "metadata": {},
     "outputs": [],
     "prompt_number": 162
    },
    {
     "cell_type": "code",
     "collapsed": false,
     "input": [
      "mdp_int(f,1)"
     ],
     "language": "python",
     "metadata": {},
     "outputs": [
      {
       "output_type": "stream",
       "stream": "stdout",
       "text": [
        "add\t\tf(0.5): \t0.7041307 sum:  0.7041307\n"
       ]
      },
      {
       "metadata": {},
       "output_type": "pyout",
       "prompt_number": 163,
       "text": [
        "0.7041307"
       ]
      }
     ],
     "prompt_number": 163
    },
    {
     "cell_type": "code",
     "collapsed": false,
     "input": [
      "mdp_int(f,0.5)"
     ],
     "language": "python",
     "metadata": {},
     "outputs": [
      {
       "output_type": "stream",
       "stream": "stdout",
       "text": [
        "add\t\tf(0.25): \t0.7733362 sum:  0.3866681\n",
        "add\t\tf(0.75): \t0.6022749 sum:  0.68780555\n"
       ]
      },
      {
       "metadata": {},
       "output_type": "pyout",
       "prompt_number": 164,
       "text": [
        "0.68780554999999999"
       ]
      }
     ],
     "prompt_number": 164
    },
    {
     "cell_type": "code",
     "collapsed": false,
     "input": [
      "mdp_int(f,.25)"
     ],
     "language": "python",
     "metadata": {},
     "outputs": [
      {
       "output_type": "stream",
       "stream": "stdout",
       "text": [
        "add\t\tf(0.125): \t0.7916754 sum:  0.19791885\n",
        "add\t\tf(0.375): \t0.7437102 sum:  0.3838464\n",
        "add\t\tf(0.625): \t0.6563219 sum:  0.547926875\n",
        "add\t\tf(0.875): \t0.54411 sum:  0.683954375\n"
       ]
      },
      {
       "metadata": {},
       "output_type": "pyout",
       "prompt_number": 165,
       "text": [
        "0.683954375"
       ]
      }
     ],
     "prompt_number": 165
    },
    {
     "cell_type": "code",
     "collapsed": false,
     "input": [],
     "language": "python",
     "metadata": {},
     "outputs": []
    }
   ],
   "metadata": {}
  }
 ]
}