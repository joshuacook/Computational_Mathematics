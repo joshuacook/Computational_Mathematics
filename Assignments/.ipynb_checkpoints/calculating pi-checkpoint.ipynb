{
 "metadata": {
  "name": "",
  "signature": "sha256:85f437ec716ea11148d26420deb7469f6cfec3e357452d33154c9e515cca9cb4"
 },
 "nbformat": 3,
 "nbformat_minor": 0,
 "worksheets": [
  {
   "cells": [
    {
     "cell_type": "heading",
     "level": 3,
     "metadata": {},
     "source": [
      "Calculating $\\pi$"
     ]
    },
    {
     "cell_type": "code",
     "collapsed": false,
     "input": [
      "import numpy as np\n",
      "import numpy.random"
     ],
     "language": "python",
     "metadata": {},
     "outputs": [],
     "prompt_number": 5
    },
    {
     "cell_type": "code",
     "collapsed": false,
     "input": [
      "def mypi(n):\n",
      "   \n",
      "    nin = 0.\n",
      "    \n",
      "    for i in range(n):\n",
      "        x,y=np.random.rand(2)\n",
      "        \n",
      "        if x**2+y**2 < 1:\n",
      "            nin = nin + 1.0\n",
      "    \n",
      "    return 4*nin/n  \n",
      "\n",
      "mypi(1000000)"
     ],
     "language": "python",
     "metadata": {},
     "outputs": [
      {
       "metadata": {},
       "output_type": "pyout",
       "prompt_number": 9,
       "text": [
        "3.141692"
       ]
      }
     ],
     "prompt_number": 9
    }
   ],
   "metadata": {}
  }
 ]
}