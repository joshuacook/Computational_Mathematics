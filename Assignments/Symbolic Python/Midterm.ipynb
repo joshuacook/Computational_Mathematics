{
 "metadata": {
  "name": "",
  "signature": "sha256:0afe744a2ae48d0e68166231b317f7b1e06b38f15326d0b7d87ccaf10fcc0cb0"
 },
 "nbformat": 3,
 "nbformat_minor": 0,
 "worksheets": [
  {
   "cells": [
    {
     "cell_type": "code",
     "collapsed": false,
     "input": [
      "from sympy import diff,exp,solve, expand, simplify, init_printing, latex\n",
      "from sympy.abc import x,y,t,a\n",
      "import numpy as np\n",
      "init_printing()\n",
      "import matplotlib.pyplot as plt\n",
      "from pylab import legend\n",
      "from tabulate import tabulate\n",
      "%matplotlib inline"
     ],
     "language": "python",
     "metadata": {},
     "outputs": [],
     "prompt_number": 7
    },
    {
     "cell_type": "markdown",
     "metadata": {},
     "source": [
      "# Problem 1 \n",
      "(25 points) Show that the polynomial $p(x) = x^4 \u2212 5x^3 + 5x^2 + 5x \u2212 5$ \n"
     ]
    },
    {
     "cell_type": "code",
     "collapsed": false,
     "input": [
      "ind = np.linspace(-2,5,1000)\n",
      "dep_1 = p_1(ind) \n",
      "dep_2 = pp_1(ind)\n",
      "dep_3 = ppp_1(ind)\n",
      "p1, = plt.plot(ind, dep_1)\n",
      "p2, = plt.plot(ind, dep_2)\n",
      "p3, = plt.plot(ind, dep_3)\n",
      "legend([p1, p2, p3], [\"$f(x)$\", \"$f'(x)$\", \"$f''(x)$\"])\n",
      "plt.axhline(linewidth=1.0, color=\"black\")\n",
      "plt.axvline(linewidth=1.0, color=\"black\")\n",
      "plt.ylim(-10,10)"
     ],
     "language": "python",
     "metadata": {},
     "outputs": [
      {
       "latex": [
        "$$\\begin{pmatrix}-10, & 10\\end{pmatrix}$$"
       ],
       "metadata": {},
       "output_type": "pyout",
       "png": "[encoded data removed]",
       "prompt_number": 15,
       "text": [
        "(-10, 10)"
       ]
      },
      {
       "metadata": {},
       "output_type": "display_data",
       "png": "[encoded data removed]",
       "text": [
        "<matplotlib.figure.Figure at 0x10e24a3d0>"
       ]
      }
     ],
     "prompt_number": 15
    },
    {
     "cell_type": "code",
     "collapsed": false,
     "input": [
      "# define function\n",
      "def p_1(x): return x**4 - 5*x**3 + 5*x**2 + 5*x - 5\n",
      "pp_1 =  lambda x: 4*x**3 - 15*x**2 + 10*x + 5\n",
      "ppp_1 = lambda x: 12*x**2 - 30*x +10\n",
      "pp_1(-1.), pp_1(-0.75), p_1(-1)"
     ],
     "language": "python",
     "metadata": {},
     "outputs": [
      {
       "latex": [
        "$$\\begin{pmatrix}-24.0, & -12.625, & 1\\end{pmatrix}$$"
       ],
       "metadata": {},
       "output_type": "pyout",
       "png": "[encoded data removed]",
       "prompt_number": 13,
       "text": [
        "(-24.0, -12.625, 1)"
       ]
      }
     ],
     "prompt_number": 13
    },
    {
     "cell_type": "markdown",
     "metadata": {},
     "source": [
      "#### Fundamental Theorem of Algebra\n",
      "By the Fundamental Theorem of Algebra, $p$ has, including multiplicity, exactly four roots and $p'$ has exactly three roots."
     ]
    },
    {
     "cell_type": "code",
     "collapsed": false,
     "input": [
      "tab_vec=np.linspace(-4,4,81)\n",
      "def print_2darray(x,y,head1=\"x    \",head2=\"y    \", tablefmt=\"simple\"):\n",
      "    data = np.zeros((x.size,2))\n",
      "    for i in range(x.size):\n",
      "        data[i][0] = x[i]\n",
      "        data[i][1] = y(x[i])\n",
      "    \n",
      "    print tabulate(data,(head1,head2), tablefmt=tablefmt)\n",
      "\n",
      "print_2darray(tab_vec,p_1)"
     ],
     "language": "python",
     "metadata": {},
     "outputs": [
      {
       "output_type": "stream",
       "stream": "stdout",
       "text": [
        "  x         y\n",
        "-------  --------\n",
        "   -4    631\n",
        "   -3.9  579.489\n",
        "   -3.8  531.074\n",
        "   -3.7  485.631\n",
        "   -3.6  443.042\n",
        "   -3.5  403.188\n",
        "   -3.4  365.954\n",
        "   -3.3  331.227\n",
        "   -3.2  298.898\n",
        "   -3.1  268.857\n",
        "   -3    241\n",
        "   -2.9  215.223\n",
        "   -2.8  191.426\n",
        "   -2.7  169.509\n",
        "   -2.6  149.378\n",
        "   -2.5  130.938\n",
        "   -2.4  114.098\n",
        "   -2.3   98.7691\n",
        "   -2.2   84.8656\n",
        "   -2.1   72.3031\n",
        "   -2     61\n",
        "   -1.9   50.8771\n",
        "   -1.8   41.8576\n",
        "   -1.7   33.8671\n",
        "   -1.6   26.8336\n",
        "   -1.5   20.6875\n",
        "   -1.4   15.3616\n",
        "   -1.3   10.7911\n",
        "   -1.2    6.9136\n",
        "   -1.1    3.6691\n",
        "   -1      1\n",
        "   -0.9   -1.1489\n",
        "   -0.8   -2.8304\n",
        "   -0.7   -4.0949\n",
        "   -0.6   -4.9904\n",
        "   -0.5   -5.5625\n",
        "   -0.4   -5.8544\n",
        "   -0.3   -5.9069\n",
        "   -0.2   -5.7584\n",
        "   -0.1   -5.4449\n",
        "    0     -5\n",
        "    0.1   -4.4549\n",
        "    0.2   -3.8384\n",
        "    0.3   -3.1769\n",
        "    0.4   -2.4944\n",
        "    0.5   -1.8125\n",
        "    0.6   -1.1504\n",
        "    0.7   -0.5249\n",
        "    0.8    0.0496\n",
        "    0.9    0.5611\n",
        "    1      1\n",
        "    1.1    1.3591\n",
        "    1.2    1.6336\n",
        "    1.3    1.8211\n",
        "    1.4    1.9216\n",
        "    1.5    1.9375\n",
        "    1.6    1.8736\n",
        "    1.7    1.7371\n",
        "    1.8    1.5376\n",
        "    1.9    1.2871\n",
        "    2      1\n",
        "    2.1    0.6931\n",
        "    2.2    0.3856\n",
        "    2.3    0.0991\n",
        "    2.4   -0.1424\n",
        "    2.5   -0.3125\n",
        "    2.6   -0.3824\n",
        "    2.7   -0.3209\n",
        "    2.8   -0.0944\n",
        "    2.9    0.3331\n",
        "    3      1\n",
        "    3.1    1.9471\n",
        "    3.2    3.2176\n",
        "    3.3    4.8571\n",
        "    3.4    6.9136\n",
        "    3.5    9.4375\n",
        "    3.6   12.4816\n",
        "    3.7   16.1011\n",
        "    3.8   20.3536\n",
        "    3.9   25.2991\n",
        "    4     31\n"
       ]
      }
     ],
     "prompt_number": 92
    },
    {
     "cell_type": "markdown",
     "metadata": {},
     "source": [
      "By Theorem 1 in Hildebrand (p. 32), roots, $\\xi_1$, $\\xi_2$, $\\xi_3$, and $\\xi_4$ exist for $p$ according to the following conditions:\n",
      "\n",
      "- $\\xi_1\\in(-1.0,-0.9)$\n",
      "- $\\xi_2\\in(0.7,0.8)$\n",
      "- $\\xi_3\\in(2.3,2.4)$\n",
      "- $\\xi_4\\in(2.8,2.9)$\n",
      "\n",
      "Note that as we have found exactly four roots, we have found the intervals for all roots of the function $p$.\n",
      "\n",
      "Therefore, (a) $p$ has one real negative root, $\\xi_1$, (b) $p$ has one root in $(0,1)$, $\\xi_2$, (c) either no roots or two roots in $(2,3)$, $\\xi_3$ and $\\xi_4$, and (d) no other real roots. "
     ]
    },
    {
     "cell_type": "markdown",
     "metadata": {},
     "source": [
      "# Problem 6. \n",
      "(25 points) Starting with the third degree polynomial obtained using Newton\u2019s divided differences,\n",
      "\n",
      "$$p(x)=f[x_0]+(x-x_0)f[x_0,x_1]+(x-x_0)(x-x_1)f[x_0,x_1,x_2]+(x-x_0)(x-x_1)(x-x_2)f[x_0,x_1,x_2,x_3]$$\n",
      "\n",
      "obtain the equivalent lagrangian third degree polynomial (i.e., use the definition of each devided difference to arrive at a formula with four lagrangian polynomials of degree three)."
     ]
    },
    {
     "cell_type": "markdown",
     "metadata": {},
     "source": [
      "### Notation\n",
      "Let \n",
      "\n",
      "\\begin{align*}\n",
      "f(x_i)&=f_i\\\\\n",
      "\\pi_3(x_i)&=(x-x_0)(x-x_1)(x-x_2)(x-x_3)\\\\\n",
      "X_0 &= (x-x_0)\\\\\n",
      "X_1 &= (x-x_1)\\\\\n",
      "X_2 &= (x-x_2)\\\\\n",
      "X_3 &= (x-x_3)\\\\\n",
      "X_{01} &= (x_0-x_1)= -X_{10}\\\\\n",
      "X_{02} &= (x_0-x_2)= -X_{20}\\\\\n",
      "X_{03} &= (x_0-x_3)= -X_{30}\\\\\n",
      "X_{10} &= (x_1-x_0)= -X_{01}\\\\\n",
      "X_{12} &= (x_1-x_2)= -X_{21}\\\\\n",
      "X_{13} &= (x_1-x_3)= -X_{31}\\\\\n",
      "X_{20} &= (x_2-x_0)= -X_{02}\\\\\n",
      "X_{21} &= (x_2-x_1)= -X_{12}\\\\\n",
      "X_{23} &= (x_2-x_3)= -X_{32}\\\\\n",
      "X_{30} &= (x_3-x_0)= -X_{03}\\\\\n",
      "X_{31} &= (x_3-x_1)= -X_{13}\\\\\n",
      "X_{32} &= (x_3-x_2)= -X_{23}\\\\\n",
      "\\end{align*}"
     ]
    },
    {
     "cell_type": "markdown",
     "metadata": {},
     "source": [
      "### Solution\n",
      "\\begin{align*}\n",
      "p(x)&=f[x_0]+X_0f[x_0,x_1]+X_0X_1f[x_0,x_1,x_2]+X_0X_1X_2f[x_0,x_1,x_2,x_3]\\\\\n",
      "p(x)&=f[x_0]+X_0f[x_0,x_1]+X_0X_1f[x_0,x_1,x_2]+X_0X_1X_2\\frac{f[x_1,x_2,x_3]-f[x_0,x_1,x_2]}{X_{30}}\\\\\n",
      "p(x)&=f[x_0]+X_0f[x_0,x_1]+X_0X_1f[x_0,x_1,x_2]+\\frac{X_0X_1X_2}{X_{30}}f[x_1,x_2,x_3]-\\frac{X_0X_1X_2}{X_{30}}f[x_0,x_1,x_2]\\\\\n",
      "p(x)&=f[x_0]+X_0f[x_0,x_1]+X_0X_1f[x_0,x_1,x_2]-\\frac{X_0X_1X_2}{X_{30}}f[x_0,x_1,x_2]+\\frac{X_0X_1X_2}{X_{30}}f[x_1,x_2,x_3]\\\\\n",
      "p(x)&=f[x_0]+X_0f[x_0,x_1]+\\bigg(X_0X_1-\\frac{X_0X_1X_2}{X_{30}}\\bigg)f[x_0,x_1,x_2]+\\frac{X_0X_1X_2}{X_{30}}f[x_1,x_2,x_3]\\\\\n",
      "p(x)&=f[x_0]+X_0f[x_0,x_1]+\\bigg(X_0X_1-\\frac{X_0X_1X_2}{X_{30}}\\bigg)\\bigg(\\frac{f[x_1,x_2]-f[x_0,x_1]}{X_{20}}\\bigg)+\\frac{X_0X_1X_2}{X_{30}}\\bigg(\\frac{f[x_2,x_3]-f[x_1,x_2]}{X_{31}}\\bigg)\\\\\n",
      "p(x)&=f[x_0]+X_0f[x_0,x_1]+\\bigg(\\frac{X_0X_1}{X_{20}}-\\frac{X_0X_1X_2}{X_{30}X_{20}}\\bigg)(f[x_1,x_2]-f[x_0,x_1])+\\frac{X_0X_1X_2}{X_{30}X_{31}}(f[x_2,x_3]-f[x_1,x_2])\\\\\n",
      "p(x)&=f[x_0]+X_0f[x_0,x_1]+\\bigg(\\frac{X_0X_1}{X_{20}}-\\frac{X_0X_1X_2}{X_{30}X_{20}}\\bigg)f[x_1,x_2]-\\bigg(\\frac{X_0X_1}{X_{20}}-\\frac{X_0X_1X_2}{X_{30}X_{20}}\\bigg)f[x_0,x_1]+\\frac{X_0X_1X_2}{X_{30}X_{31}}f[x_2,x_3]-\\frac{X_0X_1X_2}{X_{30}X_{31}}f[x_1,x_2]\\\\\n",
      "p(x)&=f[x_0]+\\bigg(X_0-\\frac{X_0X_1}{X_{20}}+\\frac{X_0X_1X_2}{X_{30}X_{20}}\\bigg)f[x_0,x_1]+\\bigg(\\frac{X_0X_1}{X_{20}}-\\frac{X_0X_1X_2}{X_{30}X_{20}}-\\frac{X_0X_1X_2}{X_{30}X_{31}}\\bigg)f[x_1,x_2]+\\frac{X_0X_1X_2}{X_{30}X_{31}}f[x_2,x_3]\\\\\n",
      "p(x)&=f_0+\\bigg(X_0-\\frac{X_0X_1}{X_{20}}+\\frac{X_0X_1X_2}{X_{30}X_{20}}\\bigg)\\frac{f_1-f_0}{X_{10}}+\\bigg(\\frac{X_0X_1}{X_{20}}-\\frac{X_0X_1X_2}{X_{30}X_{20}}-\\frac{X_0X_1X_2}{X_{30}X_{31}}\\bigg)\\frac{f_2-f_1}{X_{21}}+\\frac{X_0X_1X_2}{X_{30}X_{31}}\\frac{f_3-f_2}{X_{32}}\\\\\n",
      "p(x)&=f_0+\\bigg(\\frac{X_0}{X_{10}}-\\frac{X_0X_1}{X_{20}X_{10}}+\\frac{X_0X_1X_2}{X_{30}X_{20}X_{10}}\\bigg)(f_1-f_0)+\\bigg(\\frac{X_0X_1}{X_{20}X_{21}}-\\frac{X_0X_1X_2}{X_{30}X_{20}X_{21}}-\\frac{X_0X_1X_2}{X_{30}X_{31}X_{21}}\\bigg)(f_2-f_1)+\\frac{X_0X_1X_2}{X_{30}X_{31}X_{32}}(f_3-f_2)\\\\\n",
      "p(x)&=\\bigg(1-\\frac{X_0}{X_{10}}+\\frac{X_0X_1}{X_{20}X_{10}}-\\frac{X_0X_1X_2}{X_{30}X_{20}X_{10}}\\bigg)f_0+\\bigg(\\frac{X_0}{X_{10}}-\\frac{X_0X_1}{X_{20}X_{10}}+\\frac{X_0X_1X_2}{X_{30}X_{20}X_{10}}-\\frac{X_0X_1}{X_{20}X_{21}}+\\frac{X_0X_1X_2}{X_{30}X_{20}X_{21}}+\\frac{X_0X_1X_2}{X_{30}X_{31}X_{21}}\\bigg)f_1+\\bigg(\\frac{X_0X_1}{X_{20}X_{21}}-\\frac{X_0X_1X_2}{X_{30}X_{20}X_{21}}-\\frac{X_0X_1X_2}{X_{30}X_{31}X_{21}}-\\frac{X_0X_1X_2}{X_{30}X_{31}X_{32}}\\bigg)f_2+\\frac{X_0X_1X_2}{X_{30}X_{31}X_{32}}f_3\\\\\n",
      "p(x)&=\\bigg(\\frac{X_{30}X_{20}X_{10}}{X_{30}X_{20}X_{10}}-\\frac{X_0X_{30}X_{20}}{X_{30}X_{20}X_{10}}+\\frac{X_0X_1X_{30}}{X_{30}X_{20}X_{10}}-\\frac{X_0X_1X_2}{X_{30}X_{20}X_{10}}\\bigg)f_0\\\\\n",
      "&+\\bigg(\\frac{X_0X_{20}X_{21}X_{30}X_{31}}{X_{10}X_{20}X_{21}X_{30}X_{31}}-\\frac{X_0X_1X_{21}X_{30}X_{31}}{X_{10}X_{20}X_{21}X_{30}X_{31}}+\\frac{X_0X_1X_2X_{21}X_{31}}{X_{10}X_{20}X_{21}X_{30}X_{31}}-\\frac{X_0X_1X_{10}X_{30}X_{31}}{X_{10}X_{20}X_{21}X_{30}X_{31}}+\\frac{X_0X_1X_2X_{10}X_{31}}{X_{10}X_{20}X_{21}X_{30}X_{31}}+\\frac{X_0X_1X_2X_{10}X_{20}}{X_{10}X_{20}X_{21}X_{30}X_{31}}\\bigg)f_1\\\\\n",
      "&+\\bigg(\\frac{X_0X_1X_{30}X_{31}X_{32}}{X_{20}X_{21}X_{30}X_{31}X_{32}}-\\frac{X_0X_1X_2X_{31}X_{32}}{X_{20}X_{21}X_{30}X_{31}X_{32}}-\\frac{X_0X_1X_2X_{20}X_{32}}{X_{20}X_{21}X_{30}X_{31}X_{32}}-\\frac{X_0X_1X_2X_{20}X_{21}}{X_{20}X_{21}X_{30}X_{31}X_{32}}\\bigg)f_2\\\\\n",
      "&+\\frac{X_0X_1X_2}{X_{30}X_{31}X_{32}}f_3\\\\\n",
      "p(x)&=\\bigg(\\frac{X_{30}X_{20}X_{10}-X_0X_{30}X_{20}+X_0X_1X_{30}-X_0X_1X_2}{X_{30}X_{20}X_{10}}\\bigg)f_0\\\\\n",
      "&+\\bigg(\\frac{X_0X_{20}X_{21}X_{30}X_{31}-X_0X_1X_{21}X_{30}X_{31}+X_0X_1X_2X_{21}X_{31}-X_0X_1X_{10}X_{30}X_{31}+X_0X_1X_2X_{10}X_{31}+X_0X_1X_2X_{10}X_{20}}{X_{10}X_{20}X_{21}X_{30}X_{31}}\\bigg)f_1\\\\\n",
      "&+\\bigg(\\frac{X_0X_1X_{30}X_{31}X_{32}-X_0X_1X_2X_{31}X_{32}-X_0X_1X_2X_{20}X_{32}-X_0X_1X_2X_{20}X_{21}}{X_{20}X_{21}X_{30}X_{31}X_{32}}\\bigg)f_2\\\\\n",
      "&+\\frac{X_0X_1X_2}{X_{30}X_{31}X_{32}}f_3\\\\\n",
      "\\end{align*}"
     ]
    },
    {
     "cell_type": "markdown",
     "metadata": {},
     "source": [
      "#### $l_0$"
     ]
    },
    {
     "cell_type": "markdown",
     "metadata": {},
     "source": [
      "\\begin{align*}\n",
      "l_0&=\\frac{-X_{30}X_{20}X_{10}+X_0X_{30}X_{20}-X_0X_1X_{30}+X_0X_1X_2}{X_{01}X_{02}X_{03}}\\\\\n",
      "&=\\frac{-X_{30}X_{20}X_{10}+X_0X_{30}X_{20}-X_0X_1X_{30}+xX_1X_2-x_0X_1X_2+x_3X_1X_2-x_3X_1X_2}{X_{01}X_{02}X_{03}}\\\\\n",
      "&=\\frac{-X_{30}X_{20}X_{10}+X_0X_{30}X_{20}-X_0X_1X_{30}+X_3X_1X_2+X_{30}X_1X_2}{X_{01}X_{02}X_{03}}\\\\\n",
      "&=\\frac{-X_{30}X_{20}X_{10}+X_0X_{30}X_{20}-X_0X_1X_{30}+X_1X_2X_{30}}{X_{01}X_{02}X_{03}}+\\frac{X_1X_2X_3}{X_{01}X_{02}X_{03}}\\\\\n",
      "&=X_{30}\\frac{-X_{20}X_{10}+X_0X_{20}-X_0X_1+X_1X_2}{X_{01}X_{02}X_{03}}+\\frac{\\pi(x)}{(x-x_0)\\pi'(x_0)}\\\\\n",
      "&=\\frac{X_{01}X_{02}+X_0X_{02}+X_0X_1-X_1X_2}{X_{01}X_{02}}+\\frac{\\pi(x)}{(x-x_0)\\pi'(x_0)}\\\\\n",
      "&=\\frac{X_{01}X_{02}+X_0X_{02}+xX_1-x_0X_1-x_2X_1+x_2X_1-X_1X_2}{X_{01}X_{02}}+\\frac{\\pi(x)}{(x-x_0)\\pi'(x_0)}\\\\\n",
      "&=\\frac{X_{01}X_{02}+X_0X_{02}+X_2X_1+X_{20}X_1-X_1X_2}{X_{01}X_{02}}+\\frac{\\pi(x)}{(x-x_0)\\pi'(x_0)}\\\\\n",
      "&=\\frac{X_{01}X_{02}+X_0X_{02}-X_{02}X_1}{X_{01}X_{02}}+\\frac{\\pi(x)}{(x-x_0)\\pi'(x_0)}\\\\\n",
      "&=\\frac{X_{01}+X_0-X_1}{X_{01}}+\\frac{\\pi(x)}{(x-x_0)\\pi'(x_0)}\\\\\n",
      "&=\\frac{x_0-x_1+x-x_0 - x +x_1}{X_{01}}+\\frac{\\pi(x)}{(x-x_0)\\pi'(x_0)}\\\\\n",
      "l_0&=\\frac{\\pi(x_0)}{(x-x_0)\\pi'(x_0)}\n",
      "\\end{align*}\n",
      "\n",
      "\n"
     ]
    },
    {
     "cell_type": "markdown",
     "metadata": {},
     "source": [
      "#### $l_1$\n",
      "\\begin{align*}\n",
      "l_1&=\\frac{X_0X_{20}X_{21}X_{30}X_{31}-X_0X_1X_{21}X_{30}X_{31}+X_0X_1X_2X_{21}X_{31}-X_0X_1X_{10}X_{30}X_{31}+X_0X_1X_2X_{10}X_{31}+X_0X_1X_2X_{10}X_{20}}{X_{10}X_{20}X_{21}X_{30}X_{31}}\\\\\n",
      "l_1&=\\frac{X_0X_{20}X_{21}X_{30}X_{31}-X_0X_1X_{21}X_{30}X_{31}+X_0X_1X_2X_{21}X_{31}-X_0X_1X_{10}X_{30}X_{31}+X_0X_1X_2X_{10}X_{31}}{X_{10}X_{20}X_{21}X_{30}X_{31}}+\\frac{X_1X_{10}X_{20}X_0X_2}{X_{20}X_{30}X_{10}X_{12}X_{13}}\\\\\n",
      "l_1&=\\frac{X_0X_{20}X_{21}X_{30}X_{31}-X_0X_1X_{21}X_{30}X_{31}+X_0X_1X_2X_{21}X_{31}-X_0X_1X_{10}X_{30}X_{31}+X_0X_1X_2X_{10}X_{31}}{X_{10}X_{20}X_{21}X_{30}X_{31}}+\\frac{xX_{10}X_{20}X_0X_2-x_1X_{10}X_{20}X_0X_2-x_3X_{10}X_{20}X_0X_2+x_3X_{10}X_{20}X_0X_2}{X_{20}X_{30}X_{10}X_{12}X_{13}}\\\\\n",
      "l_1&=\\frac{X_0X_{20}X_{21}X_{30}X_{31}-X_0X_1X_{21}X_{30}X_{31}+X_0X_1X_2X_{21}X_{31}-X_0X_1X_{10}X_{30}X_{31}+X_0X_1X_2X_{10}X_{31}}{X_{10}X_{20}X_{21}X_{30}X_{31}}+\\frac{X_3X_{10}X_{20}X_0X_2-X_{13}X_{10}X_{20}X_0X_2}{X_{20}X_{30}X_{10}X_{12}X_{13}}\\\\\n",
      "l_1&=\\frac{X_0X_{20}X_{21}X_{30}X_{31}-X_0X_1X_{21}X_{30}X_{31}+X_0X_1X_2X_{21}X_{31}-X_0X_1X_{10}X_{30}X_{31}+X_0X_1X_2X_{10}X_{31}-X_{13}X_{10}X_{20}X_0X_2}{X_{10}X_{20}X_{21}X_{30}X_{31}}+\\frac{x_1X_3X_{20}X_0X_2-x_0X_3X_{20}X_0X_2+x_3X_3X_{20}X_0X_2-x_3X_3X_{20}X_0X_2}{X_{20}X_{30}X_{10}X_{12}X_{13}}\\\\\n",
      "l_1&=\\frac{X_0X_{20}X_{21}X_{30}X_{31}-X_0X_1X_{21}X_{30}X_{31}+X_0X_1X_2X_{21}X_{31}-X_0X_1X_{10}X_{30}X_{31}+X_0X_1X_2X_{10}X_{31}-X_{13}X_{10}X_{20}X_0X_2-X_{31}X_3X_{20}X_0X_2}{X_{10}X_{20}X_{21}X_{30}X_{31}}+\\frac{X_{30}X_3X_{20}X_0X_2}{X_{20}X_{30}X_{10}X_{12}X_{13}}\\\\\n",
      "l_1&=\\frac{X_0X_{20}X_{21}X_{30}X_{31}-X_0X_1X_{21}X_{30}X_{31}+X_0X_1X_2X_{21}X_{31}-X_0X_1X_{10}X_{30}X_{31}+X_0X_1X_2X_{10}X_{31}+X_{31}X_{10}X_{20}X_0X_2-X_{31}X_3X_{20}X_0X_2}{X_{10}X_{20}X_{21}X_{30}X_{31}}+\\frac{X_0X_2X_3}{X_{10}X_{12}X_{13}}\\\\\n",
      "l_1&=X_0\\frac{X_{20}X_{21}X_{30}-X_1X_{21}X_{30}+X_1X_2X_{21}-X_{10}X_1X_{30}+X_{10}X_1X_2+X_{10}X_{20}X_2-X_3X_{20}X_2}{X_{10}X_{20}X_{21}X_{30}}+\\frac{\\pi(x_1)}{(x-x_1)\\pi'(x_1)}\\\\\n",
      "l_1&=X_0\\frac{X_{20}X_{21}X_{30}-X_1X_{21}X_{30}-X_{10}X_1X_{30}+X_{10}X_1X_2+x_2X_1X_2-x_1X_1X_2+x_0X_1X_2-x_0X_1X_2+X_{10}X_{20}X_2-X_3X_{20}X_2}{X_{10}X_{20}X_{21}X_{30}}+\\frac{\\pi(x_1)}{(x-x_1)\\pi'(x_1)}\\\\\n",
      "l_1&=X_0\\frac{X_{20}X_{21}X_{30}-X_1X_{21}X_{30}-X_{10}X_1X_{30}+X_{20}X_1X_2+X_{10}X_{20}X_2-X_3X_{20}X_2}{X_{10}X_{20}X_{21}X_{30}}+\\frac{\\pi(x_1)}{(x-x_1)\\pi'(x_1)}\\\\\n",
      "l_1&=X_0\\frac{X_{20}X_{21}X_{30}-x_2X_1X_{30}+x_1X_1X_{30}-x_0X_1X_{30}+x_0X_1X_{30}-X_{10}X_1X_{30}+X_{20}X_1X_2+X_{10}X_{20}X_2-X_3X_{20}X_2}{X_{10}X_{20}X_{21}X_{30}}+\\frac{\\pi(x_1)}{(x-x_1)\\pi'(x_1)}\\\\\n",
      "l_1&=X_0\\frac{X_{20}X_{21}X_{30}-X_{20}X_1X_{30}+X_{10}X_{20}X_2+X_{20}X_1X_2-X_3X_{20}X_2}{X_{10}X_{20}X_{21}X_{30}}+\\frac{\\pi(x_1)}{(x-x_1)\\pi'(x_1)}\\\\\n",
      "l_1&=X_0\\frac{X_{20}X_{21}X_{30}-xX_{20}X_{30}+x_1X_{20}X_{30}-x_2X_{20}X_{30}+x_2X_{20}X_{30}+X_{10}X_{20}X_2+X_{20}X_1X_2-X_3X_{20}X_2}{X_{10}X_{20}X_{21}X_{30}}+\\frac{\\pi(x_1)}{(x-x_1)\\pi'(x_1)}\\\\\n",
      "l_1&=X_0\\frac{-X_2X_{30}+X_{10}X_2+X_1X_2-X_3X_2}{X_{10}X_{21}X_{30}}+\\frac{\\pi(x_1)}{(x-x_1)\\pi'(x_1)}\\\\\n",
      "l_1&=X_0X_2\\frac{X_{13}+X_1-X_3}{X_{10}X_{21}X_{30}}+\\frac{\\pi(x_1)}{(x-x_1)\\pi'(x_1)}\\\\\n",
      "l_1&=X_0X_2\\frac{x_1-x_3+x-x_1-x+x_3}{X_{10}X_{21}X_{30}}+\\frac{\\pi(x_1)}{(x-x_1)\\pi'(x_1)}\\\\\n",
      "l_1&=\\frac{\\pi(x_1)}{(x-x_1)\\pi'(x_1)}\n",
      "\\end{align*}"
     ]
    },
    {
     "cell_type": "markdown",
     "metadata": {},
     "source": [
      "#### $l_2$\n",
      "\\begin{align*}\n",
      "l_2&=\\frac{X_0X_1X_{30}X_{31}X_{32}-X_0X_1X_2X_{31}X_{32}-X_0X_1X_2X_{20}X_{32}-X_0X_1X_2X_{20}X_{21}}{X_{20}X_{21}X_{30}X_{31}X_{32}}\\\\\n",
      "l_2&=\\frac{X_0X_1X_{30}X_{31}X_{32}-X_0X_1X_2X_{20}X_{32}-X_0X_1X_2X_{20}X_{21}}{X_{20}X_{21}X_{30}X_{31}X_{32}}+\\frac{X_0X_1X_2X_{31}X_{23}}{X_{20}X_{21}X_{30}X_{31}X_{32}}\\\\\\\\\n",
      "l_2&=\\frac{X_0X_1X_{30}X_{31}X_{32}-X_0X_1X_2X_{20}X_{32}-X_0X_1X_2X_{20}X_{21}}{X_{20}X_{21}X_{30}X_{31}X_{32}}+\\frac{xX_0X_1X_{31}X_{23}-x_2X_0X_1X_{31}X_{23}-x_3X_0X_1X_{31}X_{23}+x_3X_0X_1X_{31}X_{23}}{X_{20}X_{21}X_{30}X_{31}X_{32}}\\\\\n",
      "l_2&=\\frac{X_0X_1X_{30}X_{31}X_{32}-X_0X_1X_2X_{20}X_{32}-X_0X_1X_2X_{20}X_{21}+X_{32}X_0X_1X_{31}X_{23}}{X_{20}X_{21}X_{30}X_{31}X_{32}}+\\frac{X_3X_0X_1X_{31}X_{23}}{X_{20}X_{21}X_{30}X_{31}X_{32}}\\\\\n",
      "l_2&=\\frac{X_0X_1X_{30}X_{31}X_{32}-X_0X_1X_2X_{20}X_{32}-X_0X_1X_2X_{20}X_{21}+X_{32}X_0X_1X_{31}X_{23}}{X_{20}X_{21}X_{30}X_{31}X_{32}}+\\frac{x_2X_3X_0X_1X_{31}-x_3X_3X_0X_1X_{31}+x_0X_3X_0X_1X_{31}-x_0X_3X_0X_1X_{31}}{X_{20}X_{21}X_{30}X_{31}X_{32}}\\\\\n",
      "l_2&=\\frac{X_0X_1X_{30}X_{31}X_{32}-X_0X_1X_2X_{20}X_{32}-X_0X_1X_2X_{20}X_{21}+X_{32}X_0X_1X_{31}X_{23}+X_{20}X_3X_0X_1X_{31}}{X_{20}X_{21}X_{30}X_{31}X_{32}}+\\frac{X_3X_0X_1}{X_{20}X_{21}X_{23}}\\\\\n",
      "l_2&=X_0X_1\\frac{X_{30}X_{31}X_{32}+x_2X_{32}X_{31}-x_3X_{32}X_{31}+x_0X_{32}X_{31}-x_0X_{32}X_{31}-X_2X_{20}X_{32}-X_2X_{20}X_{21}+X_{20}X_3X_{31}}{X_{20}X_{21}X_{30}X_{31}X_{32}}+\\frac{\\pi(x_2)}{(x-x_2)\\pi'(x_2)}\\\\\n",
      "l_2&=X_0X_1\\frac{X_{20}X_{32}X_{31}-X_2X_{20}X_{32}-X_2X_{20}X_{21}+X_{20}X_3X_{31}}{X_{20}X_{21}X_{30}X_{31}X_{32}}+\\frac{\\pi(x_2)}{(x-x_2)\\pi'(x_2)}\\\\\n",
      "l_2&=X_0X_1\\frac{X_{32}X_{31}-X_2X_{32}-X_2X_{21}+xX_{31}-x_3X_{31}+x_2X_{31}-x_2X_{31}}{X_{21}X_{30}X_{31}X_{32}}+\\frac{\\pi(x_2)}{(x-x_2)\\pi'(x_2)}\\\\\n",
      "l_2&=X_0X_1X_2\\frac{-X_{32}-X_{21}+X_{31}}{X_{21}X_{30}X_{31}X_{32}}+\\frac{\\pi(x_2)}{(x-x_2)\\pi'(x_2)}\\\\\n",
      "l_2&=X_0X_1X_2\\frac{x_2-x_3-x_2+x_1+x_3-x_1}{X_{21}X_{30}X_{31}X_{32}}+\\frac{\\pi(x_2)}{(x-x_2)\\pi'(x_2)}\\\\\n",
      "l_2&=\\frac{\\pi(x_2)}{(x-x_2)\\pi'(x_2)}\n",
      "\\end{align*}"
     ]
    },
    {
     "cell_type": "markdown",
     "metadata": {},
     "source": [
      "#### $l_3$\n",
      "\\begin{align*}\n",
      "l_3&=\\frac{X_0X_1X_2}{X_{30}X_{31}X_{32}}\\\\\n",
      "&=\\frac{\\pi(x_3)}{(x-x_3)\\pi'(x_3)}\n",
      "\\end{align*}\n"
     ]
    },
    {
     "cell_type": "markdown",
     "metadata": {},
     "source": [
      "Therefore, \n",
      "\n",
      "$$p(x)=l_0f_0+l_1f_1+l_2f_2+l_3f_3$$"
     ]
    },
    {
     "cell_type": "code",
     "collapsed": false,
     "input": [],
     "language": "python",
     "metadata": {},
     "outputs": []
    }
   ],
   "metadata": {}
  }
 ]
}