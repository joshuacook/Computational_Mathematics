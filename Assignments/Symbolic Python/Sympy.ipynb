{
 "metadata": {
  "name": "",
  "signature": "sha256:b71eb6dee5a2944e85f130e9ce6722946843366d87d731606df7fdc7cf4a81b3"
 },
 "nbformat": 3,
 "nbformat_minor": 0,
 "worksheets": [
  {
   "cells": [
    {
     "cell_type": "markdown",
     "metadata": {},
     "source": [
      "# Symbolic Python\n",
      "\n",
      "## Libraries"
     ]
    },
    {
     "cell_type": "code",
     "collapsed": false,
     "input": [
      "import numpy as np\n",
      "import sympy as sym\n",
      "from numpy.linalg import inv\n",
      "from sympy.abc import a,b,x"
     ],
     "language": "python",
     "metadata": {},
     "outputs": [],
     "prompt_number": 2
    },
    {
     "cell_type": "markdown",
     "metadata": {},
     "source": [
      "## Initialize symbolic printing"
     ]
    },
    {
     "cell_type": "code",
     "collapsed": false,
     "input": [
      "sym.init_printing"
     ],
     "language": "python",
     "metadata": {},
     "outputs": [
      {
       "metadata": {},
       "output_type": "pyout",
       "prompt_number": 4,
       "text": [
        "<function sympy.interactive.printing.init_printing>"
       ]
      }
     ],
     "prompt_number": 4
    },
    {
     "cell_type": "markdown",
     "metadata": {},
     "source": [
      "Determine that member $y(x)$ of the set of all linear functions which best approximates the function $f(x) = x^2$ over $[0, 1]$ in the sense that each of the following quantities is minimized:"
     ]
    },
    {
     "cell_type": "markdown",
     "metadata": {},
     "source": [
      "$$F(x,a,b)=\\int_0^1 \\left[f(x)-y(x,a,b)\\right]^2\\ dx$$"
     ]
    },
    {
     "cell_type": "markdown",
     "metadata": {},
     "source": [
      "### Define Functions\n",
      "Using `lambda` notation, a construct for the creation of anonymous functions."
     ]
    },
    {
     "cell_type": "code",
     "collapsed": false,
     "input": [
      "f = lambda x: x**2\n",
      "y = lambda x,a,b: a*x +b\n",
      "F = lambda x,a,b: sym.integrate((f(x)-y(x,a,b))**2,(x,0,1))"
     ],
     "language": "python",
     "metadata": {},
     "outputs": [],
     "prompt_number": 5
    },
    {
     "cell_type": "markdown",
     "metadata": {},
     "source": [
      "\n",
      "### Perform Integration"
     ]
    },
    {
     "cell_type": "code",
     "collapsed": false,
     "input": [
      "print(sym.latex(sym.diff(f1(x,a,b),a)))"
     ],
     "language": "python",
     "metadata": {},
     "outputs": [
      {
       "output_type": "stream",
       "stream": "stdout",
       "text": [
        "\\frac{2 a}{3} + b - \\frac{1}{2}\n"
       ]
      }
     ],
     "prompt_number": 9
    },
    {
     "cell_type": "markdown",
     "metadata": {},
     "source": [
      "$$\\frac{2 a}{3} + b - \\frac{1}{2}$$"
     ]
    },
    {
     "cell_type": "code",
     "collapsed": false,
     "input": [
      "print(sym.latex(sym.diff(f1(x,a,b),b)))"
     ],
     "language": "python",
     "metadata": {},
     "outputs": [
      {
       "output_type": "stream",
       "stream": "stdout",
       "text": [
        "a + 2 b - \\frac{2}{3}\n"
       ]
      }
     ],
     "prompt_number": 10
    },
    {
     "cell_type": "markdown",
     "metadata": {},
     "source": [
      "$$a + 2 b - \\frac{2}{3}$$"
     ]
    },
    {
     "cell_type": "markdown",
     "metadata": {},
     "source": [
      "### Solve System\n",
      "\n",
      "Set equal to zero and define matrices for solution to system."
     ]
    },
    {
     "cell_type": "code",
     "collapsed": false,
     "input": [
      "A = np.mat(\".6666666 1.; 1. 2.\")\n",
      "b = np.mat(\".5; .6666666\")\n",
      "inv(A)*b"
     ],
     "language": "python",
     "metadata": {},
     "outputs": [
      {
       "metadata": {},
       "output_type": "pyout",
       "prompt_number": 11,
       "text": [
        "matrix([[ 1.0000006],\n",
        "        [-0.166667 ]])"
       ]
      }
     ],
     "prompt_number": 11
    },
    {
     "cell_type": "markdown",
     "metadata": {},
     "source": [
      "\\begin{align*}\n",
      "f_1&=\\int_0^1 \\left[f(x)-y(x)\\right]^2\\ dx = \\frac{a^2}{3}+ab-\\frac{a}{2}+b^2-\\frac{2b}{3}+\\frac{1}{5}\\\\\n",
      "f_{1a}&=\\frac{2 a}{3} + b - \\frac{1}{2}\\\\\n",
      "f_(1b)&=a + 2 b - \\frac{2}{3}\\\\\n",
      "\\mmxx{\\frac{2}{3}}{1}{1}{2}\\mmx{a}{b}&=\\mmx{\\frac{1}{2}}{\\frac{2}{3}}\\\\\n",
      "\\mmx{a}{b}&=\\mmxx{\\frac{2}{3}}{1}{1}{2}^{-1}\\mmx{\\frac{1}{2}}{\\frac{2}{3}}\\\\\n",
      "\\mmx{a}{b}&=\\mmx{1}{-\\frac{1}{6}}\n",
      "\\end{align*}"
     ]
    },
    {
     "cell_type": "code",
     "collapsed": false,
     "input": [],
     "language": "python",
     "metadata": {},
     "outputs": []
    }
   ],
   "metadata": {}
  }
 ]
}